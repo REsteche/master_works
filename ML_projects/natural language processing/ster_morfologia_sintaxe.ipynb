{
 "cells": [
  {
   "cell_type": "code",
   "execution_count": 1,
   "id": "f1934de8",
   "metadata": {},
   "outputs": [],
   "source": [
    "#!pip install pt_core_news_sm"
   ]
  },
  {
   "cell_type": "code",
   "execution_count": 2,
   "id": "0b3068a6",
   "metadata": {},
   "outputs": [],
   "source": [
    "import spacy\n",
    "import pt_core_news_sm"
   ]
  },
  {
   "cell_type": "code",
   "execution_count": 11,
   "id": "2e681739",
   "metadata": {},
   "outputs": [
    {
     "name": "stdout",
     "output_type": "stream",
     "text": [
      "Pipeline: ['tagger', 'parser', 'ner']\n",
      "['pronome', 'verbo auxiliar', 'verbo', 'artigo', 'substantivo', 'adposição', 'substantivo', 'pontuação']\n"
     ]
    }
   ],
   "source": [
    "import spacy\n",
    "\n",
    "print(\"Pipeline:\", nlp.pipe_names)\n",
    "doc = nlp(\"Eu vou viajar este fim de semana.\")\n",
    "token = doc[2]  # 'I'\n",
    "token.morph  # 'Case=Nom|Number=Sing|Person=1|PronType=Prs'\n",
    "dictionary = {\"ADP\":\"adposição\", \"PROPN\": \"substantivo próprio\" ,\"PRON\": \"pronome\", \"AUX\": \"verbo auxiliar\", \"DET\":\"artigo\", \"VERB\":\"verbo\", \"NOUN\":\"substantivo\", \"PUNCT\":\"pontuação\"}\n",
    "grammer = [dictionary[token.pos_] for token in doc]\n",
    "print(grammer)"
   ]
  },
  {
   "cell_type": "code",
   "execution_count": 12,
   "id": "952b0e74",
   "metadata": {},
   "outputs": [
    {
     "data": {
      "text/plain": [
       "{'VERB': ['verbo'],\n",
       " 'Nom': ['nome'],\n",
       " 'Ind': ['indicativo', 'indefinido'],\n",
       " 'Number': ['número'],\n",
       " 'Sing': ['singular'],\n",
       " 'Plur': ['plural'],\n",
       " 'Person': ['pessoa'],\n",
       " '1': ['primeira'],\n",
       " '2': ['segunda'],\n",
       " '3': ['terceira'],\n",
       " 'Tense': ['tempo'],\n",
       " 'Pres': ['presente'],\n",
       " 'Imp': ['imperativo'],\n",
       " 'PRON': ['pronome'],\n",
       " 'PROPN': ['substantivo próprio'],\n",
       " 'Case': ['caso'],\n",
       " 'Gender': ['gênero'],\n",
       " 'Fem': ['feminino'],\n",
       " 'Masc': ['masculino'],\n",
       " 'PronType': ['tipo de pronome'],\n",
       " 'Prs': ['pessoal'],\n",
       " 'DET': ['determinador'],\n",
       " 'Definite': ['definido'],\n",
       " 'Def': ['definido'],\n",
       " 'Art': ['artigo'],\n",
       " 'AUX': ['auxiliar'],\n",
       " 'Mood': ['modo'],\n",
       " 'VerbForm': ['forma do verbo'],\n",
       " 'Fin': ['finitivo'],\n",
       " 'Inf': ['infinitivo'],\n",
       " 'Ger': ['gerúndio'],\n",
       " 'Dem': ['demonstrativo'],\n",
       " 'ADJ': ['adjetivo'],\n",
       " 'ADV': ['advérbio'],\n",
       " 'NOUN': ['substantivo'],\n",
       " 'SCONJ': ['conjunção subordinada'],\n",
       " 'Sub': ['subjuntivo'],\n",
       " 'INTJ': ['interjeição'],\n",
       " 'NUM': ['numeral'],\n",
       " 'past': ['passado']}"
      ]
     },
     "execution_count": 12,
     "metadata": {},
     "output_type": "execute_result"
    }
   ],
   "source": [
    "with open('morphology_terms.txt', encoding='utf-8') as file:\n",
    "    arq = file.readlines()\n",
    "\n",
    "translate_morp = {}\n",
    "for line in arq:\n",
    "    l = line.strip().split('\\t')\n",
    "    value = l.pop(0)\n",
    "    translate_morp[value] = l\n",
    "\n",
    "translate_morp   "
   ]
  },
  {
   "cell_type": "markdown",
   "id": "c1616a9c",
   "metadata": {},
   "source": [
    "#### Morphology Tool Library Spacy"
   ]
  },
  {
   "cell_type": "code",
   "execution_count": 13,
   "id": "82fadf8d",
   "metadata": {
    "scrolled": true
   },
   "outputs": [
    {
     "name": "stdout",
     "output_type": "stream",
     "text": [
      "{'categoria': 'substantivo', 'gênero': 'feminino', 'número': 'singular'}\n"
     ]
    }
   ],
   "source": [
    "t = nlp(u\"rede\")[0]\n",
    "result = {}\n",
    "\n",
    "if t.tag_ != \"PUNCT\":\n",
    "    try:\n",
    "        classify = t.tag_.split(\"|\")\n",
    "        category = classify[0].split(\"__\") \n",
    "        classify[0] = category.pop(1)\n",
    "        result = {\"categoria\": translate_morp[category[0]][0]}\n",
    "\n",
    "        for c in classify:\n",
    "            tag, value = c.split(\"=\")\n",
    "            if value != \"Ind\" or result[\"categoria\"] == \"verbo\":\n",
    "                result[translate_morp[tag][0]] = translate_morp[value][0] \n",
    "            else:\n",
    "                result[translate_morp[tag][0]] = translate_morp[value][1]\n",
    "    except:\n",
    "        result[\"categoria\"] = translate_morp[t.tag_][0]\n",
    "\n",
    "print(result)"
   ]
  },
  {
   "cell_type": "code",
   "execution_count": 14,
   "id": "61735a3a",
   "metadata": {},
   "outputs": [
    {
     "data": {
      "text/plain": [
       "'proper noun'"
      ]
     },
     "execution_count": 14,
     "metadata": {},
     "output_type": "execute_result"
    }
   ],
   "source": [
    "spacy.explain(\"PROPN\")"
   ]
  },
  {
   "cell_type": "code",
   "execution_count": null,
   "id": "c2d2aec5",
   "metadata": {},
   "outputs": [],
   "source": [
    "#Criar um arquivo de tradução dos termos morfológicos para o Português"
   ]
  },
  {
   "cell_type": "code",
   "execution_count": 15,
   "id": "5c9110c8",
   "metadata": {},
   "outputs": [],
   "source": [
    "with open('sintaxe_terms.txt', encoding='utf-8') as file:\n",
    "    arq = file.readlines()\n",
    "\n",
    "translate_dep = {}\n",
    "for line in arq:\n",
    "    value, l = line.strip().split(\"\\t\")\n",
    "    translate_dep[value] = l"
   ]
  },
  {
   "cell_type": "code",
   "execution_count": 16,
   "id": "6ca03c05",
   "metadata": {},
   "outputs": [
    {
     "name": "stdout",
     "output_type": "stream",
     "text": [
      "nsubj PRON\n",
      "aux AUX\n",
      "ROOT VERB\n",
      "det DET\n",
      "obj NOUN\n",
      "compound ADP\n",
      "compound NOUN\n",
      "punct PUNCT\n"
     ]
    }
   ],
   "source": [
    "for i, _ in enumerate(doc):\n",
    "    print(doc[i].dep_, doc[i].pos_)\n",
    "    doc[i].dep_ = translate_dep[doc[i].dep_].upper()\n",
    "    #doc[i].pos_ =  translate_dep[doc[i].pos_]"
   ]
  },
  {
   "cell_type": "code",
   "execution_count": 17,
   "id": "0a02095a",
   "metadata": {},
   "outputs": [],
   "source": [
    "from spacy import displacy\n",
    "from pathlib import Path\n",
    "\n",
    "svg = displacy.render(doc, style = 'dep', jupyter = False)"
   ]
  },
  {
   "cell_type": "code",
   "execution_count": 18,
   "id": "51f0b202",
   "metadata": {},
   "outputs": [
    {
     "data": {
      "text/html": [
       "<span class=\"tex2jax_ignore\"><svg xmlns=\"http://www.w3.org/2000/svg\" xmlns:xlink=\"http://www.w3.org/1999/xlink\" xml:lang=\"pt\" id=\"f73cc67d1c0940388a55567125f3ce92-0\" class=\"displacy\" width=\"1275\" height=\"312.0\" direction=\"ltr\" style=\"max-width: none; height: 312.0px; color: #000000; background: #ffffff; font-family: Arial; direction: ltr\">\n",
       "<text class=\"displacy-token\" fill=\"currentColor\" text-anchor=\"middle\" y=\"222.0\">\n",
       "    <tspan class=\"displacy-word\" fill=\"currentColor\" x=\"50\">Eu</tspan>\n",
       "    <tspan class=\"displacy-tag\" dy=\"2em\" fill=\"currentColor\" x=\"50\">PRON</tspan>\n",
       "</text>\n",
       "\n",
       "<text class=\"displacy-token\" fill=\"currentColor\" text-anchor=\"middle\" y=\"222.0\">\n",
       "    <tspan class=\"displacy-word\" fill=\"currentColor\" x=\"225\">vou</tspan>\n",
       "    <tspan class=\"displacy-tag\" dy=\"2em\" fill=\"currentColor\" x=\"225\">AUX</tspan>\n",
       "</text>\n",
       "\n",
       "<text class=\"displacy-token\" fill=\"currentColor\" text-anchor=\"middle\" y=\"222.0\">\n",
       "    <tspan class=\"displacy-word\" fill=\"currentColor\" x=\"400\">viajar</tspan>\n",
       "    <tspan class=\"displacy-tag\" dy=\"2em\" fill=\"currentColor\" x=\"400\">VERB</tspan>\n",
       "</text>\n",
       "\n",
       "<text class=\"displacy-token\" fill=\"currentColor\" text-anchor=\"middle\" y=\"222.0\">\n",
       "    <tspan class=\"displacy-word\" fill=\"currentColor\" x=\"575\">este</tspan>\n",
       "    <tspan class=\"displacy-tag\" dy=\"2em\" fill=\"currentColor\" x=\"575\">DET</tspan>\n",
       "</text>\n",
       "\n",
       "<text class=\"displacy-token\" fill=\"currentColor\" text-anchor=\"middle\" y=\"222.0\">\n",
       "    <tspan class=\"displacy-word\" fill=\"currentColor\" x=\"750\">fim</tspan>\n",
       "    <tspan class=\"displacy-tag\" dy=\"2em\" fill=\"currentColor\" x=\"750\">NOUN</tspan>\n",
       "</text>\n",
       "\n",
       "<text class=\"displacy-token\" fill=\"currentColor\" text-anchor=\"middle\" y=\"222.0\">\n",
       "    <tspan class=\"displacy-word\" fill=\"currentColor\" x=\"925\">de</tspan>\n",
       "    <tspan class=\"displacy-tag\" dy=\"2em\" fill=\"currentColor\" x=\"925\">ADP</tspan>\n",
       "</text>\n",
       "\n",
       "<text class=\"displacy-token\" fill=\"currentColor\" text-anchor=\"middle\" y=\"222.0\">\n",
       "    <tspan class=\"displacy-word\" fill=\"currentColor\" x=\"1100\">semana.</tspan>\n",
       "    <tspan class=\"displacy-tag\" dy=\"2em\" fill=\"currentColor\" x=\"1100\">NOUN</tspan>\n",
       "</text>\n",
       "\n",
       "<g class=\"displacy-arrow\">\n",
       "    <path class=\"displacy-arc\" id=\"arrow-f73cc67d1c0940388a55567125f3ce92-0-0\" stroke-width=\"2px\" d=\"M70,177.0 C70,2.0 400.0,2.0 400.0,177.0\" fill=\"none\" stroke=\"currentColor\"/>\n",
       "    <text dy=\"1.25em\" style=\"font-size: 0.8em; letter-spacing: 1px\">\n",
       "        <textPath xlink:href=\"#arrow-f73cc67d1c0940388a55567125f3ce92-0-0\" class=\"displacy-label\" startOffset=\"50%\" side=\"left\" fill=\"currentColor\" text-anchor=\"middle\">SUJEITO NOMINAL</textPath>\n",
       "    </text>\n",
       "    <path class=\"displacy-arrowhead\" d=\"M70,179.0 L62,167.0 78,167.0\" fill=\"currentColor\"/>\n",
       "</g>\n",
       "\n",
       "<g class=\"displacy-arrow\">\n",
       "    <path class=\"displacy-arc\" id=\"arrow-f73cc67d1c0940388a55567125f3ce92-0-1\" stroke-width=\"2px\" d=\"M245,177.0 C245,89.5 395.0,89.5 395.0,177.0\" fill=\"none\" stroke=\"currentColor\"/>\n",
       "    <text dy=\"1.25em\" style=\"font-size: 0.8em; letter-spacing: 1px\">\n",
       "        <textPath xlink:href=\"#arrow-f73cc67d1c0940388a55567125f3ce92-0-1\" class=\"displacy-label\" startOffset=\"50%\" side=\"left\" fill=\"currentColor\" text-anchor=\"middle\">AUXILIAR</textPath>\n",
       "    </text>\n",
       "    <path class=\"displacy-arrowhead\" d=\"M245,179.0 L237,167.0 253,167.0\" fill=\"currentColor\"/>\n",
       "</g>\n",
       "\n",
       "<g class=\"displacy-arrow\">\n",
       "    <path class=\"displacy-arc\" id=\"arrow-f73cc67d1c0940388a55567125f3ce92-0-2\" stroke-width=\"2px\" d=\"M595,177.0 C595,89.5 745.0,89.5 745.0,177.0\" fill=\"none\" stroke=\"currentColor\"/>\n",
       "    <text dy=\"1.25em\" style=\"font-size: 0.8em; letter-spacing: 1px\">\n",
       "        <textPath xlink:href=\"#arrow-f73cc67d1c0940388a55567125f3ce92-0-2\" class=\"displacy-label\" startOffset=\"50%\" side=\"left\" fill=\"currentColor\" text-anchor=\"middle\">DETERMINADOR</textPath>\n",
       "    </text>\n",
       "    <path class=\"displacy-arrowhead\" d=\"M595,179.0 L587,167.0 603,167.0\" fill=\"currentColor\"/>\n",
       "</g>\n",
       "\n",
       "<g class=\"displacy-arrow\">\n",
       "    <path class=\"displacy-arc\" id=\"arrow-f73cc67d1c0940388a55567125f3ce92-0-3\" stroke-width=\"2px\" d=\"M420,177.0 C420,2.0 750.0,2.0 750.0,177.0\" fill=\"none\" stroke=\"currentColor\"/>\n",
       "    <text dy=\"1.25em\" style=\"font-size: 0.8em; letter-spacing: 1px\">\n",
       "        <textPath xlink:href=\"#arrow-f73cc67d1c0940388a55567125f3ce92-0-3\" class=\"displacy-label\" startOffset=\"50%\" side=\"left\" fill=\"currentColor\" text-anchor=\"middle\">OBJETO</textPath>\n",
       "    </text>\n",
       "    <path class=\"displacy-arrowhead\" d=\"M750.0,179.0 L758.0,167.0 742.0,167.0\" fill=\"currentColor\"/>\n",
       "</g>\n",
       "\n",
       "<g class=\"displacy-arrow\">\n",
       "    <path class=\"displacy-arc\" id=\"arrow-f73cc67d1c0940388a55567125f3ce92-0-4\" stroke-width=\"2px\" d=\"M770,177.0 C770,89.5 920.0,89.5 920.0,177.0\" fill=\"none\" stroke=\"currentColor\"/>\n",
       "    <text dy=\"1.25em\" style=\"font-size: 0.8em; letter-spacing: 1px\">\n",
       "        <textPath xlink:href=\"#arrow-f73cc67d1c0940388a55567125f3ce92-0-4\" class=\"displacy-label\" startOffset=\"50%\" side=\"left\" fill=\"currentColor\" text-anchor=\"middle\">COMPOSTO</textPath>\n",
       "    </text>\n",
       "    <path class=\"displacy-arrowhead\" d=\"M920.0,179.0 L928.0,167.0 912.0,167.0\" fill=\"currentColor\"/>\n",
       "</g>\n",
       "\n",
       "<g class=\"displacy-arrow\">\n",
       "    <path class=\"displacy-arc\" id=\"arrow-f73cc67d1c0940388a55567125f3ce92-0-5\" stroke-width=\"2px\" d=\"M770,177.0 C770,2.0 1100.0,2.0 1100.0,177.0\" fill=\"none\" stroke=\"currentColor\"/>\n",
       "    <text dy=\"1.25em\" style=\"font-size: 0.8em; letter-spacing: 1px\">\n",
       "        <textPath xlink:href=\"#arrow-f73cc67d1c0940388a55567125f3ce92-0-5\" class=\"displacy-label\" startOffset=\"50%\" side=\"left\" fill=\"currentColor\" text-anchor=\"middle\">COMPOSTO</textPath>\n",
       "    </text>\n",
       "    <path class=\"displacy-arrowhead\" d=\"M1100.0,179.0 L1108.0,167.0 1092.0,167.0\" fill=\"currentColor\"/>\n",
       "</g>\n",
       "</svg></span>"
      ],
      "text/plain": [
       "<IPython.core.display.HTML object>"
      ]
     },
     "metadata": {},
     "output_type": "display_data"
    }
   ],
   "source": [
    "displacy.render(doc, style = 'dep', jupyter = True)"
   ]
  },
  {
   "cell_type": "code",
   "execution_count": 19,
   "id": "fb017a86",
   "metadata": {},
   "outputs": [
    {
     "name": "stdout",
     "output_type": "stream",
     "text": [
      "viajar --> SUJEITO NOMINAL --> Eu\n",
      "viajar --> AUXILIAR --> vou\n",
      "viajar --> RAÍZ --> viajar\n",
      "fim --> DETERMINADOR --> este\n",
      "viajar --> OBJETO --> fim\n",
      "fim --> COMPOSTO --> de\n",
      "fim --> COMPOSTO --> semana\n",
      "viajar --> PONTUAÇÃO --> .\n"
     ]
    }
   ],
   "source": [
    "for token in doc:\n",
    "    print(f\"{token.head.text} --> {token.dep_.upper()} --> {token.text}\")"
   ]
  },
  {
   "cell_type": "markdown",
   "id": "70e27df8",
   "metadata": {},
   "source": [
    "#### API Sintaxe Tool Return - Json File"
   ]
  },
  {
   "cell_type": "code",
   "execution_count": 20,
   "id": "feaf0166",
   "metadata": {},
   "outputs": [
    {
     "data": {
      "text/plain": [
       "defaultdict(list,\n",
       "            {'viajar': [('SUJEITO NOMINAL', 'Eu'),\n",
       "              ('AUXILIAR', 'vou'),\n",
       "              ('RAÍZ', 'viajar'),\n",
       "              ('OBJETO', 'fim')],\n",
       "             'fim': [('DETERMINADOR', 'este'),\n",
       "              ('COMPOSTO', 'de'),\n",
       "              ('COMPOSTO', 'semana')]})"
      ]
     },
     "execution_count": 20,
     "metadata": {},
     "output_type": "execute_result"
    }
   ],
   "source": [
    "from collections import defaultdict\n",
    "\n",
    "return_ = defaultdict(list)\n",
    "\n",
    "for token in doc:\n",
    "    if token.dep_.upper() != \"PONTUAÇÃO\":\n",
    "        return_[token.head.text].append((token.dep_, token.text))\n",
    "\n",
    "return_"
   ]
  },
  {
   "cell_type": "code",
   "execution_count": 21,
   "id": "acb9e5b9",
   "metadata": {},
   "outputs": [],
   "source": [
    "#!pip install --user svglib"
   ]
  },
  {
   "cell_type": "markdown",
   "id": "360ce570",
   "metadata": {},
   "source": [
    "#### API Sintaxe Tool Return - SVG Image "
   ]
  },
  {
   "cell_type": "code",
   "execution_count": 22,
   "id": "85deb409",
   "metadata": {},
   "outputs": [],
   "source": [
    "output_path = Path(\"svg_file.svg\")\n",
    "output_path.open(\"w\", encoding=\"utf-8\").write(svg)\n",
    "\n",
    "from svglib.svglib import svg2rlg\n",
    "from reportlab.graphics import renderPM\n",
    "\n",
    "drawing = svg2rlg('svg_file.svg')\n",
    "renderPM.drawToFile(drawing, 'ice.png', fmt='PNG')"
   ]
  }
 ],
 "metadata": {
  "kernelspec": {
   "display_name": "Python 3",
   "language": "python",
   "name": "python3"
  },
  "language_info": {
   "codemirror_mode": {
    "name": "ipython",
    "version": 3
   },
   "file_extension": ".py",
   "mimetype": "text/x-python",
   "name": "python",
   "nbconvert_exporter": "python",
   "pygments_lexer": "ipython3",
   "version": "3.8.8"
  }
 },
 "nbformat": 4,
 "nbformat_minor": 5
}
