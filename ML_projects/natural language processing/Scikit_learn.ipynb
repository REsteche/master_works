{
  "nbformat": 4,
  "nbformat_minor": 0,
  "metadata": {
    "colab": {
      "name": "Scikit-learn.ipynb",
      "provenance": []
    },
    "kernelspec": {
      "name": "python3",
      "display_name": "Python 3"
    },
    "language_info": {
      "name": "python"
    },
    "gpuClass": "standard"
  },
  "cells": [
    {
      "cell_type": "code",
      "source": [
        "from IPython.display import set_matplotlib_formats\n",
        "set_matplotlib_formats('pdf', 'svg')"
      ],
      "metadata": {
        "id": "6n9E5CwOd4ox"
      },
      "execution_count": 5,
      "outputs": []
    },
    {
      "cell_type": "markdown",
      "source": [
        "# Anotações primeiro contato com sklearn (scikit.learn)\n"
      ],
      "metadata": {
        "id": "otoiFBcBXYYS"
      }
    },
    {
      "cell_type": "code",
      "execution_count": null,
      "metadata": {
        "id": "phTLBi_nRy7v"
      },
      "outputs": [],
      "source": [
        "import numpy as np\n",
        "import matplotlib.pyplot as plt"
      ]
    },
    {
      "cell_type": "markdown",
      "source": [
        "### Fresh Start: \n",
        "\n",
        "* https://archive.ics.uci.edu/ml/index.php \n",
        "> Repositório aberto com datasets que podem ser usados para treinar ML, praticar e como propósitos didáticos - sempre que possível, podemos utilizar esse site como base para os projetos que quisermos executar ou postagens em formato de blog.\n",
        "\n",
        "Nesse notebook, vamos trabalhar um projeto envolvendo o dataset da UCI: \n",
        "[Car Evaluation Data Set](https://archive.ics.uci.edu/ml/datasets/Car+Evaluation) \n",
        "\n",
        "Todavia, vamos rodar algumas celulas antes com diversos outros datasets, tanto do UCI quando amostras para teste da própria scikit.learn no intuito ne nos aprofundarmos mais com a lib skilearn.\n",
        "\n",
        "Antes de escrevermos algo, dessa vez vamos atentar a como salvar um modelo já treinado e reutilizar ele em outras run's (vide o projeto de aprendizagem de texto que fiz anteriormente, que ficou claro o quanto demora para treinar e rodar um modelo por si só- principalmente sem uma GPU muito eficiente) \n",
        "\n"
      ],
      "metadata": {
        "id": "YmYshoK4U7AI"
      }
    },
    {
      "cell_type": "code",
      "source": [
        "# Primeiramente importar esse modulo\n",
        "from sklearn.externals import joblib\n",
        "\n",
        "#Digamos que a run do modelo seja\n",
        "clf.fit = (X_train, y_train)\n",
        "\n",
        "#após treinar o modelo, fazemos: \n",
        "filename = 'model.sav'\n",
        "joblib.dump(clf,filename)\n",
        "\n",
        "#da próxima vez que for rodar o modelo, del no save.script e roda\n",
        "clf = joblib.load(filename)  "
      ],
      "metadata": {
        "id": "kSBNOKcOWQ5P"
      },
      "execution_count": null,
      "outputs": []
    },
    {
      "cell_type": "markdown",
      "source": [
        "### Split de treino: \n",
        "\n",
        "Dado um dataset (100% dos dados que temos disponíveis) Podemos usar alguns métodos para utilizar esses dados não só para treinar nosso modelo, mas também para testar a acurácia do mesmo. Para isso, reservamos alguma quantidade específica no nosso sampling para verificar como o predict do nosso modelo infere algo corretamente sobre eles antes de ter conhecimento dos mesmos.\n"
      ],
      "metadata": {
        "id": "KhVaLdducZEo"
      }
    },
    {
      "cell_type": "code",
      "source": [
        "from sklearn import datasets\n",
        "import numpy as np\n",
        "\n",
        "iris = datasets.load_iris()\n",
        "#split in features and labels\n",
        "X = iris.data\n",
        "y = iris.target\n",
        "\n",
        "print(X.shape)\n",
        "print(y.shape)"
      ],
      "metadata": {
        "colab": {
          "base_uri": "https://localhost:8080/"
        },
        "id": "XiOQPevWcoDt",
        "outputId": "d76df48f-99a0-4af7-80dd-98ec4d30e1f4"
      },
      "execution_count": null,
      "outputs": [
        {
          "output_type": "stream",
          "name": "stdout",
          "text": [
            "(150, 4)\n",
            "(150,)\n"
          ]
        }
      ]
    },
    {
      "cell_type": "code",
      "source": [
        "#hours of study vs good/bad grades\n",
        "#10 diff students\n",
        "#train with 8 students\n",
        "#predict with remaining 2\n",
        "#level of accuracy ^^\n",
        "\n",
        "from sklearn.model_selection import train_test_split\n",
        "\n",
        "X_train, X_test, y_train, y_test = train_test_split(X, y, test_size = 0.2) #definindo o grupo de teste como 20% do dataset\n",
        "\n",
        "print(X_train.shape)\n",
        "print(X_test.shape)\n",
        "print(y_train.shape)\n",
        "print(y_test.shape)"
      ],
      "metadata": {
        "colab": {
          "base_uri": "https://localhost:8080/"
        },
        "id": "jZ8-cRmrd3uN",
        "outputId": "fb2adefb-d479-4f92-ae37-7199bf401b9f"
      },
      "execution_count": null,
      "outputs": [
        {
          "output_type": "stream",
          "name": "stdout",
          "text": [
            "(120, 4)\n",
            "(30, 4)\n",
            "(120,)\n",
            "(30,)\n"
          ]
        }
      ]
    },
    {
      "cell_type": "markdown",
      "source": [
        "### NNC: method - Nearest Neighbors Classification\n",
        "\n",
        "\n",
        "- Tem interesse em visualizar o que estamos falando nessa sessão? rode `/spyder/programs/knn_iris_classifier.py`\n",
        "\n",
        "\"O algoritmo KNN assume que coisas semelhantes existem nas proximidades. Em outras palavras, coisas semelhantes estão próximas umas das outras.\"\n",
        "\n",
        "\n",
        "\n",
        "como calcula a proximidade de uma N dimensão? Existem várias técnicas para o cálculo da distância\n",
        "\n",
        "* Euclidean\n",
        "\n",
        "* Hamming\n",
        "\n",
        "* Manhattan\n",
        "\n",
        "* Mahalanobis\n",
        "\n",
        "* Minkowski\n",
        "\n",
        "A mais utilizada é a distância Euclidiana, e uma ótima maneira de explicar ela é utilizar a distância Manhattan para exemplificar a diferença entre elas.\n",
        "\n",
        "A **distância euclidiana** representa a distância mais curta entre dois pontos. A **distância de Manhattan** é a soma das diferenças absolutas entre os pontos em todas as dimensões.\n",
        "\n",
        "A **distância de Hamming** calcula a distância entre dois vetores binários. Essa técnica acaba sendo uma boa opção para casos de variáveis categóricas (one-hot).\n",
        "\n",
        "A **distância de Mahalanobis** é a distância entre dois pontos no espaço multivariado. Em caso de variáveis não correlacionadas a distância Euclidiana acaba resultando a mesma coisa que a distância Mahalanobis. Porém quando temos mais de duas variáveis correlacionadas, pode se tornar impossível traçar a distância entre eles com um única reta. \n",
        "\n",
        "#### Hiperparâmetros da função KNN\n",
        "\n",
        "* **N-neighbourd** > número de vizinhos a serem considerados\n",
        "\n",
        "* **Algoritmo** > A opções ‘auto’, ‘ball_tree’, ‘kd_tree’, ‘brute’ são algoritmos disponíveis para calcular o vizinho mais próximo. A opção ’auto’ deixa a cargo do algoritmo escolher qual tecnica é a mais adequada para aquele determinado problema, olhando para o resultado obtido nas observações anteriores. Já o algoritmo ’ball_tree’, é aconselhável utilizar para problemas com grande número de dimensões, diferente do ‘kd_tree’. Em contrapartida, o custo computacional é maior. A vantage do ‘kd_tree’ é em cima do ‘brute’ em problemas BigData com muitas observações, já que ele utiliza o conhecimento prévio adquirido das distâncias anteriores para inferir. A ideia básica é que se o ponto A está muito distante do ponto B e o ponto B está muito próximo do ponto C, então sabemos que os pontos A — C estão muito distantes, sem ter que calcular explicitamente sua distância. E por fim, ’brute’ calcula a distância de todos os pontos possíveis.\n",
        "\n",
        "* **Leaf size** > Quanto maior, mais rápido será o processamento pois os grupos de amostras serão grande o suficiente para formação de poucos nós. O momento que você precisa se preocupar com esse parâmetro é quando o conjunto de dados é muito grande e o algoritmo escolhido for ’brute’. Seu valor de amostra default é 30.\n",
        "\n",
        "* **p** > 1 ativa a utilização da distância de Manhattan e 2 da distância Euclidiana. Caso não seja inserido nenhum input, distância de minkowski será ativada que é a generalização das distâncias de Manhattan e Euclidiana.\n",
        "\n",
        "* **Metric** > Esse parâmetro escolhemos o tipo de distância que mais se adequa para o problema em questão. O site do scikit-learn tem ótimas tabelas para ilustrar as medidas de distância e o tipo de problema que são utilizadas.\n",
        "\n",
        "* **Weight** > é o inverso da distância que pode ser configurado de três maneiras: ‘uniform’, ‘distance’ e callable. Uniform usa o mesmo pedo para todas os vizinhos. Distance já atribui pesos maiores para os vizinhos mais próximos. Por fim, callable você incorpora uma função em específico.\n",
        "\n",
        "Referências e mais detalhes: \n",
        "- https://medium.com/data-hackers/knn-k-nearest-neighbor-o-que-%C3%A9-aeebe0f833eb\n",
        "\n",
        "- https://link.springer.com/article/10.1007/s42452-019-1329-z\n",
        "\n",
        "- https://scikit-learn.org/stable/modules/neighbors.html#neighbors\n",
        "\n",
        "Vamos agora usar o que aprendemos até aqui como prometido aplicado no dataset da avaliação de carros da UCI. Para isso, vamos usar as seguintes linhas em nosso código, além das bibliotecas exportadas: \n",
        "\n",
        "```Python \n",
        "from google.colab import drive\n",
        "drive.mount('/content/drive/content/drive/My Drive/file.txt')\n",
        "```\n",
        "\n",
        "Isso  irá pedir para abrir um URL que autorizará a montagem para esse notebook depois de copiar e colar o token de onde você salvará o arquivo baixado com o \"car.data\" no seu drive.\n",
        "\n",
        "Vamos testar a leitura do arquivo:"
      ],
      "metadata": {
        "id": "v6ZWewxOf7FB"
      }
    },
    {
      "cell_type": "code",
      "source": [
        "import numpy as np\n",
        "import pandas as pd\n",
        "from sklearn import neighbors, metrics\n",
        "from sklearn.model_selection import train_test_split\n",
        "from sklearn.preprocessing import LabelEncoder\n",
        "\n",
        "from google.colab import drive\n",
        "drive.mount('/content/drive')\n",
        "\n",
        "data = pd.read_csv('/content/drive/My Drive/Colab Notebooks/car.data')\n",
        "print(data.head())"
      ],
      "metadata": {
        "id": "4YVO7IGBil00",
        "colab": {
          "base_uri": "https://localhost:8080/"
        },
        "outputId": "00ca5935-d2b1-48f9-aa6d-3dfc5e03cfb7"
      },
      "execution_count": null,
      "outputs": [
        {
          "output_type": "stream",
          "name": "stdout",
          "text": [
            "Mounted at /content/drive\n",
            "  buying  maint doors persons lug_boot safety  class\n",
            "0  vhigh  vhigh     2       2    small    low  unacc\n",
            "1  vhigh  vhigh     2       2    small    med  unacc\n",
            "2  vhigh  vhigh     2       2    small   high  unacc\n",
            "3  vhigh  vhigh     2       2      med    low  unacc\n",
            "4  vhigh  vhigh     2       2      med    med  unacc\n"
          ]
        }
      ]
    },
    {
      "cell_type": "markdown",
      "source": [
        "Após printar o dataframe.head() com pandas, notei que o arquivo não tinha título em suas colunas, então abri o car.data no meu pc como um .txt no bloco de notas e adicionei um titulo para cada uma das colunas e printei o dataframe.head() novamente como como ficou acima.\n",
        "\n",
        "Prosseguindo então para os nossos testes"
      ],
      "metadata": {
        "id": "mujo-csy2oUy"
      }
    },
    {
      "cell_type": "code",
      "source": [
        "#LABELING OUR DATA\n",
        "X = data[[\n",
        "     'buying',\n",
        "     'maint',\n",
        "     'safety'     \n",
        "]].values\n",
        "\n",
        "y = data[['class']]\n",
        "print(X,y)"
      ],
      "metadata": {
        "colab": {
          "base_uri": "https://localhost:8080/"
        },
        "id": "rzYPCgFledl4",
        "outputId": "89b78887-7a83-42a6-d39e-81bf7e80acb9"
      },
      "execution_count": null,
      "outputs": [
        {
          "output_type": "stream",
          "name": "stdout",
          "text": [
            "[['vhigh' 'vhigh' 'low']\n",
            " ['vhigh' 'vhigh' 'med']\n",
            " ['vhigh' 'vhigh' 'high']\n",
            " ...\n",
            " ['low' 'low' 'low']\n",
            " ['low' 'low' 'med']\n",
            " ['low' 'low' 'high']]       class\n",
            "0     unacc\n",
            "1     unacc\n",
            "2     unacc\n",
            "3     unacc\n",
            "4     unacc\n",
            "...     ...\n",
            "1723   good\n",
            "1724  vgood\n",
            "1725  unacc\n",
            "1726   good\n",
            "1727  vgood\n",
            "\n",
            "[1728 rows x 1 columns]\n"
          ]
        }
      ]
    },
    {
      "cell_type": "code",
      "source": [
        "#REARANGING OUR DATA\n",
        "#converting the data(X) > LabelEncoder transf labels into numbers\n",
        "\n",
        "Le = LabelEncoder()\n",
        "for i in range(len(X[0])):\n",
        "  X[:, i] = Le.fit_transform(X[:, i])\n",
        "print(X)\n",
        "\n",
        "#converting the data (y) using mapping to apply KNN\n",
        "label_mapping = {\n",
        "    'unacc':0,\n",
        "    'acc':1,\n",
        "    'good':2,\n",
        "    'vgood':3\n",
        "}\n",
        "y['class'] = y['class'].map(label_mapping)\n",
        "y = np.array(y)\n",
        "print(y)"
      ],
      "metadata": {
        "colab": {
          "base_uri": "https://localhost:8080/"
        },
        "id": "J_4s5Cs1f7bj",
        "outputId": "02a0a8e7-1a9d-47ee-e8e5-9a39a22ea213"
      },
      "execution_count": null,
      "outputs": [
        {
          "output_type": "stream",
          "name": "stdout",
          "text": [
            "[[3 3 1]\n",
            " [3 3 2]\n",
            " [3 3 0]\n",
            " ...\n",
            " [1 1 1]\n",
            " [1 1 2]\n",
            " [1 1 0]]\n",
            "[[0]\n",
            " [0]\n",
            " [0]\n",
            " ...\n",
            " [0]\n",
            " [2]\n",
            " [3]]\n"
          ]
        },
        {
          "output_type": "stream",
          "name": "stderr",
          "text": [
            "/usr/local/lib/python3.7/dist-packages/ipykernel_launcher.py:16: SettingWithCopyWarning: \n",
            "A value is trying to be set on a copy of a slice from a DataFrame.\n",
            "Try using .loc[row_indexer,col_indexer] = value instead\n",
            "\n",
            "See the caveats in the documentation: https://pandas.pydata.org/pandas-docs/stable/user_guide/indexing.html#returning-a-view-versus-a-copy\n",
            "  app.launch_new_instance()\n"
          ]
        }
      ]
    },
    {
      "cell_type": "code",
      "source": [
        "#CREATING OUR MODEL\n",
        "knn = neighbors.KNeighborsClassifier(n_neighbors= 25, weights= 'uniform')\n",
        "\n",
        "X_train, X_test, y_train, y_test = train_test_split(X, y, test_size=0.2)\n",
        "\n",
        "knn.fit(X_train, y_train)\n",
        "\n",
        "prediction = knn.predict(X_test)\n",
        "accuracy = metrics.accuracy_score(y_test, prediction)\n",
        "print(\"predictions: \", prediction)\n",
        "print(\"accuracy: \", accuracy)"
      ],
      "metadata": {
        "colab": {
          "base_uri": "https://localhost:8080/"
        },
        "id": "uLL09XGagiPl",
        "outputId": "af180ae8-3844-42f6-9ca8-b8f3554597c8"
      },
      "execution_count": null,
      "outputs": [
        {
          "output_type": "stream",
          "name": "stdout",
          "text": [
            "predictions:  [0 0 0 0 0 0 2 0 0 0 0 0 0 0 0 0 1 1 1 0 0 2 1 0 0 1 1 0 1 1 1 0 0 0 1 0 0\n",
            " 0 1 0 0 0 0 0 2 2 2 0 0 0 0 0 0 0 0 0 1 0 0 0 0 0 0 0 0 0 0 0 1 0 1 1 0 0\n",
            " 0 0 3 0 1 0 0 1 1 0 1 0 0 1 1 0 1 0 0 1 1 1 0 0 0 0 0 0 0 0 2 1 0 0 0 0 1\n",
            " 2 1 2 1 3 1 0 0 0 2 1 0 0 0 3 0 0 3 0 1 1 0 1 0 0 0 0 0 2 0 0 1 0 0 1 1 0\n",
            " 1 1 1 0 0 0 0 0 1 0 0 3 0 0 0 3 3 0 0 0 1 0 0 1 2 0 0 0 1 0 0 0 0 0 0 0 0\n",
            " 0 0 0 0 0 0 0 2 1 0 1 0 1 0 0 2 1 2 0 2 0 1 0 0 1 2 0 1 0 0 0 0 0 2 0 0 0\n",
            " 3 1 0 0 0 0 0 0 0 0 0 0 0 0 0 1 3 1 1 0 0 0 3 0 0 0 0 0 0 0 1 0 1 0 0 0 1\n",
            " 1 2 0 0 1 0 1 0 0 1 0 2 0 0 0 0 0 0 0 0 0 0 1 0 0 0 0 0 0 0 0 2 0 0 0 0 0\n",
            " 3 0 0 1 0 0 0 2 0 0 0 1 0 1 0 0 1 1 0 0 0 0 1 0 0 0 1 0 0 0 0 2 0 0 0 0 3\n",
            " 1 0 1 0 0 0 3 0 0 0 2 0 0]\n",
            "accuracy:  0.7543352601156069\n"
          ]
        },
        {
          "output_type": "stream",
          "name": "stderr",
          "text": [
            "/usr/local/lib/python3.7/dist-packages/sklearn/neighbors/_classification.py:198: DataConversionWarning: A column-vector y was passed when a 1d array was expected. Please change the shape of y to (n_samples,), for example using ravel().\n",
            "  return self._fit(X, y)\n"
          ]
        }
      ]
    },
    {
      "cell_type": "code",
      "source": [
        "#testing for a spefic case:\n",
        "a = 1727\n",
        "print(\"actual value: \", y[a])\n",
        "print(\"predicted value: \", knn.predict(X)[a])"
      ],
      "metadata": {
        "colab": {
          "base_uri": "https://localhost:8080/"
        },
        "id": "n1eTbdBYgpQm",
        "outputId": "d9e3b501-a642-4378-9972-abc2a12ce616"
      },
      "execution_count": null,
      "outputs": [
        {
          "output_type": "stream",
          "name": "stdout",
          "text": [
            "actual value:  [3]\n",
            "predicted value:  3\n"
          ]
        }
      ]
    },
    {
      "cell_type": "markdown",
      "source": [
        "No código de visualização a parte, coloco também de forma prática a diferença de precisão entre usar na função de KNN  os pesos `uniform` e `distance`, que podem determinar a escolha de qual algoritmo o usuário queira utilizar a depender do sistema analisado."
      ],
      "metadata": {
        "id": "S2slzGR-6AFn"
      }
    },
    {
      "cell_type": "markdown",
      "source": [
        "## Support Vector Machine - SVM\n",
        "\n",
        "- Tem interesse em visualizar o que estamos falando nessa sessão? rode `/spyder/programs/SVM_iris_plotting.py`\n",
        "\n",
        "> support-vector machines (SVMs, also support-vector networks) são modelos de aprendizado supervisionado com algoritmos de aprendizado associados que analisam dados para classificação e análise de regressão (Algoritmos matemáticos mais sofisticados que o mapeamento de proximidade que fizemos com KNN). \n",
        "\n",
        "*  Nesta página da documentação oficial: https://scikit-learn.org/stable/modules/svm.html - é possivel ter acesso a diversos exemplos de aplicação assim como exlpicações dos formalismos matemáticos do algoritmo. \n",
        "\n",
        "Uma SVM constrói um hiperplano ou conjunto de hiperplanos em um espaço dimensional alto ou infinito, que pode ser usado para classificação, regressão ou outras tarefas. Intuitivamente, uma boa separação é alcançada pelo hiperplano que possui a maior distância para os pontos de dados de treinamento mais próximos de qualquer classe (a chamada margem funcional), *pois em geral quanto maior a margem menor o erro de generalização do classificador*. \n",
        "\n",
        "Existem Amostras ditas linearmente separáveis, e amostras ditas \"polinomialmente\" separáveis. Em geral, quando o problema não é linearmente separável, os vetores de suporte são as amostras dentro dos limites das margens. \n",
        "\n",
        "- Prós: \n",
        "  - Funciona muito bem com margem de separação clara. \n",
        "  - É eficaz nos casos em que o número de dimensões é maior que o número de amostras.\n",
        "  - Ele usa um subconjunto de pontos de treinamento na função de decisão (chamados de vetores de suporte), portanto, também é eficiente em termos de memória.\n",
        "\n",
        "- Contras:\n",
        "  - Não tem um bom desempenho quando temos um grande conjunto de dados porque o tempo de treinamento necessário é grande. \n",
        "  - Ele também não funciona muito bem quando o conjunto de dados tem mais ruído, ou seja, as classes de destino estão sobrepostas.\n",
        "\n",
        "\n",
        "Vamos aplicar a função SVM que vem imbutida na nossa lib .scikit-learn, utilizando o dataset da iris que usamos para entender o split de treino anteriormente:  "
      ],
      "metadata": {
        "id": "FoHd8Cqbg6ZZ"
      }
    },
    {
      "cell_type": "code",
      "source": [
        "from sklearn import datasets\n",
        "import numpy as np\n",
        "from sklearn.model_selection import train_test_split\n",
        "from sklearn import svm\n",
        "from sklearn.metrics import accuracy_score\n",
        "\n",
        "iris = datasets.load_iris()\n",
        "\n",
        "#split in features and labels\n",
        "X = iris.data\n",
        "y = iris.target\n",
        "\n",
        "classes = ['Iris Setosa', 'Iris Versicolour', 'Iria Virginica']\n",
        "\n",
        "X_train, X_test, y_train, y_test = train_test_split(X, y, test_size = 0.2)\n",
        "\n",
        "model =  svm.SVC()\n",
        "model.fit(X_train, y_train)\n",
        "\n",
        "print(model)\n",
        "\n",
        "predictions = model.predict(X_test)\n",
        "acc = accuracy_score(y_test, predictions)\n",
        "print('predictions: ', predictions)\n",
        "print('actual value:', y_test)\n",
        "print('accuracy: ', acc)\n"
      ],
      "metadata": {
        "colab": {
          "base_uri": "https://localhost:8080/"
        },
        "id": "YwIXFlm1x61T",
        "outputId": "d8310322-7917-4e35-d1f5-fcab393b466e"
      },
      "execution_count": null,
      "outputs": [
        {
          "output_type": "stream",
          "name": "stdout",
          "text": [
            "SVC()\n",
            "predictions:  [1 1 0 0 2 0 2 0 0 1 2 0 0 1 0 2 2 2 1 1 0 2 0 2 2 2 0 1 2 1]\n",
            "actual value: [1 1 0 0 2 0 2 0 0 1 2 0 0 1 0 2 1 1 1 1 0 2 0 2 2 2 0 1 2 1]\n",
            "accuracy:  0.9333333333333333\n"
          ]
        }
      ]
    },
    {
      "cell_type": "markdown",
      "source": [
        "Precisão da utilização de SVM é nitidamente absurdamente boa!!! Comparando o desempenho que obtivemos agora com o modelo anterior, fica claro a diferença de aplicabilidade dado a eficiência.\n",
        "\n",
        "Perceba que podemos analisar individualmente os nomes(classes) preditos pelo nosso modelo em cada iteração simplesmente iterando e observando as classes atribuidas a label do nosso modelo: "
      ],
      "metadata": {
        "id": "2uQDla6H3ORf"
      }
    },
    {
      "cell_type": "code",
      "source": [
        "for i in range(len(predictions)):\n",
        "  print(classes[predictions[i]])"
      ],
      "metadata": {
        "colab": {
          "base_uri": "https://localhost:8080/"
        },
        "id": "W6JaN8m93eKC",
        "outputId": "991bf0d4-09d6-473a-d475-36294d23c36c"
      },
      "execution_count": null,
      "outputs": [
        {
          "output_type": "stream",
          "name": "stdout",
          "text": [
            "Iria Virginica\n",
            "Iris Setosa\n",
            "Iris Setosa\n",
            "Iria Virginica\n",
            "Iria Virginica\n",
            "Iria Virginica\n",
            "Iris Versicolour\n",
            "Iria Virginica\n",
            "Iria Virginica\n",
            "Iris Setosa\n",
            "Iria Virginica\n",
            "Iris Setosa\n",
            "Iris Versicolour\n",
            "Iris Versicolour\n",
            "Iris Versicolour\n",
            "Iris Setosa\n",
            "Iris Setosa\n",
            "Iris Setosa\n",
            "Iris Setosa\n",
            "Iris Versicolour\n",
            "Iris Setosa\n",
            "Iris Setosa\n",
            "Iris Versicolour\n",
            "Iris Setosa\n",
            "Iris Versicolour\n",
            "Iria Virginica\n",
            "Iris Versicolour\n",
            "Iris Versicolour\n",
            "Iris Versicolour\n",
            "Iris Setosa\n"
          ]
        }
      ]
    },
    {
      "cell_type": "markdown",
      "source": [
        "Podemos também visualizar de forma efetiva diversos tipos de SVM diferentes em um formato comparativo no mesmo sistema que acabamos de tratar, de forma a perceber as sutilezas e particularidades de cada um deles.\n",
        "\n",
        "Vamos executar a seguinte celula no intuito de observar a separação Linear das amostras e da máquina, assim como polinomial e a famosa RBF (a mais precisa e padrão do modelo, que rodou quando executamos o código acima)"
      ],
      "metadata": {
        "id": "FJlFEf0B3Rif"
      }
    },
    {
      "cell_type": "code",
      "source": [
        "import matplotlib.pyplot as plt\n",
        "from sklearn import svm, datasets\n",
        "from sklearn.inspection import DecisionBoundaryDisplay\n",
        "\n",
        "\n",
        "# import some data to play with\n",
        "iris = datasets.load_iris()\n",
        "# Take the first two features. We could avoid this by using a two-dim dataset\n",
        "X = iris.data[:, :2]\n",
        "y = iris.target\n",
        "\n",
        "# we create an instance of SVM and fit out data. We do not scale our\n",
        "# data since we want to plot the support vectors\n",
        "C = 1.0  # SVM regularization parameter\n",
        "models = (\n",
        "    svm.SVC(kernel=\"linear\", C=C),\n",
        "    svm.LinearSVC(C=C, max_iter=10000),\n",
        "    svm.SVC(kernel=\"rbf\", gamma=0.7, C=C),\n",
        "    svm.SVC(kernel=\"poly\", degree=3, gamma=\"auto\", C=C),\n",
        ")\n",
        "models = (clf.fit(X, y) for clf in models)\n",
        "\n",
        "# title for the plots\n",
        "titles = (\n",
        "    \"SVC with linear kernel\",\n",
        "    \"LinearSVC (linear kernel)\",\n",
        "    \"SVC with RBF kernel\",\n",
        "    \"SVC with polynomial (degree 3) kernel\",\n",
        ")\n",
        "\n",
        "# Set-up 2x2 grid for plotting.\n",
        "fig, sub = plt.subplots(2, 2)\n",
        "plt.subplots_adjust(wspace=0.4, hspace=0.4)\n",
        "\n",
        "X0, X1 = X[:, 0], X[:, 1]\n",
        "\n",
        "for clf, title, ax in zip(models, titles, sub.flatten()):\n",
        "    disp = DecisionBoundaryDisplay.from_estimator(\n",
        "        clf,\n",
        "        X,\n",
        "        response_method=\"predict\",\n",
        "        cmap=plt.cm.coolwarm,\n",
        "        alpha=0.8,\n",
        "        ax=ax,\n",
        "        xlabel=iris.feature_names[0],\n",
        "        ylabel=iris.feature_names[1],\n",
        "    )\n",
        "    ax.scatter(X0, X1, c=y, cmap=plt.cm.coolwarm, s=20, edgecolors=\"k\")\n",
        "    ax.set_xticks(())\n",
        "    ax.set_yticks(())\n",
        "    ax.set_title(title)\n",
        "\n",
        "plt.show()"
      ],
      "metadata": {
        "id": "g4n8-K0H2w0z"
      },
      "execution_count": null,
      "outputs": []
    },
    {
      "cell_type": "markdown",
      "source": [
        "![image.png](https://scikit-learn.org/stable/_images/sphx_glr_plot_iris_svc_001.png)"
      ],
      "metadata": {
        "id": "5in6i5I22x9s"
      }
    },
    {
      "cell_type": "markdown",
      "source": [
        "## Linear Regression \n",
        "- Tem interesse em visualizar o que estamos falando nessa sessão? rode `/spyder/programs/lin_reg_plot.py`\n",
        "\n",
        "A análise de **Regressão Linear** é um método estatístico utilizado para investigar a relação existente entre variáveis, sendo essas variáveis chamadas de **variáveis dependentes** e **variáveis independentes**. Essa análise é realizada através da construção de uma equação, a qual vamos chamar daqui pra frente de modelo. Esse modelo, vai associar a variável dependente à variável independente e recebe a denominação de **Modelo de Regressão Linear Simples (MRLS)**. No MRLS vamos estudar a relação linear entre duas variáveis quantitativas, ou seja, iremos assumir uma relação causal entre duas variáveis contínuas.\n",
        "\n",
        "Essa análise pode ser usada, por exemplo, para descrever a relação entre variáveis para entender um processo ou fenômeno, para prever o valor de uma variável a partir do conhecimento dos valores das outras variáveis, para substituir a medição de uma variável pela observação dos valores de outras variáveis, e para controlar os valores de uma variável em uma faixa de interesse. \n",
        "\n",
        "Para se estimar o valor esperado, usa-se de uma equação, que determina a relação entre ambas as variáveis.[[1]](https://pt.wikipedia.org/wiki/Regress%C3%A3o_linear)\n",
        "\n",
        "$$y_i = \\alpha + \\beta X_i + \\epsilon_i ,$$ \n",
        "\n",
        "onde $y_i$ é a variável explicada (dependente); representa o que o modelo tentará prever. $\\alpha$ é uma constante, que representa a interceptação da reta com o eixo vertical, $\\beta$ representa a inclinação (coeficiente angular) em relação à variável explicativa e $X_i$ a variável explicativa (independente).\n",
        "\n",
        "$\\epsilon_i$ Representa todos os factores residuais mais os possíveis erros de medição. O seu comportamento é aleatório, devido à natureza dos factores que encerra. Para que essa fórmula possa ser aplicada, os erros devem satisfazer determinadas hipóteses, que são: terem distribuição normal, com a mesma variância ($\\sigma^2$) independentes e independentes da variável explicativa $X$.\n",
        "\n",
        "Para a análise nessa sessão, iremos utilizar um dataset com dados de habitação no estado de Boston ([boston housing data](https://www.cs.toronto.edu/~delve/data/boston/bostonDetail.html) ) Visto a grande variabilidade de parâmetros que estão disponíveis nesse data set e seu nível de detalhes. A disposição de dados no mesmo está na seguinte forma: \n",
        "\n",
        "* Variáveis: existem 14 atributos em cada case do dataset. Eles são:\n",
        "  * CRIM - taxa de criminalidade per capita por cidade\n",
        "\n",
        "  * ZN - proporção de terrenos residenciais zoneados para lotes acima de 25.000 m².\n",
        "\n",
        "  * INDUS - proporção de acres de negócios não varejistas por cidade.\n",
        "\n",
        "  * CHAS - Variável fictícia Charles River (1 se o lugar limita o rio; 0 caso contrário)\n",
        "\n",
        "  * NOX - concentração de óxidos nítricos (partes por 10 milhões)\n",
        "\n",
        "  * RM - número médio de cômodos por domicílio\n",
        "\n",
        "  * IDADE - proporção de unidades ocupadas pelos proprietários construídas antes de 1940\n",
        "\n",
        "  * DIS - distâncias ponderadas para cinco centros de emprego de Boston\n",
        "\n",
        "  * RAD - índice de acessibilidade às rodovias radiais\n",
        "\n",
        "  * IMPOSTO - taxa de imposto de propriedade de valor total por $ 10.000\n",
        "\n",
        "  * PTRATIO - relação aluno-professor por cidade\n",
        "\n",
        "  * B - 1000(Bk - 0,63)^2 onde Bk é a proporção de negros por cidade\n",
        "\n",
        "  * LSTAT - % menor status da população\n",
        "\n",
        "  * MEDV - Valor médio das casas ocupadas pelos proprietários em $ 1.000\n",
        "\n",
        "Assim como o dataset das flores `iris = datasets.load_iris()`, não é necessário fazer download do dataset boston pois o mesmo já está disposto como data test dentro do modulo do scikit-learn, faremos então apenas `boston = datasets.load_boston()` assim como fizemos antes. \n",
        "\n",
        "Primeiro, vamos exportar os datos e analisar o tamanh0/formato do dataset: "
      ],
      "metadata": {
        "id": "YYn4dkVe4YrS"
      }
    },
    {
      "cell_type": "code",
      "source": [
        "from sklearn import datasets\n",
        "from sklearn import linear_model\n",
        "from sklearn.model_selection import train_test_split\n",
        "from matplotlib import pyplot as plt\n",
        "\n",
        "\n",
        "boston = datasets.load_boston()\n",
        "\n",
        "#features / labels\n",
        "X = boston.data\n",
        "y = boston.target\n",
        "\n",
        "print(\"X: \", X)\n",
        "print(\"X_shape: \", X.shape)\n",
        "print(\"y: \", y)\n",
        "print(\"y_shape: \", y.shape)\n"
      ],
      "metadata": {
        "colab": {
          "base_uri": "https://localhost:8080/"
        },
        "id": "5DlT2tzYDInW",
        "outputId": "fdd49c69-4b68-4533-e861-e167621278e7"
      },
      "execution_count": null,
      "outputs": [
        {
          "output_type": "stream",
          "name": "stdout",
          "text": [
            "X:  [[6.3200e-03 1.8000e+01 2.3100e+00 ... 1.5300e+01 3.9690e+02 4.9800e+00]\n",
            " [2.7310e-02 0.0000e+00 7.0700e+00 ... 1.7800e+01 3.9690e+02 9.1400e+00]\n",
            " [2.7290e-02 0.0000e+00 7.0700e+00 ... 1.7800e+01 3.9283e+02 4.0300e+00]\n",
            " ...\n",
            " [6.0760e-02 0.0000e+00 1.1930e+01 ... 2.1000e+01 3.9690e+02 5.6400e+00]\n",
            " [1.0959e-01 0.0000e+00 1.1930e+01 ... 2.1000e+01 3.9345e+02 6.4800e+00]\n",
            " [4.7410e-02 0.0000e+00 1.1930e+01 ... 2.1000e+01 3.9690e+02 7.8800e+00]]\n",
            "X_shape:  (506, 13)\n",
            "y:  [24.  21.6 34.7 33.4 36.2 28.7 22.9 27.1 16.5 18.9 15.  18.9 21.7 20.4\n",
            " 18.2 19.9 23.1 17.5 20.2 18.2 13.6 19.6 15.2 14.5 15.6 13.9 16.6 14.8\n",
            " 18.4 21.  12.7 14.5 13.2 13.1 13.5 18.9 20.  21.  24.7 30.8 34.9 26.6\n",
            " 25.3 24.7 21.2 19.3 20.  16.6 14.4 19.4 19.7 20.5 25.  23.4 18.9 35.4\n",
            " 24.7 31.6 23.3 19.6 18.7 16.  22.2 25.  33.  23.5 19.4 22.  17.4 20.9\n",
            " 24.2 21.7 22.8 23.4 24.1 21.4 20.  20.8 21.2 20.3 28.  23.9 24.8 22.9\n",
            " 23.9 26.6 22.5 22.2 23.6 28.7 22.6 22.  22.9 25.  20.6 28.4 21.4 38.7\n",
            " 43.8 33.2 27.5 26.5 18.6 19.3 20.1 19.5 19.5 20.4 19.8 19.4 21.7 22.8\n",
            " 18.8 18.7 18.5 18.3 21.2 19.2 20.4 19.3 22.  20.3 20.5 17.3 18.8 21.4\n",
            " 15.7 16.2 18.  14.3 19.2 19.6 23.  18.4 15.6 18.1 17.4 17.1 13.3 17.8\n",
            " 14.  14.4 13.4 15.6 11.8 13.8 15.6 14.6 17.8 15.4 21.5 19.6 15.3 19.4\n",
            " 17.  15.6 13.1 41.3 24.3 23.3 27.  50.  50.  50.  22.7 25.  50.  23.8\n",
            " 23.8 22.3 17.4 19.1 23.1 23.6 22.6 29.4 23.2 24.6 29.9 37.2 39.8 36.2\n",
            " 37.9 32.5 26.4 29.6 50.  32.  29.8 34.9 37.  30.5 36.4 31.1 29.1 50.\n",
            " 33.3 30.3 34.6 34.9 32.9 24.1 42.3 48.5 50.  22.6 24.4 22.5 24.4 20.\n",
            " 21.7 19.3 22.4 28.1 23.7 25.  23.3 28.7 21.5 23.  26.7 21.7 27.5 30.1\n",
            " 44.8 50.  37.6 31.6 46.7 31.5 24.3 31.7 41.7 48.3 29.  24.  25.1 31.5\n",
            " 23.7 23.3 22.  20.1 22.2 23.7 17.6 18.5 24.3 20.5 24.5 26.2 24.4 24.8\n",
            " 29.6 42.8 21.9 20.9 44.  50.  36.  30.1 33.8 43.1 48.8 31.  36.5 22.8\n",
            " 30.7 50.  43.5 20.7 21.1 25.2 24.4 35.2 32.4 32.  33.2 33.1 29.1 35.1\n",
            " 45.4 35.4 46.  50.  32.2 22.  20.1 23.2 22.3 24.8 28.5 37.3 27.9 23.9\n",
            " 21.7 28.6 27.1 20.3 22.5 29.  24.8 22.  26.4 33.1 36.1 28.4 33.4 28.2\n",
            " 22.8 20.3 16.1 22.1 19.4 21.6 23.8 16.2 17.8 19.8 23.1 21.  23.8 23.1\n",
            " 20.4 18.5 25.  24.6 23.  22.2 19.3 22.6 19.8 17.1 19.4 22.2 20.7 21.1\n",
            " 19.5 18.5 20.6 19.  18.7 32.7 16.5 23.9 31.2 17.5 17.2 23.1 24.5 26.6\n",
            " 22.9 24.1 18.6 30.1 18.2 20.6 17.8 21.7 22.7 22.6 25.  19.9 20.8 16.8\n",
            " 21.9 27.5 21.9 23.1 50.  50.  50.  50.  50.  13.8 13.8 15.  13.9 13.3\n",
            " 13.1 10.2 10.4 10.9 11.3 12.3  8.8  7.2 10.5  7.4 10.2 11.5 15.1 23.2\n",
            "  9.7 13.8 12.7 13.1 12.5  8.5  5.   6.3  5.6  7.2 12.1  8.3  8.5  5.\n",
            " 11.9 27.9 17.2 27.5 15.  17.2 17.9 16.3  7.   7.2  7.5 10.4  8.8  8.4\n",
            " 16.7 14.2 20.8 13.4 11.7  8.3 10.2 10.9 11.   9.5 14.5 14.1 16.1 14.3\n",
            " 11.7 13.4  9.6  8.7  8.4 12.8 10.5 17.1 18.4 15.4 10.8 11.8 14.9 12.6\n",
            " 14.1 13.  13.4 15.2 16.1 17.8 14.9 14.1 12.7 13.5 14.9 20.  16.4 17.7\n",
            " 19.5 20.2 21.4 19.9 19.  19.1 19.1 20.1 19.9 19.6 23.2 29.8 13.8 13.3\n",
            " 16.7 12.  14.6 21.4 23.  23.7 25.  21.8 20.6 21.2 19.1 20.6 15.2  7.\n",
            "  8.1 13.6 20.1 21.8 24.5 23.1 19.7 18.3 21.2 17.5 16.8 22.4 20.6 23.9\n",
            " 22.  11.9]\n",
            "y_shape:  (506,)\n"
          ]
        },
        {
          "output_type": "stream",
          "name": "stderr",
          "text": [
            "/usr/local/lib/python3.7/dist-packages/sklearn/utils/deprecation.py:87: FutureWarning: Function load_boston is deprecated; `load_boston` is deprecated in 1.0 and will be removed in 1.2.\n",
            "\n",
            "    The Boston housing prices dataset has an ethical problem. You can refer to\n",
            "    the documentation of this function for further details.\n",
            "\n",
            "    The scikit-learn maintainers therefore strongly discourage the use of this\n",
            "    dataset unless the purpose of the code is to study and educate about\n",
            "    ethical issues in data science and machine learning.\n",
            "\n",
            "    In this special case, you can fetch the dataset from the original\n",
            "    source::\n",
            "\n",
            "        import pandas as pd\n",
            "        import numpy as np\n",
            "\n",
            "\n",
            "        data_url = \"http://lib.stat.cmu.edu/datasets/boston\"\n",
            "        raw_df = pd.read_csv(data_url, sep=\"\\s+\", skiprows=22, header=None)\n",
            "        data = np.hstack([raw_df.values[::2, :], raw_df.values[1::2, :2]])\n",
            "        target = raw_df.values[1::2, 2]\n",
            "\n",
            "    Alternative datasets include the California housing dataset (i.e.\n",
            "    :func:`~sklearn.datasets.fetch_california_housing`) and the Ames housing\n",
            "    dataset. You can load the datasets as follows::\n",
            "\n",
            "        from sklearn.datasets import fetch_california_housing\n",
            "        housing = fetch_california_housing()\n",
            "\n",
            "    for the California housing dataset and::\n",
            "\n",
            "        from sklearn.datasets import fetch_openml\n",
            "        housing = fetch_openml(name=\"house_prices\", as_frame=True)\n",
            "\n",
            "    for the Ames housing dataset.\n",
            "    \n",
            "  warnings.warn(msg, category=FutureWarning)\n"
          ]
        }
      ]
    },
    {
      "cell_type": "markdown",
      "source": [
        "Vamos criar então o nosso modelo e analisar a disposição dos nossos dados em formato de plot scatter"
      ],
      "metadata": {
        "id": "YvRhGjH9Hrzk"
      }
    },
    {
      "cell_type": "code",
      "source": [
        "#model / algorithm\n",
        "l_reg = linear_model.LinearRegression()\n",
        "\n",
        "plt.scatter(X.T[5], y, s = 4)\n",
        "plt.ylabel('y label features')\n",
        "plt.xlabel('X label features')\n",
        "plt.show()"
      ],
      "metadata": {
        "colab": {
          "base_uri": "https://localhost:8080/",
          "height": 279
        },
        "id": "SXhkoiXOHZ5A",
        "outputId": "4b0274cd-2584-46c0-f32d-f4a587302ca6"
      },
      "execution_count": null,
      "outputs": [
        {
          "output_type": "display_data",
          "data": {
            "text/plain": [
              "<Figure size 432x288 with 1 Axes>"
            ],
            "image/png": "[encoded data removed]"
          },
          "metadata": {
            "needs_background": "light"
          }
        }
      ]
    },
    {
      "cell_type": "markdown",
      "source": [
        "Procedendo como antes, vamos separar nossos dados em dados de teste e dados de treino poara o modelo, e executar nosso treino"
      ],
      "metadata": {
        "id": "KX_pwx-MIwTk"
      }
    },
    {
      "cell_type": "code",
      "source": [
        "#splitting the data \n",
        "X_train, X_test, y_train, y_test = train_test_split(X, y, test_size = 0.2)\n",
        "\n",
        "#training\n",
        "model  =l_reg.fit(X_train, y_train)\n",
        "predictions = model.predict(X_test)\n",
        "print('Predictions: ', predictions)\n",
        "print('R^2 value: ', l_reg.score(X,y))\n",
        "print('coefficient factor: ', l_reg.coef_)\n",
        "print('intercept: ', l_reg.intercept_)"
      ],
      "metadata": {
        "colab": {
          "base_uri": "https://localhost:8080/"
        },
        "id": "FZEPD8sHHbvQ",
        "outputId": "41a7c03b-b04b-4ef6-a401-55932bcf3b3c"
      },
      "execution_count": null,
      "outputs": [
        {
          "output_type": "stream",
          "name": "stdout",
          "text": [
            "Predictions:  [16.55256228 14.22260089 43.90228099 24.2114291  20.01629562 29.12068629\n",
            " 20.32940744 24.84839444 15.66801454 13.88662754 18.93600328 12.86369388\n",
            " 12.9482996  19.23637543 20.12192485 33.26110986 23.5449435  16.23684864\n",
            " 26.84139265 25.30847368 20.62173363 36.11267743 22.67795875 17.34972679\n",
            " 21.68566421 22.79822271 24.60299286 18.44510918 20.28327194 31.05869241\n",
            " 28.30633591 35.75513799 32.51275556 17.67511297 30.95806376 28.50113425\n",
            " 20.39006374 23.66287179 35.22517546 39.95357977 32.03293872 17.15402451\n",
            " 17.6091892  24.81426168 20.65716863 25.1893069  10.67681139 32.7102683\n",
            " 38.80586387 20.22135231 40.36293657 19.93603384  8.28688989 22.21109567\n",
            " -4.50124627  4.48650085 28.7044469  19.33907857 19.92913928 23.73308261\n",
            " 34.60527563 20.46214861 30.67796849 16.85514817 12.66487759  6.70405245\n",
            " 25.64325284 42.09466247 17.6389036  24.17382446 19.54345978 38.96864313\n",
            " 13.01917409 25.3609341   4.41269239 27.77095379 28.44560938 27.55788422\n",
            " 24.07922869  5.51266819 21.65778172 23.99983476 24.95382315 13.65545685\n",
            " 37.73014262 34.4144241  24.20338257 23.11960841 25.4324141  29.30322805\n",
            " 27.10394049 18.93041217  8.75481112 19.32964307 20.55777493 26.96774946\n",
            " 13.18403262 20.66430198 27.01899807 20.76456796 26.09853551 20.24467632]\n",
            "R^2 value:  0.7390484735880978\n",
            "coefficient factor:  [-1.29927785e-01  4.57314038e-02  4.21907195e-02  2.40163544e+00\n",
            " -2.14421569e+01  3.33148498e+00  5.87773418e-03 -1.48467420e+00\n",
            "  3.19870861e-01 -1.18069417e-02 -1.01234772e+00  8.81500521e-03\n",
            " -5.38567270e-01]\n",
            "intercept:  42.131402168572436\n"
          ]
        }
      ]
    },
    {
      "cell_type": "code",
      "source": [
        "plt.scatter(X_test.T[5], y_test, s = 4, label = 'data points')\n",
        "plt.scatter(X_test.T[5], predictions, color=\"black\", s = 4, label = 'model predictions')\n",
        "plt.ylabel('y label features')\n",
        "plt.xlabel('X label features')\n",
        "plt.legend()\n",
        "plt.show()"
      ],
      "metadata": {
        "colab": {
          "base_uri": "https://localhost:8080/",
          "height": 279
        },
        "id": "69HNSuMTOPDb",
        "outputId": "13b8f8ab-5963-429d-e29e-0c267cf701cf"
      },
      "execution_count": null,
      "outputs": [
        {
          "output_type": "display_data",
          "data": {
            "text/plain": [
              "<Figure size 432x288 with 1 Axes>"
            ],
            "image/png": "[encoded data removed]"
          },
          "metadata": {
            "needs_background": "light"
          }
        }
      ]
    },
    {
      "cell_type": "markdown",
      "source": [
        "### Qual a diferença entre análise de Regressão Linear e análise de Regressão Logística?\n",
        "\n",
        "Enquanto na Regressão Linear temos uma variável resposta contínua, na **Regressão Logística** nossa variável resposta é **binária**, 0 ou 1, sim ou não. Essa análise é, normalmente, utilizada quando se quer medir a relação de uma variável dependente binária com uma ou mais variáveis independentes, sendo que as independentes tanto podem ser categóricas ou não.\n",
        "\n",
        "A Regressão Logística é uma análise que nos permite estimar a probabilidade associada à ocorrência de determinado evento em face de um conjunto de variáveis explanatórias. As vantagens desse tipo de regressão incluem: \n",
        "\n",
        "(a) facilidade para lidar com variáveis independentes categóricas;\n",
        "\n",
        "(b) fornece resultados em termos de probabilidade; \n",
        "\n",
        "(c) facilidade de classificação de indivíduos em categorias; \n",
        "\n",
        "(d) requer pequeno número de suposições;  \n",
        "\n",
        "(e) possui alto grau de confiabilidade.\n",
        "\n",
        "Refs e mais material para ler:\n",
        "\n",
        "- [Regressão Logística](https://pt.wikipedia.org/wiki/Regress%C3%A3o_log%C3%ADstica)\n",
        "\n",
        "- [Função Logística](https://pt.wikipedia.org/wiki/Fun%C3%A7%C3%A3o_log%C3%ADstica)\n",
        "\n"
      ],
      "metadata": {
        "id": "7o_S7IywU29k"
      }
    },
    {
      "cell_type": "markdown",
      "source": [
        "## Algoritmos de Clustering\n",
        "\n",
        "Os algoritmos de agrupamento, também conhecidos como clustering, fazem parte do que é conhecido como aprendizado de máquina não supervisionado. Isto quer dizer que, a partir de dados “gerais” e sem nenhuma “anotação”, é possível descobrir alguns padrões e criar um modelo que, na prática, vai ser utilizado para classificar um novo conjunto de dados quando ele surgir.\n",
        "\n",
        "Por exemplo, vamos supor que desejamos classificar clientes em grupos. Os algoritmos de clustering vão analisar os dados e gerar regras internas para dizer se um cliente X pertence a um grupo A, B ou qualquer que seja.\n",
        "\n",
        "Entretanto, nem sempre podemos apresentar uma descrição significativa e representativa do grupo A ou B, pois mesmo tendo acesso a definição das regras que colocam ou não um dado no grupo, fica complicado caracterizá-lo. Às vezes, fica fácil dizer algo como “este é o grupo do clientes AAA” ou “esta imagem é mais parecida com as imagens que possuem gatos”. Não obstante, quando falamos em conjuntos de dados com muitos atributos, fica complicado atribuir significado aos grupos, que também são chamados de clusters. Esta é uma característica dos algoritmos não supervisionados de clustering: como os padrões são detectados automaticamente nem sempre podemos facilmente explicar o que foi gerado.\n",
        "\n",
        "### O algoritmo de K-means\n",
        "\n",
        "K-Means é um algoritmo de clusterização (ou agrupamento) de aprendizado não supervisionado (ou seja, que não precisa de inputs de confirmação externos) que avalia e clusteriza os dados de acordo com suas características, como {lojas/centro logistico}, {clientes/produtos ou serviços semelhantes}, {séries/gênero da série ou faixa etaria}, {paciente/sintoma ou característica semelhante} etc.\n",
        "\n",
        "* Como funciona? \n",
        " \n",
        "1 - Primeiro, preciso definir um ‘K’, ou seja, um número de clusters (ou agrupamentos).\n",
        "\n",
        "2 - Depois, preciso definir, aleatoriamente, um centroide para cada cluster.\n",
        "\n",
        "3 - O próximo passo é calcular, para cada ponto, o centroide de menor distância. Cada ponto pertencerá ao centroide geométricamente mais próximo a ele.\n",
        "\n",
        "4 - Agora, devo reposicionar o centróide. A nova posição do centroide deve ser a média da posição de todos os pontos do cluster.\n",
        "\n",
        "5 - Os dois ultimos passos são repetidos, iterativamente, até obtermos a posição ideal dos centróides.\n",
        "\n",
        "\n",
        "Para visualziar um pouco melhor o desempenho desse algoritmo, vamos utilizar mais uma vez um dataset de treino imbutido do modulo scikit_learn, agora o nosso dataset irá tratar de dados relacionados a cancer de mama, através de `bc = datasets.load_breast_cancer()`"
      ],
      "metadata": {
        "id": "_JcDh7ErYgXV"
      }
    },
    {
      "cell_type": "code",
      "source": [
        "from sklearn import datasets\n",
        "from sklearn.cluster import KMeans\n",
        "from sklearn.model_selection import train_test_split\n",
        "from sklearn.metrics import accuracy_score\n",
        "from sklearn.preprocessing import scale\n",
        "import pandas as pd\n",
        "\n",
        "bc = datasets.load_breast_cancer() \n",
        "print(bc)"
      ],
      "metadata": {
        "colab": {
          "base_uri": "https://localhost:8080/"
        },
        "id": "hoKMrhylwgXG",
        "outputId": "e33a9edf-f8b7-4bc1-8fb6-f09e8cc957fd"
      },
      "execution_count": null,
      "outputs": [
        {
          "output_type": "stream",
          "name": "stdout",
          "text": [
            "{'data': array([[1.799e+01, 1.038e+01, 1.228e+02, ..., 2.654e-01, 4.601e-01,\n",
            "        1.189e-01],\n",
            "       [2.057e+01, 1.777e+01, 1.329e+02, ..., 1.860e-01, 2.750e-01,\n",
            "        8.902e-02],\n",
            "       [1.969e+01, 2.125e+01, 1.300e+02, ..., 2.430e-01, 3.613e-01,\n",
            "        8.758e-02],\n",
            "       ...,\n",
            "       [1.660e+01, 2.808e+01, 1.083e+02, ..., 1.418e-01, 2.218e-01,\n",
            "        7.820e-02],\n",
            "       [2.060e+01, 2.933e+01, 1.401e+02, ..., 2.650e-01, 4.087e-01,\n",
            "        1.240e-01],\n",
            "       [7.760e+00, 2.454e+01, 4.792e+01, ..., 0.000e+00, 2.871e-01,\n",
            "        7.039e-02]]), 'target': array([0, 0, 0, 0, 0, 0, 0, 0, 0, 0, 0, 0, 0, 0, 0, 0, 0, 0, 0, 1, 1, 1,\n",
            "       0, 0, 0, 0, 0, 0, 0, 0, 0, 0, 0, 0, 0, 0, 0, 1, 0, 0, 0, 0, 0, 0,\n",
            "       0, 0, 1, 0, 1, 1, 1, 1, 1, 0, 0, 1, 0, 0, 1, 1, 1, 1, 0, 1, 0, 0,\n",
            "       1, 1, 1, 1, 0, 1, 0, 0, 1, 0, 1, 0, 0, 1, 1, 1, 0, 0, 1, 0, 0, 0,\n",
            "       1, 1, 1, 0, 1, 1, 0, 0, 1, 1, 1, 0, 0, 1, 1, 1, 1, 0, 1, 1, 0, 1,\n",
            "       1, 1, 1, 1, 1, 1, 1, 0, 0, 0, 1, 0, 0, 1, 1, 1, 0, 0, 1, 0, 1, 0,\n",
            "       0, 1, 0, 0, 1, 1, 0, 1, 1, 0, 1, 1, 1, 1, 0, 1, 1, 1, 1, 1, 1, 1,\n",
            "       1, 1, 0, 1, 1, 1, 1, 0, 0, 1, 0, 1, 1, 0, 0, 1, 1, 0, 0, 1, 1, 1,\n",
            "       1, 0, 1, 1, 0, 0, 0, 1, 0, 1, 0, 1, 1, 1, 0, 1, 1, 0, 0, 1, 0, 0,\n",
            "       0, 0, 1, 0, 0, 0, 1, 0, 1, 0, 1, 1, 0, 1, 0, 0, 0, 0, 1, 1, 0, 0,\n",
            "       1, 1, 1, 0, 1, 1, 1, 1, 1, 0, 0, 1, 1, 0, 1, 1, 0, 0, 1, 0, 1, 1,\n",
            "       1, 1, 0, 1, 1, 1, 1, 1, 0, 1, 0, 0, 0, 0, 0, 0, 0, 0, 0, 0, 0, 0,\n",
            "       0, 0, 1, 1, 1, 1, 1, 1, 0, 1, 0, 1, 1, 0, 1, 1, 0, 1, 0, 0, 1, 1,\n",
            "       1, 1, 1, 1, 1, 1, 1, 1, 1, 1, 1, 0, 1, 1, 0, 1, 0, 1, 1, 1, 1, 1,\n",
            "       1, 1, 1, 1, 1, 1, 1, 1, 1, 0, 1, 1, 1, 0, 1, 0, 1, 1, 1, 1, 0, 0,\n",
            "       0, 1, 1, 1, 1, 0, 1, 0, 1, 0, 1, 1, 1, 0, 1, 1, 1, 1, 1, 1, 1, 0,\n",
            "       0, 0, 1, 1, 1, 1, 1, 1, 1, 1, 1, 1, 1, 0, 0, 1, 0, 0, 0, 1, 0, 0,\n",
            "       1, 1, 1, 1, 1, 0, 1, 1, 1, 1, 1, 0, 1, 1, 1, 0, 1, 1, 0, 0, 1, 1,\n",
            "       1, 1, 1, 1, 0, 1, 1, 1, 1, 1, 1, 1, 0, 1, 1, 1, 1, 1, 0, 1, 1, 0,\n",
            "       1, 1, 1, 1, 1, 1, 1, 1, 1, 1, 1, 1, 0, 1, 0, 0, 1, 0, 1, 1, 1, 1,\n",
            "       1, 0, 1, 1, 0, 1, 0, 1, 1, 0, 1, 0, 1, 1, 1, 1, 1, 1, 1, 1, 0, 0,\n",
            "       1, 1, 1, 1, 1, 1, 0, 1, 1, 1, 1, 1, 1, 1, 1, 1, 1, 0, 1, 1, 1, 1,\n",
            "       1, 1, 1, 0, 1, 0, 1, 1, 0, 1, 1, 1, 1, 1, 0, 0, 1, 0, 1, 0, 1, 1,\n",
            "       1, 1, 1, 0, 1, 1, 0, 1, 0, 1, 0, 0, 1, 1, 1, 0, 1, 1, 1, 1, 1, 1,\n",
            "       1, 1, 1, 1, 1, 0, 1, 0, 0, 1, 1, 1, 1, 1, 1, 1, 1, 1, 1, 1, 1, 1,\n",
            "       1, 1, 1, 1, 1, 1, 1, 1, 1, 1, 1, 1, 0, 0, 0, 0, 0, 0, 1]), 'frame': None, 'target_names': array(['malignant', 'benign'], dtype='<U9'), 'DESCR': '.. _breast_cancer_dataset:\\n\\nBreast cancer wisconsin (diagnostic) dataset\\n--------------------------------------------\\n\\n**Data Set Characteristics:**\\n\\n    :Number of Instances: 569\\n\\n    :Number of Attributes: 30 numeric, predictive attributes and the class\\n\\n    :Attribute Information:\\n        - radius (mean of distances from center to points on the perimeter)\\n        - texture (standard deviation of gray-scale values)\\n        - perimeter\\n        - area\\n        - smoothness (local variation in radius lengths)\\n        - compactness (perimeter^2 / area - 1.0)\\n        - concavity (severity of concave portions of the contour)\\n        - concave points (number of concave portions of the contour)\\n        - symmetry\\n        - fractal dimension (\"coastline approximation\" - 1)\\n\\n        The mean, standard error, and \"worst\" or largest (mean of the three\\n        worst/largest values) of these features were computed for each image,\\n        resulting in 30 features.  For instance, field 0 is Mean Radius, field\\n        10 is Radius SE, field 20 is Worst Radius.\\n\\n        - class:\\n                - WDBC-Malignant\\n                - WDBC-Benign\\n\\n    :Summary Statistics:\\n\\n    ===================================== ====== ======\\n                                           Min    Max\\n    ===================================== ====== ======\\n    radius (mean):                        6.981  28.11\\n    texture (mean):                       9.71   39.28\\n    perimeter (mean):                     43.79  188.5\\n    area (mean):                          143.5  2501.0\\n    smoothness (mean):                    0.053  0.163\\n    compactness (mean):                   0.019  0.345\\n    concavity (mean):                     0.0    0.427\\n    concave points (mean):                0.0    0.201\\n    symmetry (mean):                      0.106  0.304\\n    fractal dimension (mean):             0.05   0.097\\n    radius (standard error):              0.112  2.873\\n    texture (standard error):             0.36   4.885\\n    perimeter (standard error):           0.757  21.98\\n    area (standard error):                6.802  542.2\\n    smoothness (standard error):          0.002  0.031\\n    compactness (standard error):         0.002  0.135\\n    concavity (standard error):           0.0    0.396\\n    concave points (standard error):      0.0    0.053\\n    symmetry (standard error):            0.008  0.079\\n    fractal dimension (standard error):   0.001  0.03\\n    radius (worst):                       7.93   36.04\\n    texture (worst):                      12.02  49.54\\n    perimeter (worst):                    50.41  251.2\\n    area (worst):                         185.2  4254.0\\n    smoothness (worst):                   0.071  0.223\\n    compactness (worst):                  0.027  1.058\\n    concavity (worst):                    0.0    1.252\\n    concave points (worst):               0.0    0.291\\n    symmetry (worst):                     0.156  0.664\\n    fractal dimension (worst):            0.055  0.208\\n    ===================================== ====== ======\\n\\n    :Missing Attribute Values: None\\n\\n    :Class Distribution: 212 - Malignant, 357 - Benign\\n\\n    :Creator:  Dr. William H. Wolberg, W. Nick Street, Olvi L. Mangasarian\\n\\n    :Donor: Nick Street\\n\\n    :Date: November, 1995\\n\\nThis is a copy of UCI ML Breast Cancer Wisconsin (Diagnostic) datasets.\\nhttps://goo.gl/U2Uwz2\\n\\nFeatures are computed from a digitized image of a fine needle\\naspirate (FNA) of a breast mass.  They describe\\ncharacteristics of the cell nuclei present in the image.\\n\\nSeparating plane described above was obtained using\\nMultisurface Method-Tree (MSM-T) [K. P. Bennett, \"Decision Tree\\nConstruction Via Linear Programming.\" Proceedings of the 4th\\nMidwest Artificial Intelligence and Cognitive Science Society,\\npp. 97-101, 1992], a classification method which uses linear\\nprogramming to construct a decision tree.  Relevant features\\nwere selected using an exhaustive search in the space of 1-4\\nfeatures and 1-3 separating planes.\\n\\nThe actual linear program used to obtain the separating plane\\nin the 3-dimensional space is that described in:\\n[K. P. Bennett and O. L. Mangasarian: \"Robust Linear\\nProgramming Discrimination of Two Linearly Inseparable Sets\",\\nOptimization Methods and Software 1, 1992, 23-34].\\n\\nThis database is also available through the UW CS ftp server:\\n\\nftp ftp.cs.wisc.edu\\ncd math-prog/cpo-dataset/machine-learn/WDBC/\\n\\n.. topic:: References\\n\\n   - W.N. Street, W.H. Wolberg and O.L. Mangasarian. Nuclear feature extraction \\n     for breast tumor diagnosis. IS&T/SPIE 1993 International Symposium on \\n     Electronic Imaging: Science and Technology, volume 1905, pages 861-870,\\n     San Jose, CA, 1993.\\n   - O.L. Mangasarian, W.N. Street and W.H. Wolberg. Breast cancer diagnosis and \\n     prognosis via linear programming. Operations Research, 43(4), pages 570-577, \\n     July-August 1995.\\n   - W.H. Wolberg, W.N. Street, and O.L. Mangasarian. Machine learning techniques\\n     to diagnose breast cancer from fine-needle aspirates. Cancer Letters 77 (1994) \\n     163-171.', 'feature_names': array(['mean radius', 'mean texture', 'mean perimeter', 'mean area',\n",
            "       'mean smoothness', 'mean compactness', 'mean concavity',\n",
            "       'mean concave points', 'mean symmetry', 'mean fractal dimension',\n",
            "       'radius error', 'texture error', 'perimeter error', 'area error',\n",
            "       'smoothness error', 'compactness error', 'concavity error',\n",
            "       'concave points error', 'symmetry error',\n",
            "       'fractal dimension error', 'worst radius', 'worst texture',\n",
            "       'worst perimeter', 'worst area', 'worst smoothness',\n",
            "       'worst compactness', 'worst concavity', 'worst concave points',\n",
            "       'worst symmetry', 'worst fractal dimension'], dtype='<U23'), 'filename': 'breast_cancer.csv', 'data_module': 'sklearn.datasets.data'}\n"
          ]
        }
      ]
    },
    {
      "cell_type": "markdown",
      "source": [
        "De antemão, olhando separadamernte para nossos dados:"
      ],
      "metadata": {
        "id": "nslrg1hWxfMJ"
      }
    },
    {
      "cell_type": "code",
      "source": [
        "X = bc.data\n",
        "print(X)"
      ],
      "metadata": {
        "colab": {
          "base_uri": "https://localhost:8080/"
        },
        "id": "NaN_bFgKxOWh",
        "outputId": "80a2ab79-b187-4975-8818-bc9fb25b68d1"
      },
      "execution_count": null,
      "outputs": [
        {
          "output_type": "stream",
          "name": "stdout",
          "text": [
            "[[1.799e+01 1.038e+01 1.228e+02 ... 2.654e-01 4.601e-01 1.189e-01]\n",
            " [2.057e+01 1.777e+01 1.329e+02 ... 1.860e-01 2.750e-01 8.902e-02]\n",
            " [1.969e+01 2.125e+01 1.300e+02 ... 2.430e-01 3.613e-01 8.758e-02]\n",
            " ...\n",
            " [1.660e+01 2.808e+01 1.083e+02 ... 1.418e-01 2.218e-01 7.820e-02]\n",
            " [2.060e+01 2.933e+01 1.401e+02 ... 2.650e-01 4.087e-01 1.240e-01]\n",
            " [7.760e+00 2.454e+01 4.792e+01 ... 0.000e+00 2.871e-01 7.039e-02]]\n"
          ]
        }
      ]
    },
    {
      "cell_type": "markdown",
      "source": [
        "Perceba que os números dos nossos dados são muito grandes/pequenos, e existe uma diferença enorme entre eles, então vamos reescalonar eles para ajudar mais o nosso algoritmo"
      ],
      "metadata": {
        "id": "MYpWx6GlxxhZ"
      }
    },
    {
      "cell_type": "code",
      "source": [
        "X = scale(bc.data)\n",
        "print(X)"
      ],
      "metadata": {
        "colab": {
          "base_uri": "https://localhost:8080/"
        },
        "id": "L7RcBE36x6Vq",
        "outputId": "2ebc2112-23e1-4754-89ca-9bf4b249ec66"
      },
      "execution_count": null,
      "outputs": [
        {
          "output_type": "stream",
          "name": "stdout",
          "text": [
            "[[ 1.09706398 -2.07333501  1.26993369 ...  2.29607613  2.75062224\n",
            "   1.93701461]\n",
            " [ 1.82982061 -0.35363241  1.68595471 ...  1.0870843  -0.24388967\n",
            "   0.28118999]\n",
            " [ 1.57988811  0.45618695  1.56650313 ...  1.95500035  1.152255\n",
            "   0.20139121]\n",
            " ...\n",
            " [ 0.70228425  2.0455738   0.67267578 ...  0.41406869 -1.10454895\n",
            "  -0.31840916]\n",
            " [ 1.83834103  2.33645719  1.98252415 ...  2.28998549  1.91908301\n",
            "   2.21963528]\n",
            " [-1.80840125  1.22179204 -1.81438851 ... -1.74506282 -0.04813821\n",
            "  -0.75120669]]\n"
          ]
        }
      ]
    },
    {
      "cell_type": "markdown",
      "source": [
        "dando continuidade, assim como já fizemos recursivamente em outros métodos até aqui, "
      ],
      "metadata": {
        "id": "yGEeNp0qzDFC"
      }
    },
    {
      "cell_type": "code",
      "source": [
        "y = bc.target\n",
        "\n",
        "X_train, X_test, y_train, y_test = train_test_split(X, y, test_size = 0.2)\n",
        "\n",
        "model = KMeans(n_clusters = 2, random_state = 0)\n",
        "\n",
        "model.fit(X_train)\n",
        "\n",
        "predictions = model.predict(X_test)\n",
        "labels = model.labels_\n",
        "\n",
        "print('labels: ', labels)\n",
        "print('predictions: ', predictions)\n",
        "print('accuracy: ', accuracy_score(y_test, predictions))\n",
        "print('actual: ', y_test)"
      ],
      "metadata": {
        "colab": {
          "base_uri": "https://localhost:8080/"
        },
        "id": "I5s00Y9GzJBZ",
        "outputId": "09bb28f5-e54c-43e6-fdec-ca390f0f3364"
      },
      "execution_count": null,
      "outputs": [
        {
          "output_type": "stream",
          "name": "stdout",
          "text": [
            "labels:  [1 1 1 0 1 0 1 1 0 1 1 1 1 1 1 1 0 1 0 1 1 1 1 1 1 1 1 1 0 0 1 1 1 0 1 0 0\n",
            " 1 1 1 0 0 0 1 0 0 1 0 0 1 0 0 0 1 1 0 0 0 0 1 1 1 0 1 1 0 0 1 1 0 0 1 0 1\n",
            " 1 0 1 1 1 1 1 1 1 1 0 0 0 1 1 1 0 0 0 0 1 0 0 0 1 0 1 0 1 0 1 1 1 0 0 0 1\n",
            " 1 0 0 0 1 1 0 1 1 1 1 1 1 0 0 0 0 1 0 0 1 0 1 1 1 1 1 0 1 1 0 0 1 1 1 0 1\n",
            " 1 1 0 0 1 1 1 1 1 1 1 0 0 0 1 1 1 0 0 1 1 1 0 0 0 1 1 0 1 1 1 1 1 1 1 0 1\n",
            " 0 1 1 1 1 1 0 1 0 0 0 1 0 0 1 1 0 1 1 1 1 1 1 0 1 1 1 1 1 1 0 1 1 1 1 1 1\n",
            " 1 1 0 1 0 1 1 1 1 1 1 1 1 1 1 1 1 0 1 1 1 0 1 1 1 0 1 0 1 1 1 0 0 1 1 1 0\n",
            " 0 0 1 1 1 1 1 1 1 1 1 0 1 1 1 1 0 0 1 0 0 0 0 1 0 1 1 0 1 1 1 0 1 1 1 1 1\n",
            " 0 1 0 1 1 1 1 1 0 1 0 1 1 1 0 0 0 0 1 1 1 1 1 1 0 0 1 0 1 1 1 1 1 1 0 1 1\n",
            " 0 1 1 1 1 1 1 1 0 1 0 1 0 1 1 0 1 1 1 1 0 0 1 1 1 0 1 1 0 0 1 1 1 0 0 0 1\n",
            " 1 1 1 1 0 1 1 0 0 1 1 1 1 1 1 0 1 1 1 1 1 0 0 1 1 1 0 1 1 1 1 1 0 1 0 1 1\n",
            " 1 1 0 1 1 1 1 1 1 1 1 1 1 1 1 1 1 0 0 1 1 1 1 0 1 0 0 1 1 1 0 0 1 1 0 1 1\n",
            " 0 0 1 1 0 0 1 0 1 0 1]\n",
            "predictions:  [1 0 1 1 0 1 0 1 1 0 0 1 0 0 0 1 1 1 1 1 0 1 1 1 0 0 1 1 1 1 1 0 1 1 1 1 1\n",
            " 0 0 0 1 0 1 0 0 1 1 1 0 1 1 1 1 0 1 1 1 1 0 1 1 1 0 1 1 1 0 1 1 1 1 0 0 1\n",
            " 1 1 1 1 1 1 0 1 0 1 0 0 1 1 0 1 0 1 0 1 1 1 0 0 1 1 1 1 1 1 1 1 1 1 0 1 1\n",
            " 1 0 1]\n",
            "accuracy:  0.9298245614035088\n",
            "actual:  [1 0 1 1 0 1 0 0 1 0 0 1 0 0 0 1 1 1 1 1 0 1 1 1 0 0 0 1 1 1 1 0 1 1 1 1 1\n",
            " 0 0 0 1 0 0 1 0 1 1 1 0 1 1 1 1 0 1 1 1 1 0 1 1 1 0 1 1 0 0 1 0 1 1 0 0 1\n",
            " 1 1 1 1 1 1 0 1 0 1 0 0 1 1 0 0 0 1 0 1 0 1 0 0 1 1 1 1 1 1 1 1 1 1 0 1 1\n",
            " 1 0 1]\n"
          ]
        }
      ]
    },
    {
      "cell_type": "markdown",
      "source": [
        "Rodando várias vezes fica notável o viés binário de acurácia que sujeitamos o algoritmo por dar apenas 0/1 sem labels, no intuito então de tentar melhora isso, faremos o seguinte"
      ],
      "metadata": {
        "id": "m7nR44d_1DPU"
      }
    },
    {
      "cell_type": "code",
      "source": [
        "print(pd.crosstab(y_train, labels))"
      ],
      "metadata": {
        "colab": {
          "base_uri": "https://localhost:8080/"
        },
        "id": "b7u2YKLI1S8h",
        "outputId": "258aecd7-26e6-40b6-c72a-6db344f0e9e2"
      },
      "execution_count": null,
      "outputs": [
        {
          "output_type": "stream",
          "name": "stdout",
          "text": [
            "col_0    0    1\n",
            "row_0          \n",
            "0      138   32\n",
            "1       16  269\n"
          ]
        }
      ]
    },
    {
      "cell_type": "markdown",
      "source": [
        "Apenas a nível de visualização e também de informação, para apresentar uma forma interessante de obter dados de testes para clusters, vamos utilizar agora um pacote do [módulo de  geração de conjuntos de dados](https://scikit-learn.org/stable/datasets/sample_generators.html#sample-generators) do scikit-learn, especificamente o [`sklearn.datasets.make_blobs`](https://scikit-learn.org/stable/modules/generated/sklearn.datasets.make_blobs.html#sklearn.datasets.make_blobs)\n",
        "\n",
        "A ideia aqui vai ser criar 3 centros de blobs aletórios em [[1, 1], [-1, -1], [1, -1]] e preencher blobs de dados ao redor deles, e separar esses blobs através do método de K-Means, no intuito de plotar um gráfico que deixe clara a separaçào feita usando um sistema de cores pré definida."
      ],
      "metadata": {
        "id": "oqOUguSL5ga_"
      }
    },
    {
      "cell_type": "code",
      "source": [
        "import numpy as np\n",
        "from sklearn.datasets import make_blobs\n",
        "import time\n",
        "from sklearn.cluster import KMeans\n",
        "import matplotlib.pyplot as plt\n",
        "\n",
        "#GENERATING DATA\n",
        "np.random.seed(0)\n",
        "\n",
        "batch_size = 45\n",
        "centers = [[1, 1], [-1, -1], [1, -1]]\n",
        "n_clusters = len(centers)\n",
        "X, labels_true = make_blobs(n_samples=3000, centers=centers, cluster_std=0.7)\n",
        "\n",
        "#CLUSTERING WITH KMEANS\n",
        "k_means = KMeans(init=\"k-means++\", n_clusters=3, n_init=10)\n",
        "t0 = time.time()\n",
        "k_means.fit(X)\n",
        "t_batch = time.time() - t0\n",
        "\n",
        "fig = plt.figure(figsize=(8, 3))\n",
        "fig.subplots_adjust(left=0.02, right=2, bottom=0.05, top=1.2)\n",
        "colors = [\"blue\", \"orange\", \"green\"]\n",
        "\n",
        "from sklearn.metrics.pairwise import pairwise_distances_argmin\n",
        "\n",
        "k_means_cluster_centers = k_means.cluster_centers_\n",
        "k_means_labels = pairwise_distances_argmin(X, k_means_cluster_centers)\n",
        "\n",
        "# PLOTTING THE RESULT\n",
        "ax = fig.add_subplot(1, 3, 1)\n",
        "for k, col in zip(range(n_clusters), colors):\n",
        "    my_members = k_means_labels == k\n",
        "    cluster_center = k_means_cluster_centers[k]\n",
        "    ax.plot(X[my_members, 0], X[my_members, 1], \"w\", markerfacecolor=col, marker=\".\")\n",
        "    ax.plot(\n",
        "        cluster_center[0],\n",
        "        cluster_center[1],\n",
        "        \"o\",\n",
        "        markerfacecolor=col,\n",
        "        markeredgecolor=\"k\",\n",
        "        markersize=6,\n",
        "    )\n",
        "ax.set_title(\"KMeans\")\n",
        "#ax.set_xticks(())\n",
        "#ax.set_yticks(())\n",
        "plt.text(-3.5, 1.8, \"train time: %.2fs\\ninertia: %f\" % (t_batch, k_means.inertia_))\n"
      ],
      "metadata": {
        "colab": {
          "base_uri": "https://localhost:8080/",
          "height": 329
        },
        "id": "xD7ooDW_3amS",
        "outputId": "6634f291-d4bd-451e-dadb-631c5d140000"
      },
      "execution_count": null,
      "outputs": [
        {
          "output_type": "execute_result",
          "data": {
            "text/plain": [
              "Text(-3.5, 1.8, 'train time: 0.27s\\ninertia: 2470.584849')"
            ]
          },
          "metadata": {},
          "execution_count": 31
        },
        {
          "output_type": "display_data",
          "data": {
            "text/plain": [
              "<Figure size 576x216 with 1 Axes>"
            ],
            "image/png": "[encoded data removed]"
          },
          "metadata": {
            "needs_background": "light"
          }
        }
      ]
    },
    {
      "cell_type": "markdown",
      "source": [
        "## Neural Networks \n",
        " \n",
        "Inspirando-se no funcionamento dos neurônios biológicos do sistema nervoso dos animais, estabeleceu-se na área da Inteligência Artificial um modelo computacional de um neurônio conforme ilustrado a seguir: \n",
        "\n",
        "![image.png](https://miro.medium.com/max/1128/1*KDiqpWOgtCnO8x3wZJHmDA.png) \n",
        "\n",
        "Os sinais da entrada no neurônio são representados pelo vetor $x = [x_1, x_2, x_3, …, x_N]$, podendo corresponder aos pixels de uma imagem, por exemplo. Ao chegarem ao neurônio, são multiplicados pelos respectivos **pesos sinápticos**, que são os elementos do vetor $w = [w_1, w_2, w_3, …, w_N]$, gerando o valor $z$, comumente denominado **potencial de ativação**, de acordo com a expressão:\n",
        "\n",
        "$$ z = \\sum_{i=1}^{N} x_i w_i + b $$\n",
        "\n",
        "O termo adicional $b$ provê um grau de liberdade a mais, que não é afetado pela entrada nessa expressão, correspondendo tipicamente ao “bias” (viés). O valor $z$ passa então por uma função matemática de ativação $\\sigma$, com a característica de ser não linear, responsável por limitar tal valor a um certo intervalo, produzindo o valor final de saída $y$ do neurônio. Algumas funções de ativação usadas são a degrau, sigmoide, tangente hiperbólica, softmax e ReLU (Rectified Linear Unit)\n",
        "\n",
        "### Criando camadas de neurônios \n",
        "\n",
        "Com apenas um neurônio não se pode fazer muita coisa, mas podemos combiná-los em uma estrutura de camadas, cada uma com número diferente de neurônios, formando uma rede neural denominada **Perceptron Multicamadas** (“Multi Layer Perceptron — MLP”). O vetor de valores de entrada $x$ passa pela camada inicial, cujos valores de saída são ligados às entradas da camada seguinte, e assim por diante, até a rede fornecer como resultado os valores de saída da última camada. Pode-se arranjar a rede em várias camadas, tornando-a profunda e capaz de aprender relações cada vez mais complexas.\n",
        "\n",
        "![image.png](https://miro.medium.com/max/1316/1*H61ieko1YyHzqBNZTzz7IQ.png) \n",
        "\n",
        "### Treinamento \n",
        "\n",
        "Para que uma rede dessas funcione, é preciso treiná-la. É como ensinar a uma criança o beabá. O treinamento de uma rede MLP insere-se no contexto de **aprendizado de máquina supervisionado**, em que cada amostra de dados utilizada apresenta um rótulo informando a que classificação ela se encaixa. Por exemplo, uma imagem de um cachorro contém um rótulo informando que aquilo é um cachorro. Assim, a ideia geral é fazer com que a rede aprenda os padrões referentes a cada tipo de coisa (cada *classe*), assim, quando uma amostra desconhecida for fornecida à rede, ela seja capaz de estabelecer a qual classe tal amostra pertence. Como isso pode ser feito?\n",
        "\n",
        "* **Overfitting e Underfitting**\n",
        "\n",
        "Como mencionamos antes, a incapacidade de um modelo de capturar a verdadeira relação entre variáveis e o objeto a ser predito é o que chamamos de VIÉS (Bias em inglês). Então, quando o erro de viés é alto significa que o modelo não está aprendendo nada.\n",
        "\n",
        "Por outro lado, se há um viés muito pequeno o modelo fica tão ajustado aos dados de treinamento que quando é usado com dados diferentes acaba errando muito. Aqui entra o conceito de variância.\n",
        "\n",
        "![image.png](https://miro.medium.com/max/396/1*q_hdLouaSQwUkshCe5rY4Q.png)\n",
        "\n",
        "Nessa imagem temos a linha azul como sendo o nosso modelo onde queremos separar esse dataset em duas categoriais. Veja que há muitos X vermelhos juntos com as bolinhas, as categorias não foram muito bem separadas, isso significa que o modelo ainda não entendeu a “curva” que ele deveria fazer para categorizar esses dados corretamente. Chamamos isso de Underfitting.\n",
        "\n",
        "A variância é a sensibilidade de um modelo ao ser usado com outros datasets diferentes do treinamento. Se o modelo é muito sensível aos dados de treinamento, ou seja, identificou tão bem a relação entre os dados de treinamento que quando colocado em teste irá errar justamente a variação que existe entre os datasets. Veja na última imagem como o nosso modelo está acertando absolutamente todos os dados. Chamamos isso de Overfitting.\n",
        "\n",
        "![image.png](https://miro.medium.com/max/406/1*QfGXli0jP1QDAUuAeWOTeA.png)\n",
        "\n",
        "O modelo ideal seria então será dado pela curva que melhor representasse os dados de uma forma a encontrar equilibro entre essas duas grandezas aqui apresentadas (viés e variância.). E como podemos encontrar isso?\n",
        "\n",
        "* **Backpropagation** \n",
        "\n",
        "A ideia do algoritmo backpropagation é, com base no **cálculo do erro** ocorrido na camada de saída da rede neural, recalcular o valor dos pesos do vetor $w$ da camada última camada de neurônios e assim proceder para as camadas anteriores, de trás para a frente, ou seja, atualizar todos os pesos $w$ das camadas a partir da última até atingir a camada de entrada da rede, para isso realizando a retropropagação o erro obtido pela rede. Em outras palavras, calcula-se o erro entre o que a rede achou que era e o que de fato era (ex. era um gato e ela achou que era um cachorro), então recalculamos o valor de todos os pesos, começando da última camada e indo até a primeira, sempre tendo em vista diminuir esse erro.\n",
        "\n",
        "O algoritmo pode ser então colocado da seguinte forma: \n",
        "\n",
        "1 - Inicializar todos os pesos da rede com pequenos valores **aleatórios.**\n",
        "\n",
        "2 - Fornecer dados de entrada à rede e calcular o valor da função de erro/de custo obtida (cost function), ao comparar com o valor de saída esperado. Lembre-se de que como o aprendizado é supervisionado, já se sabe de antemão qual deveria ser a resposta correta. É importante que a função de erro seja **diferenciável**.\n",
        "\n",
        "3 - Na tentativa de minimizar o valor da função de erro, calculam-se os valores dos **gradientes** para cada peso da rede. Do Cálculo, sabemos que o vetor gradiente fornece a direção de maior crescimento de uma função; aqui, como queremos caminhar com os pesos na direção de maior decréscimo da função de erro, basta tomarmos o sentido contrário ao do gradiente e…voilà! Já temos um excelente caminho por onde andar.\n",
        "\n",
        "4 - Uma vez que temos o vetor gradiente calculado, atualizamos cada peso de modo **iterativo**, sempre recalculando os gradientes em cada passo de iteração, até o erro diminuir e chegar abaixo de algum limiar preestabelecido, ou o número de iterações atingir um valor máximo, quando enfim o algoritmo termina e a rede está treinada.\n",
        "\n",
        "A formula geral de atualização dos pesos na iteração fica então da seguinte forma: \n",
        "\n",
        "$$ w \\Longleftarrow w - \\eta \\frac{\\partial E}{\\partial w} $$\n",
        "\n",
        "Ou seja, o valor do peso na iteração atual será o valor do peso na iteração anterior, corrigido de valor proporcional ao gradiente. O sinal negativo indica que estamos indo na direção contrária à do gradiente, conforme mencionado. O parâmetro $\\eta$ representa a taxa de aprendizado da rede neural, controlando a tamanho do passo que tomamos na correção do peso.\n",
        "\n",
        "Fontes extras: \n",
        "\n",
        "* https://medium.com/@tiago.tmleite/neural-networks-multilayer-perceptron-and-the-backpropagation-algorithm-a5cd5b904fde\n",
        "\n",
        "* https://medium.com/ensina-ai/redes-neurais-roots-1-introdu%C3%A7%C3%A3o-ffdd6f8b9f01\n",
        "\n",
        "* https://medium.com/ensina-ai/redes-neurais-com-tensorflow-primeiros-passos-20847dd5d27f"
      ],
      "metadata": {
        "id": "a43ApC0nH0lX"
      }
    },
    {
      "cell_type": "markdown",
      "source": [
        "## CNN - Convolutional Neural Networks\n",
        "\n",
        "Uma CNN é um tipo específico de rede neural normalmente utilizada para classificação de imagens. Mas para entendermos uma CNN, é preciso compreender como uma imagem é representada computacionalmente.\n",
        "\n",
        "Uma imagem preta e branca (grayscale) é representada como uma matrix 2D, em que cada posição da matrix representa um pixel da imagem. Os valores para cada elemento variam entre 0 (preto) até 255 (branco). Já uma imagem colorida, é normalmente representada por uma matrix 3D de forma que seja possível armazenar uma combinação das cores vermelho, verde e azul (RGB).\n",
        "\n",
        "A ideia principal de uma Rede Convolucional se baseia nisso: filtrar linhas, curvas e bordas e em cada camada acrescida transformar essa filtragem em uma imagem mais complexa. Vamos entender mais detalhadamente nos próximos tópicos.\n",
        "\n",
        "* Entradas\n",
        "\n",
        "Quando falamos em reconhecimento/classificação de imagens, as entradas são usualmente matrizes tridimensionais com altura e largura (de acordo com as dimensões da imagem) e profundidade, determinada pela quantidade de canais de cores. Em geral as imagens utilizam três canais, RGB, com os valores de cada pixel.\n",
        "\n",
        "![image.png](https://miro.medium.com/max/1196/1*VZ2D3BS9avtqzOMvj-9vbQ.png)\n",
        "\n",
        "* Convoluções \n",
        "\n",
        "As convoluções funcionam como filtros que enxergam pequenos quadrados e vão “escorregando” por toda a imagem captando os traços mais marcantes. Explicando melhor, com uma imagem 32x32x3 e um filtro que cobre uma área de 5x5 da imagem com movimento de 2 saltos (chamado de `stride`), o filtro passará pela imagem inteira, por cada um dos canais, formando no final um feature map ou activation map de 28x28x1.\n",
        "\n",
        "A profundidade da saída de uma convolução é igual a quantidade de filtros aplicados. Quanto mais profundas são as camadas das convoluções, mais detalhados são os traços identificados com o activation map.\n",
        "\n",
        "O filtro, que também é conhecido por `kernel`, é formado por pesos inicializados aleatoriamente, atualizando-os a cada nova entrada durante o processo de backpropagation. A pequena região da entrada onde o filtro é aplicado é chamada de `receptive field`.\n",
        "\n",
        "Além do tamanho do filtro e o stride da convolução como hiperparâmetro, quem está modelando uma CNN também tem que escolher como será o `padding`. O padding pode ser nenhum, no qual o output da convolução ficará no seu tamanho original, ou zero pad, onde uma borda é adicionada e preenchida com 0's. O padding serve para que as camadas não diminuam muito mais rápido do que é necessário para o aprendizado.\n",
        "\n",
        "![image.png](https://miro.medium.com/max/1004/1*Oj4LnMvcbPRw2P9rf7TAgA.png)\n",
        "\n",
        "* Função de ativação \n",
        "\n",
        "As funções de ativação servem para trazer a não-linearidades ao sistema, para que a rede consiga aprender qualquer tipo de funcionalidade. Há muitas funções, como [sigmoid](https://en.wikipedia.org/wiki/Sigmoid_function), [tanh](https://pt.wikipedia.org/wiki/Tangente_hiperb%C3%B3lica) e [softmax](https://pt.wikipedia.org/wiki/Fun%C3%A7%C3%A3o_log%C3%ADstica), mas a mais indicada para redes convolucionais é a [Relu](https://en.wikipedia.org/wiki/Rectifier_(neural_networks)) por ser mais eficiente computacionalmente sem grandes diferenças de acurácia quando comparada a outras funções. Essa função zera todos os valores negativos da saída da camada anterior.\n",
        "\n",
        "* Pooling \n",
        "\n",
        "Uma camada de pooling serve para simplificar a informação da camada anterior. Assim como na convolução, é escolhida uma unidade de área, por exemplo 2x2, para transitar por toda a saída da camada anterior. A unidade é responsável por resumir a informação daquela área em um único valor. Se a saída da camada anterior for 24x24, a saída do pooling será 12x12. Além disso, é preciso escolher como será feita a sumarização. O método mais utilizado é o maxpooling, no qual apenas o maior número da unidade é passado para a saída. Essa sumarização de dados serve para diminuir a quantidade de pesos a serem aprendidos e também para evitar overfitting.\n",
        "\n",
        "![image.png](https://miro.medium.com/max/1400/1*WvHC5bKyrHa7Wm3ca-pXtg.gif)\n",
        "\n",
        "Ao final da rede é colocada uma camada Fully connected, onde sua entrada é a saída da camada anterior e sua saída são N neurônios, com N sendo a quantidade de classes do seu modelo para finalizar a classificação.\n",
        "\n",
        "\n",
        "\n",
        "Material Suplementar: \n",
        "\n",
        "* https://medium.com/data-hackers/uma-introdu%C3%A7%C3%A3o-as-redes-neurais-convolucionais-utilizando-o-keras-41ee8dcc033e\n",
        "\n",
        "* https://medium.com/neuronio-br/entendendo-redes-convolucionais-cnns-d10359f21184\n",
        "\n",
        "* https://en.wikipedia.org/wiki/Convolutional_neural_network"
      ],
      "metadata": {
        "id": "tMtJwXIpFA6E"
      }
    },
    {
      "cell_type": "markdown",
      "source": [
        "Para testar um pouco mais os últimos assuntos explicados, vamos criar uma rede neural, especificamente uma convolucional, no intuito de ser capaz de reconhecer digitos numéricos escritos a mão. \n",
        "\n",
        "Vamos começar exportando um dataset especificamente criado para essa tarefa, que é muito utilizado no meio de trabalho de CNN. \n",
        "\n",
        "O [banco de dados MNIST](https://en.wikipedia.org/wiki/MNIST_database) (banco de dados do Instituto Nacional de Padrões e Tecnologia Modificado) é um grande banco de dados de dígitos manuscritos que é comumente usado para treinar vários sistemas de processamento de imagem. O banco de dados também é amplamente utilizado para treinamento e teste na área de aprendizado de máquina. Ele foi criado \"remixando\" as amostras dos conjuntos de dados originais do NIST.\n",
        "\n",
        "Vamos então proceder executando um pip instal desse dataset num formato python friendly, já implementado para essa própria linguagem: "
      ],
      "metadata": {
        "id": "jZuwHKTFkUgB"
      }
    },
    {
      "cell_type": "code",
      "source": [
        "pip install mnist"
      ],
      "metadata": {
        "colab": {
          "base_uri": "https://localhost:8080/"
        },
        "id": "H11_YebSkIXJ",
        "outputId": "c32c47e7-7fb1-4773-afb2-06d29f8c5174"
      },
      "execution_count": 2,
      "outputs": [
        {
          "output_type": "stream",
          "name": "stdout",
          "text": [
            "Looking in indexes: https://pypi.org/simple, https://us-python.pkg.dev/colab-wheels/public/simple/\n",
            "Collecting mnist\n",
            "  Downloading mnist-0.2.2-py2.py3-none-any.whl (3.5 kB)\n",
            "Requirement already satisfied: numpy in /usr/local/lib/python3.7/dist-packages (from mnist) (1.21.6)\n",
            "Installing collected packages: mnist\n",
            "Successfully installed mnist-0.2.2\n"
          ]
        }
      ]
    },
    {
      "cell_type": "markdown",
      "source": [
        "Vamos continuar agora com o código da mesma forma que fizemos com o tratamento e organização de todos os nossos projetos em sklearn até então, identificando o formato do nosso dataset e dividindo ele em parte de treino e parte de teste"
      ],
      "metadata": {
        "id": "viSm3hYbla50"
      }
    },
    {
      "cell_type": "code",
      "source": [
        "from PIL import Image\n",
        "import numpy as np\n",
        "from sklearn.neural_network import MLPClassifier \n",
        "from sklearn.metrics import confusion_matrix \n",
        "import mnist\n",
        "\n",
        "#TRAINING VARIABLES\n",
        "X_train = mnist.train_images()\n",
        "y_train = mnist.train_labels()\n",
        "\n",
        "X_test = mnist.test_images()\n",
        "y_test = mnist.test_labels()\n",
        "\n",
        "print('X_train', X_train)\n",
        "print('X shape', X_train.shape)\n",
        "\n",
        "print('y_train', y_train)\n",
        "print('y shape', y_train.shape)"
      ],
      "metadata": {
        "colab": {
          "base_uri": "https://localhost:8080/"
        },
        "id": "vHJUvpvGjP1d",
        "outputId": "31bf4396-4909-4402-a78f-72c0a92e796d"
      },
      "execution_count": 3,
      "outputs": [
        {
          "output_type": "stream",
          "name": "stdout",
          "text": [
            "X_train [[[0 0 0 ... 0 0 0]\n",
            "  [0 0 0 ... 0 0 0]\n",
            "  [0 0 0 ... 0 0 0]\n",
            "  ...\n",
            "  [0 0 0 ... 0 0 0]\n",
            "  [0 0 0 ... 0 0 0]\n",
            "  [0 0 0 ... 0 0 0]]\n",
            "\n",
            " [[0 0 0 ... 0 0 0]\n",
            "  [0 0 0 ... 0 0 0]\n",
            "  [0 0 0 ... 0 0 0]\n",
            "  ...\n",
            "  [0 0 0 ... 0 0 0]\n",
            "  [0 0 0 ... 0 0 0]\n",
            "  [0 0 0 ... 0 0 0]]\n",
            "\n",
            " [[0 0 0 ... 0 0 0]\n",
            "  [0 0 0 ... 0 0 0]\n",
            "  [0 0 0 ... 0 0 0]\n",
            "  ...\n",
            "  [0 0 0 ... 0 0 0]\n",
            "  [0 0 0 ... 0 0 0]\n",
            "  [0 0 0 ... 0 0 0]]\n",
            "\n",
            " ...\n",
            "\n",
            " [[0 0 0 ... 0 0 0]\n",
            "  [0 0 0 ... 0 0 0]\n",
            "  [0 0 0 ... 0 0 0]\n",
            "  ...\n",
            "  [0 0 0 ... 0 0 0]\n",
            "  [0 0 0 ... 0 0 0]\n",
            "  [0 0 0 ... 0 0 0]]\n",
            "\n",
            " [[0 0 0 ... 0 0 0]\n",
            "  [0 0 0 ... 0 0 0]\n",
            "  [0 0 0 ... 0 0 0]\n",
            "  ...\n",
            "  [0 0 0 ... 0 0 0]\n",
            "  [0 0 0 ... 0 0 0]\n",
            "  [0 0 0 ... 0 0 0]]\n",
            "\n",
            " [[0 0 0 ... 0 0 0]\n",
            "  [0 0 0 ... 0 0 0]\n",
            "  [0 0 0 ... 0 0 0]\n",
            "  ...\n",
            "  [0 0 0 ... 0 0 0]\n",
            "  [0 0 0 ... 0 0 0]\n",
            "  [0 0 0 ... 0 0 0]]]\n",
            "X shape (60000, 28, 28)\n",
            "y_train [5 0 4 ... 5 6 8]\n",
            "y shape (60000,)\n"
          ]
        }
      ]
    },
    {
      "cell_type": "markdown",
      "source": [
        "Vamos ajustar o formato do array acima fazendo o seguinte: "
      ],
      "metadata": {
        "id": "VY0_jqVfJCg6"
      }
    },
    {
      "cell_type": "code",
      "source": [
        "X_train = X_train.reshape((-1, 28*28))\n",
        "X_test = X_test.reshape((-1, 28*28))\n",
        "\n",
        "print(X_train.shape)"
      ],
      "metadata": {
        "colab": {
          "base_uri": "https://localhost:8080/"
        },
        "id": "p332TbSsnPj9",
        "outputId": "5f36bf82-2e6b-4022-8d06-fb17bb5b7277"
      },
      "execution_count": 4,
      "outputs": [
        {
          "output_type": "stream",
          "name": "stdout",
          "text": [
            "(60000, 784)\n"
          ]
        }
      ]
    },
    {
      "cell_type": "markdown",
      "source": [
        "Perceba que se printarmos uma celula inteira, ela tem valores em um range muito grande, algo característico desse formato de dataset, vamos então (assim como já fizemos antes) renormalizar os dados dentro de 0 e 1"
      ],
      "metadata": {
        "id": "7ek0ftnqJJfT"
      }
    },
    {
      "cell_type": "code",
      "source": [
        "print(X_train[0])"
      ],
      "metadata": {
        "colab": {
          "base_uri": "https://localhost:8080/"
        },
        "id": "1fMTHaUPne-n",
        "outputId": "de23447a-d25e-4635-ce52-30c29d319eac"
      },
      "execution_count": 6,
      "outputs": [
        {
          "output_type": "stream",
          "name": "stdout",
          "text": [
            "[  0   0   0   0   0   0   0   0   0   0   0   0   0   0   0   0   0   0\n",
            "   0   0   0   0   0   0   0   0   0   0   0   0   0   0   0   0   0   0\n",
            "   0   0   0   0   0   0   0   0   0   0   0   0   0   0   0   0   0   0\n",
            "   0   0   0   0   0   0   0   0   0   0   0   0   0   0   0   0   0   0\n",
            "   0   0   0   0   0   0   0   0   0   0   0   0   0   0   0   0   0   0\n",
            "   0   0   0   0   0   0   0   0   0   0   0   0   0   0   0   0   0   0\n",
            "   0   0   0   0   0   0   0   0   0   0   0   0   0   0   0   0   0   0\n",
            "   0   0   0   0   0   0   0   0   0   0   0   0   0   0   0   0   0   0\n",
            "   0   0   0   0   0   0   0   0   3  18  18  18 126 136 175  26 166 255\n",
            " 247 127   0   0   0   0   0   0   0   0   0   0   0   0  30  36  94 154\n",
            " 170 253 253 253 253 253 225 172 253 242 195  64   0   0   0   0   0   0\n",
            "   0   0   0   0   0  49 238 253 253 253 253 253 253 253 253 251  93  82\n",
            "  82  56  39   0   0   0   0   0   0   0   0   0   0   0   0  18 219 253\n",
            " 253 253 253 253 198 182 247 241   0   0   0   0   0   0   0   0   0   0\n",
            "   0   0   0   0   0   0   0   0  80 156 107 253 253 205  11   0  43 154\n",
            "   0   0   0   0   0   0   0   0   0   0   0   0   0   0   0   0   0   0\n",
            "   0  14   1 154 253  90   0   0   0   0   0   0   0   0   0   0   0   0\n",
            "   0   0   0   0   0   0   0   0   0   0   0   0   0 139 253 190   2   0\n",
            "   0   0   0   0   0   0   0   0   0   0   0   0   0   0   0   0   0   0\n",
            "   0   0   0   0   0  11 190 253  70   0   0   0   0   0   0   0   0   0\n",
            "   0   0   0   0   0   0   0   0   0   0   0   0   0   0   0   0  35 241\n",
            " 225 160 108   1   0   0   0   0   0   0   0   0   0   0   0   0   0   0\n",
            "   0   0   0   0   0   0   0   0   0  81 240 253 253 119  25   0   0   0\n",
            "   0   0   0   0   0   0   0   0   0   0   0   0   0   0   0   0   0   0\n",
            "   0   0  45 186 253 253 150  27   0   0   0   0   0   0   0   0   0   0\n",
            "   0   0   0   0   0   0   0   0   0   0   0   0   0  16  93 252 253 187\n",
            "   0   0   0   0   0   0   0   0   0   0   0   0   0   0   0   0   0   0\n",
            "   0   0   0   0   0   0   0 249 253 249  64   0   0   0   0   0   0   0\n",
            "   0   0   0   0   0   0   0   0   0   0   0   0   0   0  46 130 183 253\n",
            " 253 207   2   0   0   0   0   0   0   0   0   0   0   0   0   0   0   0\n",
            "   0   0   0   0  39 148 229 253 253 253 250 182   0   0   0   0   0   0\n",
            "   0   0   0   0   0   0   0   0   0   0   0   0  24 114 221 253 253 253\n",
            " 253 201  78   0   0   0   0   0   0   0   0   0   0   0   0   0   0   0\n",
            "   0   0  23  66 213 253 253 253 253 198  81   2   0   0   0   0   0   0\n",
            "   0   0   0   0   0   0   0   0   0   0  18 171 219 253 253 253 253 195\n",
            "  80   9   0   0   0   0   0   0   0   0   0   0   0   0   0   0   0   0\n",
            "  55 172 226 253 253 253 253 244 133  11   0   0   0   0   0   0   0   0\n",
            "   0   0   0   0   0   0   0   0   0   0 136 253 253 253 212 135 132  16\n",
            "   0   0   0   0   0   0   0   0   0   0   0   0   0   0   0   0   0   0\n",
            "   0   0   0   0   0   0   0   0   0   0   0   0   0   0   0   0   0   0\n",
            "   0   0   0   0   0   0   0   0   0   0   0   0   0   0   0   0   0   0\n",
            "   0   0   0   0   0   0   0   0   0   0   0   0   0   0   0   0   0   0\n",
            "   0   0   0   0   0   0   0   0   0   0   0   0   0   0   0   0   0   0\n",
            "   0   0   0   0   0   0   0   0   0   0]\n"
          ]
        }
      ]
    },
    {
      "cell_type": "markdown",
      "source": [
        "Renormalizando de forma simples:"
      ],
      "metadata": {
        "id": "XfyhRYs-nq_N"
      }
    },
    {
      "cell_type": "code",
      "source": [
        "X_train = np.array(X_train/256)\n",
        "X_test = np.array(X_test/256)\n",
        "print(X_train[0])\n",
        "print(X_train.shape)\n",
        "print(y_train.shape)"
      ],
      "metadata": {
        "colab": {
          "base_uri": "https://localhost:8080/"
        },
        "id": "AnJQhYQTnlB3",
        "outputId": "c4c6c90e-1813-4855-a4fd-83dd247e2b54"
      },
      "execution_count": 5,
      "outputs": [
        {
          "output_type": "stream",
          "name": "stdout",
          "text": [
            "[0.         0.         0.         0.         0.         0.\n",
            " 0.         0.         0.         0.         0.         0.\n",
            " 0.         0.         0.         0.         0.         0.\n",
            " 0.         0.         0.         0.         0.         0.\n",
            " 0.         0.         0.         0.         0.         0.\n",
            " 0.         0.         0.         0.         0.         0.\n",
            " 0.         0.         0.         0.         0.         0.\n",
            " 0.         0.         0.         0.         0.         0.\n",
            " 0.         0.         0.         0.         0.         0.\n",
            " 0.         0.         0.         0.         0.         0.\n",
            " 0.         0.         0.         0.         0.         0.\n",
            " 0.         0.         0.         0.         0.         0.\n",
            " 0.         0.         0.         0.         0.         0.\n",
            " 0.         0.         0.         0.         0.         0.\n",
            " 0.         0.         0.         0.         0.         0.\n",
            " 0.         0.         0.         0.         0.         0.\n",
            " 0.         0.         0.         0.         0.         0.\n",
            " 0.         0.         0.         0.         0.         0.\n",
            " 0.         0.         0.         0.         0.         0.\n",
            " 0.         0.         0.         0.         0.         0.\n",
            " 0.         0.         0.         0.         0.         0.\n",
            " 0.         0.         0.         0.         0.         0.\n",
            " 0.         0.         0.         0.         0.         0.\n",
            " 0.         0.         0.         0.         0.         0.\n",
            " 0.         0.         0.         0.         0.         0.\n",
            " 0.         0.         0.01171875 0.0703125  0.0703125  0.0703125\n",
            " 0.4921875  0.53125    0.68359375 0.1015625  0.6484375  0.99609375\n",
            " 0.96484375 0.49609375 0.         0.         0.         0.\n",
            " 0.         0.         0.         0.         0.         0.\n",
            " 0.         0.         0.1171875  0.140625   0.3671875  0.6015625\n",
            " 0.6640625  0.98828125 0.98828125 0.98828125 0.98828125 0.98828125\n",
            " 0.87890625 0.671875   0.98828125 0.9453125  0.76171875 0.25\n",
            " 0.         0.         0.         0.         0.         0.\n",
            " 0.         0.         0.         0.         0.         0.19140625\n",
            " 0.9296875  0.98828125 0.98828125 0.98828125 0.98828125 0.98828125\n",
            " 0.98828125 0.98828125 0.98828125 0.98046875 0.36328125 0.3203125\n",
            " 0.3203125  0.21875    0.15234375 0.         0.         0.\n",
            " 0.         0.         0.         0.         0.         0.\n",
            " 0.         0.         0.         0.0703125  0.85546875 0.98828125\n",
            " 0.98828125 0.98828125 0.98828125 0.98828125 0.7734375  0.7109375\n",
            " 0.96484375 0.94140625 0.         0.         0.         0.\n",
            " 0.         0.         0.         0.         0.         0.\n",
            " 0.         0.         0.         0.         0.         0.\n",
            " 0.         0.         0.3125     0.609375   0.41796875 0.98828125\n",
            " 0.98828125 0.80078125 0.04296875 0.         0.16796875 0.6015625\n",
            " 0.         0.         0.         0.         0.         0.\n",
            " 0.         0.         0.         0.         0.         0.\n",
            " 0.         0.         0.         0.         0.         0.\n",
            " 0.         0.0546875  0.00390625 0.6015625  0.98828125 0.3515625\n",
            " 0.         0.         0.         0.         0.         0.\n",
            " 0.         0.         0.         0.         0.         0.\n",
            " 0.         0.         0.         0.         0.         0.\n",
            " 0.         0.         0.         0.         0.         0.\n",
            " 0.         0.54296875 0.98828125 0.7421875  0.0078125  0.\n",
            " 0.         0.         0.         0.         0.         0.\n",
            " 0.         0.         0.         0.         0.         0.\n",
            " 0.         0.         0.         0.         0.         0.\n",
            " 0.         0.         0.         0.         0.         0.04296875\n",
            " 0.7421875  0.98828125 0.2734375  0.         0.         0.\n",
            " 0.         0.         0.         0.         0.         0.\n",
            " 0.         0.         0.         0.         0.         0.\n",
            " 0.         0.         0.         0.         0.         0.\n",
            " 0.         0.         0.         0.         0.13671875 0.94140625\n",
            " 0.87890625 0.625      0.421875   0.00390625 0.         0.\n",
            " 0.         0.         0.         0.         0.         0.\n",
            " 0.         0.         0.         0.         0.         0.\n",
            " 0.         0.         0.         0.         0.         0.\n",
            " 0.         0.         0.         0.31640625 0.9375     0.98828125\n",
            " 0.98828125 0.46484375 0.09765625 0.         0.         0.\n",
            " 0.         0.         0.         0.         0.         0.\n",
            " 0.         0.         0.         0.         0.         0.\n",
            " 0.         0.         0.         0.         0.         0.\n",
            " 0.         0.         0.17578125 0.7265625  0.98828125 0.98828125\n",
            " 0.5859375  0.10546875 0.         0.         0.         0.\n",
            " 0.         0.         0.         0.         0.         0.\n",
            " 0.         0.         0.         0.         0.         0.\n",
            " 0.         0.         0.         0.         0.         0.\n",
            " 0.         0.0625     0.36328125 0.984375   0.98828125 0.73046875\n",
            " 0.         0.         0.         0.         0.         0.\n",
            " 0.         0.         0.         0.         0.         0.\n",
            " 0.         0.         0.         0.         0.         0.\n",
            " 0.         0.         0.         0.         0.         0.\n",
            " 0.         0.97265625 0.98828125 0.97265625 0.25       0.\n",
            " 0.         0.         0.         0.         0.         0.\n",
            " 0.         0.         0.         0.         0.         0.\n",
            " 0.         0.         0.         0.         0.         0.\n",
            " 0.         0.         0.1796875  0.5078125  0.71484375 0.98828125\n",
            " 0.98828125 0.80859375 0.0078125  0.         0.         0.\n",
            " 0.         0.         0.         0.         0.         0.\n",
            " 0.         0.         0.         0.         0.         0.\n",
            " 0.         0.         0.         0.         0.15234375 0.578125\n",
            " 0.89453125 0.98828125 0.98828125 0.98828125 0.9765625  0.7109375\n",
            " 0.         0.         0.         0.         0.         0.\n",
            " 0.         0.         0.         0.         0.         0.\n",
            " 0.         0.         0.         0.         0.         0.\n",
            " 0.09375    0.4453125  0.86328125 0.98828125 0.98828125 0.98828125\n",
            " 0.98828125 0.78515625 0.3046875  0.         0.         0.\n",
            " 0.         0.         0.         0.         0.         0.\n",
            " 0.         0.         0.         0.         0.         0.\n",
            " 0.         0.         0.08984375 0.2578125  0.83203125 0.98828125\n",
            " 0.98828125 0.98828125 0.98828125 0.7734375  0.31640625 0.0078125\n",
            " 0.         0.         0.         0.         0.         0.\n",
            " 0.         0.         0.         0.         0.         0.\n",
            " 0.         0.         0.         0.         0.0703125  0.66796875\n",
            " 0.85546875 0.98828125 0.98828125 0.98828125 0.98828125 0.76171875\n",
            " 0.3125     0.03515625 0.         0.         0.         0.\n",
            " 0.         0.         0.         0.         0.         0.\n",
            " 0.         0.         0.         0.         0.         0.\n",
            " 0.21484375 0.671875   0.8828125  0.98828125 0.98828125 0.98828125\n",
            " 0.98828125 0.953125   0.51953125 0.04296875 0.         0.\n",
            " 0.         0.         0.         0.         0.         0.\n",
            " 0.         0.         0.         0.         0.         0.\n",
            " 0.         0.         0.         0.         0.53125    0.98828125\n",
            " 0.98828125 0.98828125 0.828125   0.52734375 0.515625   0.0625\n",
            " 0.         0.         0.         0.         0.         0.\n",
            " 0.         0.         0.         0.         0.         0.\n",
            " 0.         0.         0.         0.         0.         0.\n",
            " 0.         0.         0.         0.         0.         0.\n",
            " 0.         0.         0.         0.         0.         0.\n",
            " 0.         0.         0.         0.         0.         0.\n",
            " 0.         0.         0.         0.         0.         0.\n",
            " 0.         0.         0.         0.         0.         0.\n",
            " 0.         0.         0.         0.         0.         0.\n",
            " 0.         0.         0.         0.         0.         0.\n",
            " 0.         0.         0.         0.         0.         0.\n",
            " 0.         0.         0.         0.         0.         0.\n",
            " 0.         0.         0.         0.         0.         0.\n",
            " 0.         0.         0.         0.         0.         0.\n",
            " 0.         0.         0.         0.         0.         0.\n",
            " 0.         0.         0.         0.         0.         0.\n",
            " 0.         0.         0.         0.        ]\n",
            "(60000, 784)\n",
            "(60000,)\n"
          ]
        }
      ]
    },
    {
      "cell_type": "markdown",
      "source": [
        "Finalmente, vamos prosseguir para a criação e treino do nosso modelo assim como explicamos até aqui. Antes disso, quero pontuar que para rodar esse tipo de rede neural é interessante utilizar um ambiente de execução integrado com GPU's para otimizar a execução do mesmo em ordens de grandeza de tempo, para fazer isso dentro do próprio ambiente de programação do Google Colab, recomendo ir em \"Ambiente de execução\" (runtime na versão em inglês) >  \"Alterar o tipo do ambiente de execução\" > \"Acelerador de Hardware\" e então selecionar GPU. Após esse procedimento feito, podemos seguir com: \n",
        "\n",
        "PS.: talvez seja necessário importar as bibliotecas novamente após trocar o ambiente de execução"
      ],
      "metadata": {
        "id": "kYiqwhayn4R2"
      }
    },
    {
      "cell_type": "code",
      "source": [
        "clf = MLPClassifier(solver='adam', activation='relu', hidden_layer_sizes=(64, 64))\n",
        "\n",
        "clf.fit(X_train, y_train)"
      ],
      "metadata": {
        "colab": {
          "base_uri": "https://localhost:8080/"
        },
        "id": "CNVn_i-In3yo",
        "outputId": "5bce276b-d35c-4df7-9b90-6ee486c993f1"
      },
      "execution_count": 6,
      "outputs": [
        {
          "output_type": "execute_result",
          "data": {
            "text/plain": [
              "MLPClassifier(hidden_layer_sizes=(64, 64))"
            ]
          },
          "metadata": {},
          "execution_count": 6
        }
      ]
    },
    {
      "cell_type": "markdown",
      "source": [
        "De posse do modelo treinado, podemos fazer como antes e calcular a sua acurácia usando os dados que separamos para teste no nosso dataset"
      ],
      "metadata": {
        "id": "XbihSFRMPFSL"
      }
    },
    {
      "cell_type": "code",
      "source": [
        "prediction = clf.predict(X_test)\n",
        "acc = confusion_matrix(y_test, prediction)\n",
        "\n",
        "print(acc)"
      ],
      "metadata": {
        "colab": {
          "base_uri": "https://localhost:8080/"
        },
        "id": "kP05kXAIKtzv",
        "outputId": "8098f34f-c1bd-403a-8f99-3ef22c734d86"
      },
      "execution_count": 7,
      "outputs": [
        {
          "output_type": "stream",
          "name": "stdout",
          "text": [
            "[[ 966    0    0    1    1    2    4    2    2    2]\n",
            " [   0 1126    2    1    0    1    2    1    2    0]\n",
            " [   3    1 1002    8    4    0    1    5    8    0]\n",
            " [   0    1    4  988    0    7    0    5    3    2]\n",
            " [   1    0    5    0  960    0    5    2    2    7]\n",
            " [   2    0    0   14    1  866    2    0    5    2]\n",
            " [   4    3    1    1    8    8  931    0    2    0]\n",
            " [   0    4    6    2    2    0    0 1007    3    4]\n",
            " [   4    0    3    8    2    4    0    3  945    5]\n",
            " [   3    2    0    4    8    3    0    6    2  981]]\n"
          ]
        }
      ]
    },
    {
      "cell_type": "markdown",
      "source": [
        "Perceba que dessa vez, devido ao numero diferente de dimensões dos nossos dados obtivemos uma matriz de acurácia - Como esperado!- Podemos então proceder para o cálculo de um valor de acurácia que podemos interpretar melhor seguindo a formula mencionada em nossos materiais suplementares para esse modelo, calculando então o traço da matriz dividido pela soma de todos seus elementos juntos. \n",
        "\n",
        "Para isso, definimos a seguinte função e voilá!"
      ],
      "metadata": {
        "id": "S9ZQFX5PLAY3"
      }
    },
    {
      "cell_type": "code",
      "source": [
        "def accuracy(cm):\n",
        "  diagonal = cm.trace()\n",
        "  elements = cm.sum()\n",
        "  return diagonal/elements\n",
        "\n",
        "print('model accuracy (%): ', accuracy(acc)) "
      ],
      "metadata": {
        "colab": {
          "base_uri": "https://localhost:8080/"
        },
        "id": "XHSTbKBzLEd9",
        "outputId": "0bb7adb9-bebb-4cca-d77e-add4df6ce60d"
      },
      "execution_count": 9,
      "outputs": [
        {
          "output_type": "stream",
          "name": "stdout",
          "text": [
            "0.9772\n"
          ]
        }
      ]
    },
    {
      "cell_type": "markdown",
      "source": [
        "Salvando o modelo para não precisar treinar ele novamente em um ambiente de execução dedicado: \n",
        "\n",
        "\n"
      ],
      "metadata": {
        "id": "x0H0suXPMrxP"
      }
    },
    {
      "cell_type": "code",
      "source": [
        "import joblib \n",
        "\n",
        "filename = 'cnn_model.sav'\n",
        "joblib.dump(clf,filename)\n"
      ],
      "metadata": {
        "colab": {
          "base_uri": "https://localhost:8080/"
        },
        "id": "_udZYZhRMrV5",
        "outputId": "9bd8b5d8-6610-471b-a317-94b54f698669"
      },
      "execution_count": 11,
      "outputs": [
        {
          "output_type": "execute_result",
          "data": {
            "text/plain": [
              "['cnn_model.sav']"
            ]
          },
          "metadata": {},
          "execution_count": 11
        }
      ]
    },
    {
      "cell_type": "markdown",
      "source": [
        "Para abrir o modelo acima novamente sem a necessidade de rodar o fit inteiro novamente, basta executar:"
      ],
      "metadata": {
        "id": "gnwJdVSsN7RA"
      }
    },
    {
      "cell_type": "code",
      "source": [
        "clf = joblib.load(filename) "
      ],
      "metadata": {
        "id": "sJoUiOORN5a0"
      },
      "execution_count": null,
      "outputs": []
    },
    {
      "cell_type": "markdown",
      "source": [
        "Você pode agora testar ele por si mesmo! Basta escrever um número no GIMP ou Paint, salvar ele como imagem e transformar essa imagem numa matriz de dados. Podemos inclusive fazer isso através de um simlpes programa em python, perceba \n",
        "\n",
        "```Python\n",
        "from PIL import Image\n",
        "\n",
        "img  = Image.open('name_of_the_image.png')\n",
        "\n",
        "data = list(img.getdata())\n",
        "print(data)\n",
        "```\n",
        "\n",
        "Vai nos dar um array com um base numero alto (eg 255), após isso podemos então pegar esse número e rodar ele novamente no seguinte formato\n",
        "\n",
        "```Python\n",
        "from PIL import Image\n",
        "\n",
        "img  = Image.open('name_of_the_image.png')\n",
        "\n",
        "data = list(img.getdata())\n",
        "for i in range(len(data)):\n",
        "  data[i] = 255 - data[i]\n",
        "print(data)\n",
        "```\n",
        "\n",
        "então podemos utilizar esse array ajustado para avaliar a precisão do nosso modelo \n",
        "\n",
        "\n",
        "```Python\n",
        "number = [data]\n",
        "number = np.array(number)/256\n",
        "\n",
        "p = clf.predict([number])\n",
        "print(p)\n",
        "```"
      ],
      "metadata": {
        "id": "mZVikRgGPw1b"
      }
    }
  ]
}