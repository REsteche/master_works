{
 "cells": [
  {
   "cell_type": "markdown",
   "id": "c9713c4b",
   "metadata": {},
   "source": [
    "# Notas de estudo sobre NLP utilizando python \n",
    "\n",
    "Natural Language Processing - [NLP](https://medium.com/ensina-ai/introdu%C3%A7%C3%A3o-a-processamento-de-linguagem-natural-174936c096b#:~:text=%C3%89%20o%20processo%20de%20gerar,a%20partir%20de%20um%20v%C3%ADdeo.) (processamento natural de linguagens) é um subcampo da linguística, ciência da computação e inteligência artificial. Essa área de pesquisa concentra-se em tornar a linguagem humana natural utilizável por programas de computador.\n",
    "\n",
    "O objetivo é ser capaz de estabelecer um computador capaz de \"entender\" o conteúdo textuais, incluindo as nuances contextuais da linguagem dentro deles. A tecnologia pode então extrair com precisão informações e insights contidos nos textos estudados, bem como categorizar e organizar os mesmos.\n",
    "\n",
    "Muitos dos dados que podemos analisar estão em formato de dados não estruturados e contêm texto legível apenas por humanos. Antes de poder analisar esses dados programaticamente, primeiro precisamos pré-processá-los. Vamos então estudar bem as tarefas de **pré-processamento de texto** que podemos fazer com o NLTK bem como algumas simples **análises textuais** e implementações de diferentes **ferramentas linguísticas** de análise morfológica e sintática; e também criar diferentes **visualizações** para as mesmas."
   ]
  },
  {
   "cell_type": "markdown",
   "id": "321d328a",
   "metadata": {},
   "source": [
    "## Libs\n",
    "\n",
    "como mencionado na primeira celula, vou conduzir os primeiros estudos utilizando NLTK, e alguns módulos diferentes de Numpy e Matplotlib. Caso algum problema de versão eventualmente aconteça, as funções que pretendo explorar aqui são correspondentes as seguintes versões:\n",
    "\n",
    "```Shell\n",
    "$ python -m pip install nltk==3.5\n",
    "\n",
    "$ python -m pip install numpy matplotlib\n",
    "```"
   ]
  },
  {
   "cell_type": "markdown",
   "id": "b9e23fa1-22b9-4151-8522-25c3c5cf75f3",
   "metadata": {},
   "source": [
    "## Tokenizing \n",
    "\n",
    "\"Tokenizar\", significa dividir convenientemente o texto por palavra ou por frase. Isso permitirá que você trabalhe com textos menores e que ainda são relativamente coerentes e significativos, mesmo fora do contexto do restante do texto. É o primeiro passo para transformar dados não estruturados em dados estruturados, que são mais fáceis de analisar.\n",
    "\n",
    "Ao analisar o texto, você estará tokenizando por palavra e tokenizando por frase. Aqui está o que ambos os tipos de tokenização trazem para a mesa:\n",
    "\n",
    "* Tokenização por palavra: as palavras são como os átomos da linguagem natural. Eles são a menor unidade de significado que ainda faz sentido por conta própria. Tokenizar seu texto por palavra permite identificar palavras que aparecem com frequência. Por exemplo, se você estiver analisando um grupo de anúncios de emprego, poderá descobrir que a palavra “Python” aparece com frequência. Isso pode sugerir uma alta demanda por conhecimento em Python, mas você precisaria se aprofundar para saber mais.\n",
    "\n",
    "* Tokenização por frase: Ao tokenizar por frase, você pode analisar como essas palavras se relacionam e ver mais contexto. Existem muitas palavras negativas em torno da palavra “Python” porque o gerente de contratação não gosta de Python? Existem mais termos do domínio da herpetologia do que do domínio do desenvolvimento de software, sugerindo que você pode estar lidando com um tipo de python totalmente diferente do que esperava?\n",
    "\n",
    "Veja como importar as partes relevantes do NLTK para que você possa tokenizar por palavra e por frase, e definir uma primeira string para podermos efetuar nossa tarefa como desejada:"
   ]
  },
  {
   "cell_type": "code",
   "execution_count": 1,
   "id": "d11c2bbd-fb8a-49cc-b323-443e8f4da6b7",
   "metadata": {},
   "outputs": [],
   "source": [
    "from nltk.tokenize import sent_tokenize, word_tokenize\n",
    "\n",
    "example_string = \"\"\"\n",
    " Muad'Dib learned rapidly because his first training was in how to learn.\n",
    " And the first lesson of all was the basic trust that he could learn.\n",
    " It's shocking to find how many people do not believe they can learn,\n",
    " and how many more believe learning to be difficult.\"\"\""
   ]
  },
  {
   "cell_type": "markdown",
   "id": "acec0b5f-d4c4-4d01-ae62-644edfebe7ff",
   "metadata": {},
   "source": [
    "Vamos agora utilizar a função `sent_tokenize` para splitar nossa string em frases:"
   ]
  },
  {
   "cell_type": "code",
   "execution_count": 4,
   "id": "538dec06-3e04-4e72-bb4b-83e2609d633a",
   "metadata": {},
   "outputs": [
    {
     "data": {
      "text/plain": [
       "[\"\\n Muad'Dib learned rapidly because his first training was in how to learn.\",\n",
       " 'And the first lesson of all was the basic trust that he could learn.',\n",
       " \"It's shocking to find how many people do not believe they can learn,\\n and how many more believe learning to be difficult.\"]"
      ]
     },
     "execution_count": 4,
     "metadata": {},
     "output_type": "execute_result"
    }
   ],
   "source": [
    "sent_tokenize(example_string)"
   ]
  },
  {
   "cell_type": "markdown",
   "id": "bb40717a-7c19-4bee-8646-bcb608223272",
   "metadata": {},
   "source": [
    "Tokenizar a `example_string` por frase nos deu como esperado 3 frases resultantes: \n",
    "\n",
    "* \"Muad'Dib learned rapidly because his first training was in how to learn.\"\n",
    "\n",
    "* 'And the first lesson of all was the basic trust that he could learn.'\n",
    "\n",
    "* \"It's shocking to find how many people do not believe they can learn, and how many more believe learning to be difficult.\"\n",
    "\n",
    "Podemos prosseguir agora para tentar tokenizar nossa string por palavras, fazendo"
   ]
  },
  {
   "cell_type": "code",
   "execution_count": 5,
   "id": "98a6393a-197b-4466-a023-768d00e272a5",
   "metadata": {},
   "outputs": [
    {
     "data": {
      "text/plain": [
       "[\"Muad'Dib\",\n",
       " 'learned',\n",
       " 'rapidly',\n",
       " 'because',\n",
       " 'his',\n",
       " 'first',\n",
       " 'training',\n",
       " 'was',\n",
       " 'in',\n",
       " 'how',\n",
       " 'to',\n",
       " 'learn',\n",
       " '.',\n",
       " 'And',\n",
       " 'the',\n",
       " 'first',\n",
       " 'lesson',\n",
       " 'of',\n",
       " 'all',\n",
       " 'was',\n",
       " 'the',\n",
       " 'basic',\n",
       " 'trust',\n",
       " 'that',\n",
       " 'he',\n",
       " 'could',\n",
       " 'learn',\n",
       " '.',\n",
       " 'It',\n",
       " \"'s\",\n",
       " 'shocking',\n",
       " 'to',\n",
       " 'find',\n",
       " 'how',\n",
       " 'many',\n",
       " 'people',\n",
       " 'do',\n",
       " 'not',\n",
       " 'believe',\n",
       " 'they',\n",
       " 'can',\n",
       " 'learn',\n",
       " ',',\n",
       " 'and',\n",
       " 'how',\n",
       " 'many',\n",
       " 'more',\n",
       " 'believe',\n",
       " 'learning',\n",
       " 'to',\n",
       " 'be',\n",
       " 'difficult',\n",
       " '.']"
      ]
     },
     "execution_count": 5,
     "metadata": {},
     "output_type": "execute_result"
    }
   ],
   "source": [
    "word_tokenize(example_string)"
   ]
  },
  {
   "cell_type": "markdown",
   "id": "248c531f-62a5-436b-ab81-dd739f944368",
   "metadata": {},
   "source": [
    "obtivemos então uma lista de strings que o NLTK considera como sendo palavras, como por exemplo\n",
    "\n",
    "* \"Muad'Dib\"\n",
    "\n",
    "* 'training'\n",
    "\n",
    "* 'how'\n",
    "\n",
    "mas as seguintes strings também foram consideradas palavras: \n",
    "\n",
    "* \"'s\"\n",
    "\n",
    "* ','\n",
    "\n",
    "* '.'\n",
    "\n",
    "Perceba como \"It's\" foi dividido no apóstrofo para dar a você 'It' e \"'s\", mas \"Muad'Dib\" ficou inteiro! Isso acontece porque o NLTK sabe que 'It' e \"'s\" (uma contração de \"is\") são duas palavras distintas, então ele as contou separadamente. Mas \"Muad'Dib\" não é uma contração aceita como \"It's\", então não foi lida como duas palavras separadas e foi deixada intacta."
   ]
  },
  {
   "cell_type": "markdown",
   "id": "3278cb6b-a9e0-44a1-82d9-e5ed31f39e1b",
   "metadata": {},
   "source": [
    "## Filtrando Stop Words\n",
    "\n",
    "As ditas Stop Words são palavras que você deseja ignorar, então você as filtra do seu texto ao processá-lo. Palavras muito comuns como 'in', 'is' e 'an' em ionglês são frequentemente usadas como palavras de parada, pois não adicionam muito significado a um texto em si.\n",
    "\n",
    "Veja como importar as partes relevantes do NLTK para filtrar palavras de parada:"
   ]
  },
  {
   "cell_type": "code",
   "execution_count": 6,
   "id": "1e8421f9-fc8f-4b83-9e96-d48096419ae3",
   "metadata": {},
   "outputs": [
    {
     "name": "stdout",
     "output_type": "stream",
     "text": [
      "['Sir', ',', 'I', 'protest', '.', 'I', 'am', 'not', 'a', 'merry', 'man', '!']\n"
     ]
    }
   ],
   "source": [
    "from nltk.corpus import stopwords\n",
    "from nltk.tokenize import word_tokenize\n",
    "\n",
    "#a quote that you can use to filter\n",
    "quote = \"Sir, I protest. I am not a merry man!\"\n",
    "\n",
    "#tokenizing the quote by word as we did before\n",
    "words_in_quote = word_tokenize(quote)\n",
    "print(words_in_quote)"
   ]
  },
  {
   "cell_type": "markdown",
   "id": "910e00dc-7c58-45af-9134-2bbcdd926713",
   "metadata": {},
   "source": [
    "O próximo passo é criar um conjunto de palavras de parada para filtrar `words_in_quote`. Para este exemplo especifico que estamos tratando, precisamos especificar as palavras de parada em \"inglês\":\n",
    "\n",
    "ps.: Obviamente no nosso caso de trabalho em particular, podemos utilizar o dicionário de stopwords em potuguês (ou até algum dos outros idiomas)"
   ]
  },
  {
   "cell_type": "code",
   "execution_count": 9,
   "id": "68dd38bf-906c-4d06-87a9-5d8cb4a36e12",
   "metadata": {},
   "outputs": [
    {
     "name": "stdout",
     "output_type": "stream",
     "text": [
      "['Sir', ',', 'protest', '.', 'merry', 'man', '!']\n"
     ]
    }
   ],
   "source": [
    "#nltk.download('stopwords')\n",
    "stop_words = set(stopwords.words(\"english\"))\n",
    "\n",
    "#list to hold the words that make it past the filter\n",
    "filtered_list = []\n",
    "\n",
    "for word in words_in_quote:\n",
    "    if word.casefold() not in stop_words:\n",
    "        filtered_list.append(word)\n",
    "        \n",
    "filtered_list = [\n",
    "    word for word in words_in_quote if word.casefold() not in stop_words\n",
    "]\n",
    "\n",
    "print(filtered_list)"
   ]
  },
  {
   "cell_type": "markdown",
   "id": "c6fd6c8a-f75a-4304-99ef-d2f42fd264f2",
   "metadata": {},
   "source": [
    "Você filtrou algumas palavras como 'am' e 'a', mas também filtrou 'not', o que afeta o significado geral da frase. \n",
    "\n",
    "Palavras como 'I' e 'not' podem parecer importantes demais para serem filtradas e, dependendo do tipo de análise que você deseja fazer, elas podem ser. Aqui está o porquê:\n",
    "\n",
    "* 'I' é um pronome, que são palavras de contexto em vez de palavras de conteúdo:\n",
    "\n",
    "  - As **palavras de conteúdo** fornecem informações sobre os tópicos abordados no texto ou o sentimento que o autor tem sobre esses tópicos.\n",
    "\n",
    "  - As **palavras de contexto** fornecem informações sobre o estilo de escrita. Você pode observar padrões em como os autores usam palavras de contexto para quantificar seu estilo de escrita. Depois de quantificar seu estilo de escrita, você pode analisar um texto escrito por um autor desconhecido para ver o quanto ele segue um estilo de escrita específico para tentar identificar quem é o autor.\n",
    "\n",
    "* 'not' é tecnicamente um advérbio, mas ainda foi incluído na lista de palavras de parada do NLTK para inglês. Se você deseja editar a lista de palavras de parada para excluir 'not' ou fazer outras alterações, você pode [baixá-lo](https://www.nltk.org/nltk_data/).\n",
    "\n",
    "Então, 'I' e 'not' podem ser partes importantes de uma frase, mas depende do que você está tentando aprender com essa frase"
   ]
  },
  {
   "cell_type": "markdown",
   "id": "2dfa06e6-3cee-4015-8310-52a7b9961ef5",
   "metadata": {},
   "source": [
    "## Stemming "
   ]
  },
  {
   "cell_type": "markdown",
   "id": "415e19a0-0eec-4fcf-93e2-dfaf146bc61d",
   "metadata": {},
   "source": [
    " **Stemming** é uma tarefa de processamento de texto na qual você reduz as palavras à sua *raiz*, que é a parte central de uma palavra. Por exemplo, as palavras “ajudando” e “ajudante” compartilham a raiz “ajuda”. Técnicas de Stemming permitem que você se concentre no significado básico de uma palavra, em vez de todos os detalhes de como ela está sendo usada. O NLTK tem mais de um \"stemmatizador\", e aqui utilizaremos especificamente o lematizador [Porter](https://www.nltk.org/_modules/nltk/stem/porter.html). \n",
    " \n",
    " Vamos prosseguir importando os módulos necessários, definindo uma string e procedendo com sua stemmização de forma que: \n"
   ]
  },
  {
   "cell_type": "code",
   "execution_count": 10,
   "id": "50eba012-930e-4a30-a4fc-75b2774e39de",
   "metadata": {},
   "outputs": [
    {
     "name": "stdout",
     "output_type": "stream",
     "text": [
      "Our original list of words is:  ['``', 'The', 'crew', 'of', 'the', 'USS', 'Discovery', 'discovered', 'many', 'discoveries', '.', 'Discovering', 'is', 'what', 'explorers', 'do', '.']\n",
      "The new list, of stemmed words is:  ['``', 'the', 'crew', 'of', 'the', 'uss', 'discoveri', 'discov', 'mani', 'discoveri', '.', 'discov', 'is', 'what', 'explor', 'do', '.']\n"
     ]
    }
   ],
   "source": [
    "from nltk.stem import PorterStemmer\n",
    "from nltk.tokenize import word_tokenize \n",
    "\n",
    "stemmer = PorterStemmer() \n",
    "\n",
    "string_for_stemming = \"\"\"\"\n",
    "The crew of the USS Discovery discovered many discoveries.\n",
    "Discovering is what explorers do.\"\"\"\n",
    "\n",
    "#as you can only stem words, we have to tokenize our text like before\n",
    "words = word_tokenize(string_for_stemming)\n",
    "print(\"Our original list of words is: \", words)\n",
    "\n",
    "\n",
    "stemmed_words = [stemmer.stem(word) for word in words]\n",
    "print(\"The new list, of stemmed words is: \", stemmed_words)"
   ]
  },
  {
   "cell_type": "markdown",
   "id": "58e15ac0-7042-430e-8f5d-59298e40a105",
   "metadata": {},
   "source": [
    "Here’s what happened to all the words that started with 'discov' or 'Discov':\n",
    "\n",
    "| Palavra Original      | Versão Stemmizada |\n",
    "| ----------- | ----------- |\n",
    "| 'Discovery'      | 'discoveri'       |\n",
    "| 'discovered'   | 'discov'       |\n",
    "| 'discoveries'      | 'discoveri'       |\n",
    "| 'Discovering'   | 'discov'       |\n",
    "\n",
    "\n",
    "Esses resultados parecem um pouco inconsistentes. Por que 'Discovery' lhe daria 'discoveri' quando 'Discovering' lhe daria 'descov'?\n",
    "\n",
    "**Understemming** e **overstemming** são duas maneiras pelas quais o stemming pode dar errado:\n",
    "\n",
    "* 1. **Understemming** acontece quando duas palavras relacionadas devem ser reduzidas ao mesmo radical, mas não são. Este é um falso negativo.\n",
    "\n",
    "* 2. **Overstemming** acontece quando duas palavras não relacionadas são reduzidas ao mesmo radical, mesmo que não devessem ser. Este é um falso positivo.\n",
    "\n",
    "O que acontece é que o algoritmo de derivação de Porter data de 1979, então é um pouco mais antigo. O stemmatizador **Snowball**, que também é chamado de *Porter2*, é uma melhoria do original e também está disponível através do NLTK, para que você possa usá-lo em seus próprios projetos. Também vale a pena notar que o objetivo do stemmatizador de Porter não é produzir palavras completas, mas encontrar formas variantes de uma palavra.\n",
    "\n",
    "Felizmente, também existem outras maneiras de reduzir as palavras ao seu significado principal, como **lematizar**, que ainda vamos estudar mais a frente no curso. Mas primeiro, precisamos cobrir partes do discurso."
   ]
  },
  {
   "cell_type": "markdown",
   "id": "80f09930-8de8-4293-864e-8a75e8c28aa5",
   "metadata": {},
   "source": [
    "## Marcando partes do discurso (Tagging Parts of Speech)\n",
    "\n",
    "\n",
    "\"Parte do discurso\" é um termo gramatical que lida com os papéis que as palavras desempenham quando você as usa juntas em frases. Marcar partes do discurso, ou **POS tagging**, é a tarefa de rotular as palavras em seu texto de acordo com sua parte do discurso.\n",
    "\n",
    "Em inglês, existem oito partes do discurso:\n",
    "\n",
    "| Parte do discurso  | Papel | exemplos |\n",
    "| ----------- | ----------- | ----------- |            \n",
    "| Noun    | Is a person, place, or thing   |    mountain, bagel, Poland        |\n",
    "| Pronoun  | Replaces a noun     |       you, she, we       | \n",
    "| Adjective      | Gives information about what a noun is like   |      efficient, windy, colorful      |\n",
    "| Verb   | Is an action or a state of being     |       learn, is, go      |\n",
    "| Adverb    | Gives information about how a noun or pronoun is connected to another adverb   |      efficiently, always, very      |\n",
    "| Preposition  | Gives information about how a noun or pronoun is connected to another word     |       from, about, at       | \n",
    "| Conjunction      | Connects two other words or phrases  |      so, because, and      |\n",
    "| Interjection   | Is an exclamation    |       yay, ow, wow      |\n",
    "\n",
    "\n",
    "Algumas fontes também incluem a categoria artigos (como “a” ou “o”) na lista de partes do discurso, mas outras fontes os consideram como adjetivos. O NLTK usa a palavra determinante para se referir a artigos.\n",
    "\n",
    "Veja como importar as partes relevantes do NLTK para marcar partes do discurso:"
   ]
  },
  {
   "cell_type": "code",
   "execution_count": 13,
   "id": "461041f4-f8d9-4c7f-a4d8-72fc0176f55d",
   "metadata": {},
   "outputs": [
    {
     "data": {
      "text/plain": [
       "[('If', 'IN'),\n",
       " ('you', 'PRP'),\n",
       " ('wish', 'VBP'),\n",
       " ('to', 'TO'),\n",
       " ('make', 'VB'),\n",
       " ('an', 'DT'),\n",
       " ('apple', 'NN'),\n",
       " ('pie', 'NN'),\n",
       " ('from', 'IN'),\n",
       " ('scratch', 'NN'),\n",
       " (',', ','),\n",
       " ('you', 'PRP'),\n",
       " ('must', 'MD'),\n",
       " ('first', 'VB'),\n",
       " ('invent', 'VB'),\n",
       " ('the', 'DT'),\n",
       " ('universe', 'NN'),\n",
       " ('.', '.')]"
      ]
     },
     "execution_count": 13,
     "metadata": {},
     "output_type": "execute_result"
    }
   ],
   "source": [
    "#nltk.download('averaged_perceptron_tagger')\n",
    "from nltk.tokenize import word_tokenize\n",
    "\n",
    "sagan_quote = \"\"\"\n",
    "If you wish to make an apple pie from scratch,\n",
    "you must first invent the universe.\"\"\"\n",
    "\n",
    "words_in_sagan_quote = word_tokenize(sagan_quote)\n",
    "\n",
    "import nltk\n",
    "nltk.pos_tag(words_in_sagan_quote)"
   ]
  },
  {
   "cell_type": "markdown",
   "id": "a6e7faac-884b-4a4b-a8d4-35727f2f5c60",
   "metadata": {},
   "source": [
    "All the words in the quote are now in a separate [tuple](https://realpython.com/python-lists-tuples/), with a tag that represents their part of speech. But what do the tags mean? To get a list of tags and their meanings:"
   ]
  },
  {
   "cell_type": "code",
   "execution_count": 15,
   "id": "3063f5f4-b606-4ba7-815b-470115c228f9",
   "metadata": {},
   "outputs": [
    {
     "name": "stderr",
     "output_type": "stream",
     "text": [
      "[nltk_data] Downloading package tagsets to\n",
      "[nltk_data]     C:\\Users\\ruben.araujo\\AppData\\Roaming\\nltk_data...\n"
     ]
    },
    {
     "name": "stdout",
     "output_type": "stream",
     "text": [
      "$: dollar\n",
      "    $ -$ --$ A$ C$ HK$ M$ NZ$ S$ U.S.$ US$\n",
      "'': closing quotation mark\n",
      "    ' ''\n",
      "(: opening parenthesis\n",
      "    ( [ {\n",
      "): closing parenthesis\n",
      "    ) ] }\n",
      ",: comma\n",
      "    ,\n",
      "--: dash\n",
      "    --\n",
      ".: sentence terminator\n",
      "    . ! ?\n",
      ":: colon or ellipsis\n",
      "    : ; ...\n",
      "CC: conjunction, coordinating\n",
      "    & 'n and both but either et for less minus neither nor or plus so\n",
      "    therefore times v. versus vs. whether yet\n",
      "CD: numeral, cardinal\n",
      "    mid-1890 nine-thirty forty-two one-tenth ten million 0.5 one forty-\n",
      "    seven 1987 twenty '79 zero two 78-degrees eighty-four IX '60s .025\n",
      "    fifteen 271,124 dozen quintillion DM2,000 ...\n",
      "DT: determiner\n",
      "    all an another any both del each either every half la many much nary\n",
      "    neither no some such that the them these this those\n",
      "EX: existential there\n",
      "    there\n",
      "FW: foreign word\n",
      "    gemeinschaft hund ich jeux habeas Haementeria Herr K'ang-si vous\n",
      "    lutihaw alai je jour objets salutaris fille quibusdam pas trop Monte\n",
      "    terram fiche oui corporis ...\n",
      "IN: preposition or conjunction, subordinating\n",
      "    astride among uppon whether out inside pro despite on by throughout\n",
      "    below within for towards near behind atop around if like until below\n",
      "    next into if beside ...\n",
      "JJ: adjective or numeral, ordinal\n",
      "    third ill-mannered pre-war regrettable oiled calamitous first separable\n",
      "    ectoplasmic battery-powered participatory fourth still-to-be-named\n",
      "    multilingual multi-disciplinary ...\n",
      "JJR: adjective, comparative\n",
      "    bleaker braver breezier briefer brighter brisker broader bumper busier\n",
      "    calmer cheaper choosier cleaner clearer closer colder commoner costlier\n",
      "    cozier creamier crunchier cuter ...\n",
      "JJS: adjective, superlative\n",
      "    calmest cheapest choicest classiest cleanest clearest closest commonest\n",
      "    corniest costliest crassest creepiest crudest cutest darkest deadliest\n",
      "    dearest deepest densest dinkiest ...\n",
      "LS: list item marker\n",
      "    A A. B B. C C. D E F First G H I J K One SP-44001 SP-44002 SP-44005\n",
      "    SP-44007 Second Third Three Two * a b c d first five four one six three\n",
      "    two\n",
      "MD: modal auxiliary\n",
      "    can cannot could couldn't dare may might must need ought shall should\n",
      "    shouldn't will would\n",
      "NN: noun, common, singular or mass\n",
      "    common-carrier cabbage knuckle-duster Casino afghan shed thermostat\n",
      "    investment slide humour falloff slick wind hyena override subhumanity\n",
      "    machinist ...\n",
      "NNP: noun, proper, singular\n",
      "    Motown Venneboerger Czestochwa Ranzer Conchita Trumplane Christos\n",
      "    Oceanside Escobar Kreisler Sawyer Cougar Yvette Ervin ODI Darryl CTCA\n",
      "    Shannon A.K.C. Meltex Liverpool ...\n",
      "NNPS: noun, proper, plural\n",
      "    Americans Americas Amharas Amityvilles Amusements Anarcho-Syndicalists\n",
      "    Andalusians Andes Andruses Angels Animals Anthony Antilles Antiques\n",
      "    Apache Apaches Apocrypha ...\n",
      "NNS: noun, common, plural\n",
      "    undergraduates scotches bric-a-brac products bodyguards facets coasts\n",
      "    divestitures storehouses designs clubs fragrances averages\n",
      "    subjectivists apprehensions muses factory-jobs ...\n",
      "PDT: pre-determiner\n",
      "    all both half many quite such sure this\n",
      "POS: genitive marker\n",
      "    ' 's\n",
      "PRP: pronoun, personal\n",
      "    hers herself him himself hisself it itself me myself one oneself ours\n",
      "    ourselves ownself self she thee theirs them themselves they thou thy us\n",
      "PRP$: pronoun, possessive\n",
      "    her his mine my our ours their thy your\n",
      "RB: adverb\n",
      "    occasionally unabatingly maddeningly adventurously professedly\n",
      "    stirringly prominently technologically magisterially predominately\n",
      "    swiftly fiscally pitilessly ...\n",
      "RBR: adverb, comparative\n",
      "    further gloomier grander graver greater grimmer harder harsher\n",
      "    healthier heavier higher however larger later leaner lengthier less-\n",
      "    perfectly lesser lonelier longer louder lower more ...\n",
      "RBS: adverb, superlative\n",
      "    best biggest bluntest earliest farthest first furthest hardest\n",
      "    heartiest highest largest least less most nearest second tightest worst\n",
      "RP: particle\n",
      "    aboard about across along apart around aside at away back before behind\n",
      "    by crop down ever fast for forth from go high i.e. in into just later\n",
      "    low more off on open out over per pie raising start teeth that through\n",
      "    under unto up up-pp upon whole with you\n",
      "SYM: symbol\n",
      "    % & ' '' ''. ) ). * + ,. < = > @ A[fj] U.S U.S.S.R * ** ***\n",
      "TO: \"to\" as preposition or infinitive marker\n",
      "    to\n",
      "UH: interjection\n",
      "    Goodbye Goody Gosh Wow Jeepers Jee-sus Hubba Hey Kee-reist Oops amen\n",
      "    huh howdy uh dammit whammo shucks heck anyways whodunnit honey golly\n",
      "    man baby diddle hush sonuvabitch ...\n",
      "VB: verb, base form\n",
      "    ask assemble assess assign assume atone attention avoid bake balkanize\n",
      "    bank begin behold believe bend benefit bevel beware bless boil bomb\n",
      "    boost brace break bring broil brush build ...\n",
      "VBD: verb, past tense\n",
      "    dipped pleaded swiped regummed soaked tidied convened halted registered\n",
      "    cushioned exacted snubbed strode aimed adopted belied figgered\n",
      "    speculated wore appreciated contemplated ...\n",
      "VBG: verb, present participle or gerund\n",
      "    telegraphing stirring focusing angering judging stalling lactating\n",
      "    hankerin' alleging veering capping approaching traveling besieging\n",
      "    encrypting interrupting erasing wincing ...\n",
      "VBN: verb, past participle\n",
      "    multihulled dilapidated aerosolized chaired languished panelized used\n",
      "    experimented flourished imitated reunifed factored condensed sheared\n",
      "    unsettled primed dubbed desired ...\n",
      "VBP: verb, present tense, not 3rd person singular\n",
      "    predominate wrap resort sue twist spill cure lengthen brush terminate\n",
      "    appear tend stray glisten obtain comprise detest tease attract\n",
      "    emphasize mold postpone sever return wag ...\n",
      "VBZ: verb, present tense, 3rd person singular\n",
      "    bases reconstructs marks mixes displeases seals carps weaves snatches\n",
      "    slumps stretches authorizes smolders pictures emerges stockpiles\n",
      "    seduces fizzes uses bolsters slaps speaks pleads ...\n",
      "WDT: WH-determiner\n",
      "    that what whatever which whichever\n",
      "WP: WH-pronoun\n",
      "    that what whatever whatsoever which who whom whosoever\n",
      "WP$: WH-pronoun, possessive\n",
      "    whose\n",
      "WRB: Wh-adverb\n",
      "    how however whence whenever where whereby whereever wherein whereof why\n",
      "``: opening quotation mark\n",
      "    ` ``\n"
     ]
    },
    {
     "name": "stderr",
     "output_type": "stream",
     "text": [
      "[nltk_data]   Unzipping help\\tagsets.zip.\n"
     ]
    }
   ],
   "source": [
    "#lista beem longa, recomendo rodar uma vez apenas por questão de curiosidade\n",
    "nltk.download('tagsets')\n",
    "\n",
    "nltk.help.upenn_tagset()"
   ]
  },
  {
   "cell_type": "markdown",
   "id": "17a110ba-1f56-40cc-a5d4-17b1f5f474de",
   "metadata": {},
   "source": [
    "Aqui está um resumo que você pode usar para começar com as tags POS do NLTK:\n",
    "\n",
    "| Tags que começam com  | Lidam com |\n",
    "| ----------- | ----------- |\n",
    "| JJ  | Adjetivos      |\n",
    "| NN  | substantivos     |\n",
    "| RB    | adverbios    |\n",
    "| PRP  | pronomes   |\n",
    "| VB   | verbos   |\n",
    "\n",
    "Agora que você sabe o que significam as **tags POS**, pode ver que sua marcação foi bastante bem-sucedida:\n",
    "\n",
    "* 'pie' foi marcado como NN porque é um substantivo singular.\n",
    "\n",
    "* 'you' foi marcado como PRP porque é um pronome pessoal.\n",
    "\n",
    "* 'invent' foi marcado como VB porque é a forma básica de um verbo.\n",
    "\n",
    "Mas como o NLTK lidaria com a marcação das partes do discurso em um texto que é basicamente sem sentido? Jabberwocky é um poema sem sentido que tecnicamente não significa muito, mas ainda é escrito de uma maneira que pode transmitir algum tipo de significado para falantes de inglês.\n",
    "\n",
    "vamos testar com uma string der um trecho deste poema "
   ]
  },
  {
   "cell_type": "code",
   "execution_count": 16,
   "id": "45a938fb-a0ad-480b-be74-a024c6ff5384",
   "metadata": {},
   "outputs": [
    {
     "data": {
      "text/plain": [
       "[(\"'Twas\", 'CD'),\n",
       " ('brillig', 'NN'),\n",
       " (',', ','),\n",
       " ('and', 'CC'),\n",
       " ('the', 'DT'),\n",
       " ('slithy', 'JJ'),\n",
       " ('toves', 'NNS'),\n",
       " ('did', 'VBD'),\n",
       " ('gyre', 'NN'),\n",
       " ('and', 'CC'),\n",
       " ('gimble', 'JJ'),\n",
       " ('in', 'IN'),\n",
       " ('the', 'DT'),\n",
       " ('wabe', 'NN'),\n",
       " (':', ':'),\n",
       " ('all', 'DT'),\n",
       " ('mimsy', 'NNS'),\n",
       " ('were', 'VBD'),\n",
       " ('the', 'DT'),\n",
       " ('borogoves', 'NNS'),\n",
       " (',', ','),\n",
       " ('and', 'CC'),\n",
       " ('the', 'DT'),\n",
       " ('mome', 'JJ'),\n",
       " ('raths', 'NNS'),\n",
       " ('outgrabe', 'RB'),\n",
       " ('.', '.')]"
      ]
     },
     "execution_count": 16,
     "metadata": {},
     "output_type": "execute_result"
    }
   ],
   "source": [
    "jabberwocky_excerpt = \"\"\"\n",
    "'Twas brillig, and the slithy toves did gyre and gimble in the wabe:\n",
    "all mimsy were the borogoves, and the mome raths outgrabe.\"\"\"\n",
    "\n",
    "words_in_excerpt = word_tokenize(jabberwocky_excerpt)\n",
    "\n",
    "nltk.pos_tag(words_in_excerpt)"
   ]
  },
  {
   "cell_type": "markdown",
   "id": "e4490710-a9bd-4e89-9207-ef9ab1af0776",
   "metadata": {},
   "source": [
    "Palavras em inglês aceitas como 'and' e 'the' foram corretamente marcadas como uma conjunção e um determinante, respectivamente. A palavra sem sentido 'slithy' foi marcada como um adjetivo, que é o que um falante humano de inglês provavelmente também assumiria do contexto do poema. Muito bem, NLTK!"
   ]
  },
  {
   "cell_type": "markdown",
   "id": "47788951-e4f1-483e-8b8f-d098e2275c2f",
   "metadata": {},
   "source": [
    "## Lemmatazing\n",
    "\n",
    "Agora que você está atualizado em partes do discurso, você pode voltar para a lematização. Assim como a stemmização, a lematização reduz as palavras ao seu significado central, mas lhe dará uma palavra completa em inglês que faz sentido por si só, em vez de apenas um fragmento de uma palavra como 'discoveri'.\n",
    "\n",
    "> Nota: Um **lema** é uma palavra que representa um grupo inteiro de palavras, e esse grupo de palavras é chamado de **lexema**.\n",
    " Por exemplo, se você procurasse a palavra “blending” em um dicionário, precisaria procurar a entrada para “blend”, mas encontraria “blending” listada nessa entrada.\n",
    " Neste exemplo, “blend” é o lema e “blending” é parte do lexema. Então, quando você lematiza uma palavra, você a está reduzindo ao seu lema.\n",
    "\n",
    "Traduzindo isso para um código de forma prática, temos que: "
   ]
  },
  {
   "cell_type": "code",
   "execution_count": 19,
   "id": "033d222b-cfd4-469d-b964-eec4054798c8",
   "metadata": {},
   "outputs": [
    {
     "data": {
      "text/plain": [
       "'scarf'"
      ]
     },
     "execution_count": 19,
     "metadata": {},
     "output_type": "execute_result"
    }
   ],
   "source": [
    "#nltk.download('wordnet')\n",
    "from nltk.stem import WordNetLemmatizer\n",
    "\n",
    "lemmatizer = WordNetLemmatizer()\n",
    "\n",
    "#vamos testar em um substantivo no plural aleatório\n",
    "lemmatizer.lemmatize(\"scarves\")"
   ]
  },
  {
   "cell_type": "markdown",
   "id": "db5ef089-81a3-4c8f-8fc5-f2ece9e107cf",
   "metadata": {},
   "source": [
    "\"scarves\" deu a você 'scarf', então isso já é um pouco mais sofisticado do que o que você teria com o porter stemmer, que é 'scarv'. Em seguida, vamos uma string com mais de uma palavra para lematizar:"
   ]
  },
  {
   "cell_type": "code",
   "execution_count": 20,
   "id": "d48b8607-9fe1-482b-8d55-e2d3fd45577d",
   "metadata": {},
   "outputs": [
    {
     "name": "stdout",
     "output_type": "stream",
     "text": [
      "Nossa lista de palavras lemmatizadas é:  ['The', 'friends', 'of', 'DeSoto', 'love', 'scarves', '.']\n"
     ]
    }
   ],
   "source": [
    "string_for_lemmatizing = \"The friends of DeSoto love scarves.\" \n",
    "\n",
    "words = word_tokenize(string_for_lemmatizing)\n",
    "print(\"Nossa lista de palavras lemmatizadas é: \", words)"
   ]
  },
  {
   "cell_type": "markdown",
   "id": "19e4ef05-72f2-4dd1-998c-cc2a8c0e9514",
   "metadata": {},
   "source": [
    "Isso parece certo. Os plurais 'friends' e 'scarves' tornaram-se os singulares 'friend' e 'scarf'.\n",
    "\n",
    "Mas o que aconteceria se você lematizasse uma palavra que parecesse muito diferente de seu lema? Tente lematizar \"worst\":"
   ]
  },
  {
   "cell_type": "code",
   "execution_count": 21,
   "id": "2861eff8-6bd2-46c6-b473-c0f88cd36eeb",
   "metadata": {},
   "outputs": [
    {
     "data": {
      "text/plain": [
       "'worst'"
      ]
     },
     "execution_count": 21,
     "metadata": {},
     "output_type": "execute_result"
    }
   ],
   "source": [
    "lemmatizer.lemmatize(\"worst\")"
   ]
  },
  {
   "cell_type": "markdown",
   "id": "e33c1eb3-c3cd-4779-8a40-e7afb6a99a25",
   "metadata": {},
   "source": [
    "Você obteve o resultado 'worst' porque o `lemmatizer.lemmatize()` assumiu que \"worst\" era um substantivo. Você pode deixar claro que quer que \"worst\" seja um adjetivo da seguinte forma"
   ]
  },
  {
   "cell_type": "code",
   "execution_count": 22,
   "id": "6ab75a91-a211-4e49-b30e-fedcb5e89f94",
   "metadata": {},
   "outputs": [
    {
     "data": {
      "text/plain": [
       "'bad'"
      ]
     },
     "execution_count": 22,
     "metadata": {},
     "output_type": "execute_result"
    }
   ],
   "source": [
    "lemmatizer.lemmatize(\"worst\", pos=\"a\")"
   ]
  },
  {
   "cell_type": "markdown",
   "id": "a591dff3-2937-4701-9c51-dbd4c7034306",
   "metadata": {},
   "source": [
    "O parâmetro padrão para `pos` é 'n' para substantivo (noun), mas você garantiu que \"worst\" fosse tratado como um adjetivo adicionando o parâmetro pos=\"a\". Como resultado, você ficou 'bad', o que parece muito diferente da sua palavra original e não é nada parecido com o que você obteria se estivesse fazendo uma stemmização. Isso ocorre porque \"worst\" é a forma superlativa do adjetivo \"bad\", e a lematização reduz superlativos e comparativos a seus lemas.\n",
    "\n",
    "Agora que você sabe como usar o NLTK para marcar partes do discurso, você pode tentar marcar suas palavras antes de lematizá-las para evitar misturar *homógrafos* -> palavras que são escritas da mesma forma, mas têm significados diferentes e podem ser resultados de diferentes partes do discurso."
   ]
  },
  {
   "cell_type": "markdown",
   "id": "601eaed0-b202-4f8f-a322-a75f2d3d0fdb",
   "metadata": {},
   "source": [
    "## Chunking \n",
    "\n",
    "Enquanto a **tokenização** permite identificar palavras e frases, **chunking** nos permite identificar frases. Lembrando da definição, uma frase é uma palavra ou grupo de palavras que funciona como uma única unidade para desempenhar uma função gramatical. As frases substantivas por exemplo são construídas em torno de um substantivo.\n",
    "\n",
    "aqui estão alguns exemplos:\n",
    "\n",
    "* Um planeta\n",
    "\n",
    "* Um planeta inclinado \n",
    "\n",
    "* Um planeta sutilmente inclinado\n",
    "\n",
    "Chunking faz uso de POS tags para agrupar palavras e aplicar chunk tags a esses grupos. Os pedaços não se sobrepõem, então uma instância de uma palavra pode estar em apenas um pedaço de cada vez. Antes de fazer o chunk, atente ao fato que você precisa ter certeza de que as partes do discurso em seu texto estão marcadas, então crie uma string para POS tagging. Vamos praticar utilizando uma citação de O Senhor dos Anéis:"
   ]
  },
  {
   "cell_type": "code",
   "execution_count": 23,
   "id": "08ee6e85-b6df-4628-bec1-3f452e535b09",
   "metadata": {},
   "outputs": [
    {
     "name": "stdout",
     "output_type": "stream",
     "text": [
      "['It', \"'s\", 'a', 'dangerous', 'business', ',', 'Frodo', ',', 'going', 'out', 'your', 'door', '.']\n"
     ]
    }
   ],
   "source": [
    "from nltk.tokenize import word_tokenize\n",
    "\n",
    "lotr_quote = \"It's a dangerous business, Frodo, going out your door.\"\n",
    "\n",
    "words_in_lotr_quote = word_tokenize(lotr_quote)\n",
    "print(words_in_lotr_quote) "
   ]
  },
  {
   "cell_type": "code",
   "execution_count": 24,
   "id": "2343b724-f391-4feb-a71e-85029bf72878",
   "metadata": {},
   "outputs": [
    {
     "data": {
      "text/plain": [
       "[('It', 'PRP'),\n",
       " (\"'s\", 'VBZ'),\n",
       " ('a', 'DT'),\n",
       " ('dangerous', 'JJ'),\n",
       " ('business', 'NN'),\n",
       " (',', ','),\n",
       " ('Frodo', 'NNP'),\n",
       " (',', ','),\n",
       " ('going', 'VBG'),\n",
       " ('out', 'RP'),\n",
       " ('your', 'PRP$'),\n",
       " ('door', 'NN'),\n",
       " ('.', '.')]"
      ]
     },
     "execution_count": 24,
     "metadata": {},
     "output_type": "execute_result"
    }
   ],
   "source": [
    "#import nltk\n",
    "#nltk.download(\"averaged_perceptron_tagger\")\n",
    "\n",
    "lotr_pos_tags = nltk.pos_tag(words_in_lotr_quote)\n",
    "lotr_pos_tags"
   ]
  },
  {
   "cell_type": "markdown",
   "id": "36141e9b-96ea-42ea-a2a2-c9976bd46cd2",
   "metadata": {},
   "source": [
    "Você tem agora uma lista de tuples de todas as palavras na citação, junto com sua tag POS. Para fazer o chunk, primeiro você precisa definir uma gramática do chunk.\n",
    "\n",
    "> Nota: Uma **chunk grammar** é uma combinação de regras sobre como as frases devem ser fragmentadas. Geralmente usa [expressões regulares](https://en.wikipedia.org/wiki/Regular_expression) ou **regexes**.\n",
    "  No escopo desse trabalho, não vou abordar como as expressões regulares funcionam, mas elas definitivamente serão úteis no futuro se você quiser processar texto.\n",
    "  \n",
    "Vamos criar uma **chunk grammar** com uma expressão regular baseada numa frase substantiva (Noun phrase - NP). Você pode aprender mais sobre fragmentação de frases nominais no [Capítulo 7](https://www.nltk.org/book/ch07.html#noun-phrase-chunking) de Processamento de linguagem natural com Python—Analisando texto com o kit de ferramentas de linguagem natural.\n",
    "\n",
    "Vamos estabelecer como regra da nossa gramática:\n",
    "\n",
    "1. Começar com um determinante opcional (?)->(DT)\n",
    "2. Pode ter qualquer número (*) de adjetivos (JJ)\n",
    "3. Terminar com um substantivo (NN)\n",
    "    \n",
    "vamos também criar um analisador de pedaços ('chunck parser') com esta gramática "
   ]
  },
  {
   "cell_type": "code",
   "execution_count": 25,
   "id": "798eda1b-d1ae-4198-ab2c-84b90bb2ecf4",
   "metadata": {},
   "outputs": [],
   "source": [
    "grammar = \"NP: {<DT>?<JJ>*<NN>}\"\n",
    "\n",
    "chunk_parser = nltk.RegexpParser(grammar)"
   ]
  },
  {
   "cell_type": "markdown",
   "id": "f74936a0-211d-487d-bea4-9292f458a1fb",
   "metadata": {},
   "source": [
    "Agora vamos aplicar essa gramática de chuncking na nossa frase pré definida, e também criar um mapa de visualização utilizando uma ferramenta simples do nltk para tal:"
   ]
  },
  {
   "cell_type": "code",
   "execution_count": 26,
   "id": "a69926e5-57f8-4806-93dc-f5cce2518a69",
   "metadata": {},
   "outputs": [],
   "source": [
    "tree = chunk_parser.parse(lotr_pos_tags)\n",
    "tree.draw()"
   ]
  },
  {
   "cell_type": "markdown",
   "id": "987dd5f7-c49d-4d7d-a438-e456d84205b0",
   "metadata": {},
   "source": [
    "![chunk.png](chunk.png) \n",
    "\n",
    "Você tem duas frases nominais:\n",
    "\n",
    "1. 'a dangerous business' tem um determinante, um adjetivo e um substantivo.\n",
    "2. 'door' tem apenas um substantivo.\n",
    "\n",
    "Agora que você sabe sobre o chunking, é hora de olhar para o chinking."
   ]
  },
  {
   "cell_type": "markdown",
   "id": "9b21a570-726b-47f0-a666-50af02dfd810",
   "metadata": {},
   "source": [
    "## Chinking\n",
    "\n",
    "Chinking é usado junto com chunking, mas enquanto chunking é usado para incluir um padrão, chinking é usado para excluir um padrão.\n",
    "\n",
    "Vamos reutilizar a citação que usamos na seção sobre anterior então. Você já tem uma lista de tuples contendo cada uma das palavras na citação junto com sua parte da tag de fala:"
   ]
  },
  {
   "cell_type": "code",
   "execution_count": 27,
   "id": "b9e86d38-b87e-420e-97b8-fc449fd2f401",
   "metadata": {},
   "outputs": [
    {
     "data": {
      "text/plain": [
       "[('It', 'PRP'),\n",
       " (\"'s\", 'VBZ'),\n",
       " ('a', 'DT'),\n",
       " ('dangerous', 'JJ'),\n",
       " ('business', 'NN'),\n",
       " (',', ','),\n",
       " ('Frodo', 'NNP'),\n",
       " (',', ','),\n",
       " ('going', 'VBG'),\n",
       " ('out', 'RP'),\n",
       " ('your', 'PRP$'),\n",
       " ('door', 'NN'),\n",
       " ('.', '.')]"
      ]
     },
     "execution_count": 27,
     "metadata": {},
     "output_type": "execute_result"
    }
   ],
   "source": [
    "lotr_pos_tags"
   ]
  },
  {
   "cell_type": "markdown",
   "id": "d0d43ac6-35e0-4874-a98a-cef538a474ab",
   "metadata": {},
   "source": [
    "A próxima etapa é criar uma gramática para determinar o que você deseja incluir e excluir em seus blocos. Desta vez, você usará mais de uma linha porque terá mais de uma regra. Como você está usando mais de uma linha para a gramática, vamos utilizar aspas triplas (\"\"\"):"
   ]
  },
  {
   "cell_type": "code",
   "execution_count": 28,
   "id": "8679f866-7446-499a-9204-326ffaf6911b",
   "metadata": {},
   "outputs": [],
   "source": [
    "grammar = \"\"\"\n",
    "Chunk: {<.*>+}\n",
    "       }<JJ>{\"\"\""
   ]
  },
  {
   "cell_type": "markdown",
   "id": "6276f33a-8cc5-4a23-9942-3caa24862360",
   "metadata": {},
   "source": [
    "A primeira regra da sua gramática é `{<.*>+}`. Essa regra tem chaves voltadas para dentro ({}) porque é usada para determinar quais padrões você deseja incluir em seus blocos. Nesse caso, você deseja incluir tudo: <.*>+.\n",
    "\n",
    "A segunda regra da sua gramática é `}<JJ>{`. Essa regra tem chaves voltadas para fora (}{) porque é usada para determinar quais padrões você deseja excluir em seus blocos. Nesse caso, você deseja excluir adjetivos: JJ.\n",
    "\n",
    "Usando novamente o analisador de pedaços com esta gramática, e o método de visualização"
   ]
  },
  {
   "cell_type": "code",
   "execution_count": 29,
   "id": "e54efb56-0c92-475a-b716-8e3e6ae19cfd",
   "metadata": {},
   "outputs": [
    {
     "name": "stdout",
     "output_type": "stream",
     "text": [
      "(S\n",
      "  (Chunk It/PRP 's/VBZ a/DT)\n",
      "  dangerous/JJ\n",
      "  (Chunk\n",
      "    business/NN\n",
      "    ,/,\n",
      "    Frodo/NNP\n",
      "    ,/,\n",
      "    going/VBG\n",
      "    out/RP\n",
      "    your/PRP$\n",
      "    door/NN\n",
      "    ./.))\n"
     ]
    }
   ],
   "source": [
    "chunk_parser = nltk.RegexpParser(grammar)\n",
    "\n",
    "tree = chunk_parser.parse(lotr_pos_tags)\n",
    "print(tree)\n",
    "\n",
    "tree.draw()"
   ]
  },
  {
   "cell_type": "markdown",
   "id": "702f053a-0bf5-4256-99ea-c10148f91062",
   "metadata": {},
   "source": [
    "![chunk2.png](chunk2.png)\n",
    "\n",
    "Aqui, excluímos o adjetivo 'dangerous' dos chunkings ficamos com dois pedaços contendo todo o resto. O primeiro pedaço contém todo o texto que apareceu antes do adjetivo que foi excluído. O segundo pedaço contém tudo depois do adjetivo que foi excluído.\n",
    "\n",
    "Agora que você sabe como excluir padrões de seus chunks, é hora de analisar o reconhecimento de entidade nomeada (NER)."
   ]
  },
  {
   "cell_type": "markdown",
   "id": "02116b92-4cc1-4d2c-aad2-b3513937f36d",
   "metadata": {
    "tags": []
   },
   "source": [
    "## Usando o Reconhecimento de Entidade Nomeada (NER)\n",
    "\n",
    "**Entidades nomeadas** são frases nominais que se referem a locais específicos, pessoas, organizações e assim por diante. Com o **reconhecimento de entidade nomeada**, você pode encontrar as entidades nomeadas em seus textos e também determinar que tipo de entidade nomeada elas são.\n",
    "\n",
    "Aqui está a lista de tipos de entidade nomeados do [livro NLTK:](https://www.nltk.org/book/ch07.html#sec-ner)\n",
    "\n",
    "\n",
    "|NE Type  |\tExamples|\n",
    "|---------|---------|\n",
    "|ORGANIZATION|\tGeorgia-Pacific Corp., WHO|\n",
    "|PERSON|\tEddy Bonte, President Obama|\n",
    "|LOCATION|\tMurray River, Mount Everest|\n",
    "|DATE|\tJune, 2008-06-29|\n",
    "|TIME|\ttwo fifty a m, 1:30 p.m.|\n",
    "|MONEY|\t175 million Canadian Dollars, GBP 10.40|\n",
    "|PERCENT|\ttwenty pct, 18.75 %|\n",
    "|FACILITY|\tWashington Monument, Stonehenge|\n",
    "|GPE|\tSouth East Asia, Midlothian|\n",
    "\n",
    "\n",
    "Podemos usar `nltk.ne_chunk()` para reconhecer entidades nomeadas. Vamos usar `lotr_pos_tags` novamente para testar:"
   ]
  },
  {
   "cell_type": "code",
   "execution_count": 30,
   "id": "a74417a1-b4be-4ea2-ab55-bbf384183b84",
   "metadata": {},
   "outputs": [
    {
     "name": "stderr",
     "output_type": "stream",
     "text": [
      "[nltk_data] Downloading package maxent_ne_chunker to\n",
      "[nltk_data]     C:\\Users\\ruben.araujo\\AppData\\Roaming\\nltk_data...\n",
      "[nltk_data]   Unzipping chunkers\\maxent_ne_chunker.zip.\n",
      "[nltk_data] Downloading package words to\n",
      "[nltk_data]     C:\\Users\\ruben.araujo\\AppData\\Roaming\\nltk_data...\n",
      "[nltk_data]   Unzipping corpora\\words.zip.\n"
     ]
    }
   ],
   "source": [
    "nltk.download(\"maxent_ne_chunker\")\n",
    "nltk.download(\"words\")\n",
    "\n",
    "tree = nltk.ne_chunk(lotr_pos_tags)\n",
    "\n",
    "tree.draw()"
   ]
  },
  {
   "cell_type": "markdown",
   "id": "58896ef5-0b75-4551-8e9e-1d386f1bdd8c",
   "metadata": {},
   "source": [
    "![chunk3.png](chunk3.png)\n",
    "\n",
    "Viu como Frodo foi marcado como PESSOA? Você também tem a opção de usar o parâmetro binary=True se quiser apenas saber quais são as entidades nomeadas, mas não que tipo de entidade nomeada elas são:"
   ]
  },
  {
   "cell_type": "code",
   "execution_count": 31,
   "id": "72f41d13-4ab2-4e43-bf80-7a6f9cecad49",
   "metadata": {},
   "outputs": [],
   "source": [
    "tree = nltk.ne_chunk(lotr_pos_tags, binary=True)\n",
    "tree.draw()"
   ]
  },
  {
   "cell_type": "markdown",
   "id": "c13136ce-993d-4d53-8ef8-cd69f1ca330e",
   "metadata": {},
   "source": [
    "![chunk4.png](chunk4.png)\n",
    "\n",
    "\n",
    "É assim que você pode identificar entidades nomeadas!! Mas você pode dar um passo adiante e extrair entidades nomeadas diretamente do seu texto. Vamos usar esta citação de A Guerra dos Mundos para praticar:"
   ]
  },
  {
   "cell_type": "code",
   "execution_count": 32,
   "id": "0da558fe-d882-40b4-8952-e2474e493503",
   "metadata": {},
   "outputs": [],
   "source": [
    "quote = \"\"\"\n",
    "Men like Schiaparelli watched the red planet—it is odd, by-the-bye, that\n",
    "for countless centuries Mars has been the star of war—but failed to\n",
    "interpret the fluctuating appearances of the markings they mapped so well.\n",
    "All that time the Martians must have been getting ready.\n",
    "\n",
    "During the opposition of 1894 a great light was seen on the illuminated\n",
    "part of the disk, first at the Lick Observatory, then by Perrotin of Nice,\n",
    "and then by other observers. English readers heard of it first in the\n",
    "issue of Nature dated August 2.\"\"\"\n",
    "\n",
    "def extract_ne(quote):\n",
    "    words = word_tokenize(quote)\n",
    "    tags = nltk.pos_tag(words)\n",
    "    tree = nltk.ne_chunk(tags, binary=True)\n",
    "    return set(\n",
    "         \" \".join(i[0] for i in t)\n",
    "         for t in tree\n",
    "         if hasattr(t, \"label\") and t.label() == \"NE\"\n",
    "     )"
   ]
  },
  {
   "cell_type": "markdown",
   "id": "cda947ef-a8e5-47d6-91c8-5b7f05fcfdfb",
   "metadata": {},
   "source": [
    "Com esta função, você reúne todas as entidades nomeadas (sem repetições). Para fazer isso, você tokeniza por palavra, aplica parte das tags de fala a essas palavras e, em seguida, extrai entidades nomeadas com base nessas tags. Como você incluiu binary=True, as entidades nomeadas que você obterá não serão rotuladas mais especificamente. Você apenas saberá que eles são entidades nomeadas.\n",
    "\n",
    "Aas informações extraídas a parte: "
   ]
  },
  {
   "cell_type": "code",
   "execution_count": 33,
   "id": "39e1d13b-bf00-471c-8651-22f6ee18a326",
   "metadata": {},
   "outputs": [
    {
     "data": {
      "text/plain": [
       "{'Lick Observatory', 'Mars', 'Nature', 'Perrotin', 'Schiaparelli'}"
      ]
     },
     "execution_count": 33,
     "metadata": {},
     "output_type": "execute_result"
    }
   ],
   "source": [
    "extract_ne(quote)"
   ]
  },
  {
   "cell_type": "markdown",
   "id": "f1fd55fa-85ba-4bb7-ac00-cc7bc56b8d0a",
   "metadata": {},
   "source": [
    "Perceba que o programa deixou passar a cidade de Nice, possivelmente porque o NLTK a interpretou como um adjetivo regular em inglês (nice = legal), mas ainda assim obteve o seguinte:\n",
    "\n",
    "* Uma instituição: 'Lick Observatory'\n",
    "* Um planeta: 'Marte'\n",
    "* Uma publicação: 'Natureza'\n",
    "* Pessoas: 'Perrotin', 'Schiaparelli'\n",
    "\n",
    "Um excelente resultado para um programa com funções imbutidas! "
   ]
  },
  {
   "cell_type": "markdown",
   "id": "c8c17c4d-77a8-403c-960c-ad95a342e3c9",
   "metadata": {},
   "source": [
    "## Obtendo o texto para analisar\n",
    "\n",
    "Agora que você realizou algumas tarefas de processamento de texto com pequenos textos de exemplo, está pronto para analisar vários textos de uma só vez. Um conjunto de textos é chamado de **corpus**. O NLTK fornece vários **corpora** cobrindo tudo, desde romances apresentados pelo Projeto Gutenberg até discursos inaugurais de presidentes dos Estados Unidos.\n",
    "\n",
    "Para analisar textos no NLTK, primeiro você precisa importá-los. Isso requer nltk.download(\"book\"), que é um download bem grande:"
   ]
  },
  {
   "cell_type": "code",
   "execution_count": 34,
   "id": "4e82479d-5e46-4d77-bc0c-c42b297f7ed7",
   "metadata": {},
   "outputs": [
    {
     "name": "stderr",
     "output_type": "stream",
     "text": [
      "[nltk_data] Downloading collection 'book'\n",
      "[nltk_data]    | \n",
      "[nltk_data]    | Downloading package abc to\n",
      "[nltk_data]    |     C:\\Users\\ruben.araujo\\AppData\\Roaming\\nltk_data..\n",
      "[nltk_data]    |     .\n",
      "[nltk_data]    |   Unzipping corpora\\abc.zip.\n",
      "[nltk_data]    | Downloading package brown to\n",
      "[nltk_data]    |     C:\\Users\\ruben.araujo\\AppData\\Roaming\\nltk_data..\n",
      "[nltk_data]    |     .\n",
      "[nltk_data]    |   Unzipping corpora\\brown.zip.\n",
      "[nltk_data]    | Downloading package chat80 to\n",
      "[nltk_data]    |     C:\\Users\\ruben.araujo\\AppData\\Roaming\\nltk_data..\n",
      "[nltk_data]    |     .\n",
      "[nltk_data]    |   Unzipping corpora\\chat80.zip.\n",
      "[nltk_data]    | Downloading package cmudict to\n",
      "[nltk_data]    |     C:\\Users\\ruben.araujo\\AppData\\Roaming\\nltk_data..\n",
      "[nltk_data]    |     .\n",
      "[nltk_data]    |   Unzipping corpora\\cmudict.zip.\n",
      "[nltk_data]    | Downloading package conll2000 to\n",
      "[nltk_data]    |     C:\\Users\\ruben.araujo\\AppData\\Roaming\\nltk_data..\n",
      "[nltk_data]    |     .\n",
      "[nltk_data]    |   Unzipping corpora\\conll2000.zip.\n",
      "[nltk_data]    | Downloading package conll2002 to\n",
      "[nltk_data]    |     C:\\Users\\ruben.araujo\\AppData\\Roaming\\nltk_data..\n",
      "[nltk_data]    |     .\n",
      "[nltk_data]    |   Unzipping corpora\\conll2002.zip.\n",
      "[nltk_data]    | Downloading package dependency_treebank to\n",
      "[nltk_data]    |     C:\\Users\\ruben.araujo\\AppData\\Roaming\\nltk_data..\n",
      "[nltk_data]    |     .\n",
      "[nltk_data]    |   Unzipping corpora\\dependency_treebank.zip.\n",
      "[nltk_data]    | Downloading package genesis to\n",
      "[nltk_data]    |     C:\\Users\\ruben.araujo\\AppData\\Roaming\\nltk_data..\n",
      "[nltk_data]    |     .\n",
      "[nltk_data]    |   Unzipping corpora\\genesis.zip.\n",
      "[nltk_data]    | Downloading package gutenberg to\n",
      "[nltk_data]    |     C:\\Users\\ruben.araujo\\AppData\\Roaming\\nltk_data..\n",
      "[nltk_data]    |     .\n",
      "[nltk_data]    |   Unzipping corpora\\gutenberg.zip.\n",
      "[nltk_data]    | Downloading package ieer to\n",
      "[nltk_data]    |     C:\\Users\\ruben.araujo\\AppData\\Roaming\\nltk_data..\n",
      "[nltk_data]    |     .\n",
      "[nltk_data]    |   Unzipping corpora\\ieer.zip.\n",
      "[nltk_data]    | Downloading package inaugural to\n",
      "[nltk_data]    |     C:\\Users\\ruben.araujo\\AppData\\Roaming\\nltk_data..\n",
      "[nltk_data]    |     .\n",
      "[nltk_data]    |   Unzipping corpora\\inaugural.zip.\n",
      "[nltk_data]    | Downloading package movie_reviews to\n",
      "[nltk_data]    |     C:\\Users\\ruben.araujo\\AppData\\Roaming\\nltk_data..\n",
      "[nltk_data]    |     .\n",
      "[nltk_data]    |   Unzipping corpora\\movie_reviews.zip.\n",
      "[nltk_data]    | Downloading package nps_chat to\n",
      "[nltk_data]    |     C:\\Users\\ruben.araujo\\AppData\\Roaming\\nltk_data..\n",
      "[nltk_data]    |     .\n",
      "[nltk_data]    |   Unzipping corpora\\nps_chat.zip.\n",
      "[nltk_data]    | Downloading package names to\n",
      "[nltk_data]    |     C:\\Users\\ruben.araujo\\AppData\\Roaming\\nltk_data..\n",
      "[nltk_data]    |     .\n",
      "[nltk_data]    |   Unzipping corpora\\names.zip.\n",
      "[nltk_data]    | Downloading package ppattach to\n",
      "[nltk_data]    |     C:\\Users\\ruben.araujo\\AppData\\Roaming\\nltk_data..\n",
      "[nltk_data]    |     .\n",
      "[nltk_data]    |   Unzipping corpora\\ppattach.zip.\n",
      "[nltk_data]    | Downloading package reuters to\n",
      "[nltk_data]    |     C:\\Users\\ruben.araujo\\AppData\\Roaming\\nltk_data..\n",
      "[nltk_data]    |     .\n",
      "[nltk_data]    | Downloading package senseval to\n",
      "[nltk_data]    |     C:\\Users\\ruben.araujo\\AppData\\Roaming\\nltk_data..\n",
      "[nltk_data]    |     .\n",
      "[nltk_data]    |   Unzipping corpora\\senseval.zip.\n",
      "[nltk_data]    | Downloading package state_union to\n",
      "[nltk_data]    |     C:\\Users\\ruben.araujo\\AppData\\Roaming\\nltk_data..\n",
      "[nltk_data]    |     .\n",
      "[nltk_data]    |   Unzipping corpora\\state_union.zip.\n",
      "[nltk_data]    | Downloading package stopwords to\n",
      "[nltk_data]    |     C:\\Users\\ruben.araujo\\AppData\\Roaming\\nltk_data..\n",
      "[nltk_data]    |     .\n",
      "[nltk_data]    |   Package stopwords is already up-to-date!\n",
      "[nltk_data]    | Downloading package swadesh to\n",
      "[nltk_data]    |     C:\\Users\\ruben.araujo\\AppData\\Roaming\\nltk_data..\n",
      "[nltk_data]    |     .\n",
      "[nltk_data]    |   Unzipping corpora\\swadesh.zip.\n",
      "[nltk_data]    | Downloading package timit to\n",
      "[nltk_data]    |     C:\\Users\\ruben.araujo\\AppData\\Roaming\\nltk_data..\n",
      "[nltk_data]    |     .\n",
      "[nltk_data]    |   Unzipping corpora\\timit.zip.\n",
      "[nltk_data]    | Downloading package treebank to\n",
      "[nltk_data]    |     C:\\Users\\ruben.araujo\\AppData\\Roaming\\nltk_data..\n",
      "[nltk_data]    |     .\n",
      "[nltk_data]    |   Unzipping corpora\\treebank.zip.\n",
      "[nltk_data]    | Downloading package toolbox to\n",
      "[nltk_data]    |     C:\\Users\\ruben.araujo\\AppData\\Roaming\\nltk_data..\n",
      "[nltk_data]    |     .\n",
      "[nltk_data]    |   Unzipping corpora\\toolbox.zip.\n",
      "[nltk_data]    | Downloading package udhr to\n",
      "[nltk_data]    |     C:\\Users\\ruben.araujo\\AppData\\Roaming\\nltk_data..\n",
      "[nltk_data]    |     .\n",
      "[nltk_data]    |   Unzipping corpora\\udhr.zip.\n",
      "[nltk_data]    | Downloading package udhr2 to\n",
      "[nltk_data]    |     C:\\Users\\ruben.araujo\\AppData\\Roaming\\nltk_data..\n",
      "[nltk_data]    |     .\n",
      "[nltk_data]    |   Unzipping corpora\\udhr2.zip.\n",
      "[nltk_data]    | Downloading package unicode_samples to\n",
      "[nltk_data]    |     C:\\Users\\ruben.araujo\\AppData\\Roaming\\nltk_data..\n",
      "[nltk_data]    |     .\n",
      "[nltk_data]    |   Unzipping corpora\\unicode_samples.zip.\n",
      "[nltk_data]    | Downloading package webtext to\n",
      "[nltk_data]    |     C:\\Users\\ruben.araujo\\AppData\\Roaming\\nltk_data..\n",
      "[nltk_data]    |     .\n",
      "[nltk_data]    |   Unzipping corpora\\webtext.zip.\n",
      "[nltk_data]    | Downloading package wordnet to\n",
      "[nltk_data]    |     C:\\Users\\ruben.araujo\\AppData\\Roaming\\nltk_data..\n",
      "[nltk_data]    |     .\n",
      "[nltk_data]    |   Package wordnet is already up-to-date!\n",
      "[nltk_data]    | Downloading package wordnet_ic to\n",
      "[nltk_data]    |     C:\\Users\\ruben.araujo\\AppData\\Roaming\\nltk_data..\n",
      "[nltk_data]    |     .\n",
      "[nltk_data]    |   Unzipping corpora\\wordnet_ic.zip.\n",
      "[nltk_data]    | Downloading package words to\n",
      "[nltk_data]    |     C:\\Users\\ruben.araujo\\AppData\\Roaming\\nltk_data..\n",
      "[nltk_data]    |     .\n",
      "[nltk_data]    |   Package words is already up-to-date!\n",
      "[nltk_data]    | Downloading package maxent_treebank_pos_tagger to\n",
      "[nltk_data]    |     C:\\Users\\ruben.araujo\\AppData\\Roaming\\nltk_data..\n",
      "[nltk_data]    |     .\n",
      "[nltk_data]    |   Unzipping taggers\\maxent_treebank_pos_tagger.zip.\n",
      "[nltk_data]    | Downloading package maxent_ne_chunker to\n",
      "[nltk_data]    |     C:\\Users\\ruben.araujo\\AppData\\Roaming\\nltk_data..\n",
      "[nltk_data]    |     .\n",
      "[nltk_data]    |   Package maxent_ne_chunker is already up-to-date!\n",
      "[nltk_data]    | Downloading package universal_tagset to\n",
      "[nltk_data]    |     C:\\Users\\ruben.araujo\\AppData\\Roaming\\nltk_data..\n",
      "[nltk_data]    |     .\n",
      "[nltk_data]    |   Unzipping taggers\\universal_tagset.zip.\n",
      "[nltk_data]    | Downloading package punkt to\n",
      "[nltk_data]    |     C:\\Users\\ruben.araujo\\AppData\\Roaming\\nltk_data..\n",
      "[nltk_data]    |     .\n",
      "[nltk_data]    |   Package punkt is already up-to-date!\n",
      "[nltk_data]    | Downloading package book_grammars to\n",
      "[nltk_data]    |     C:\\Users\\ruben.araujo\\AppData\\Roaming\\nltk_data..\n",
      "[nltk_data]    |     .\n",
      "[nltk_data]    |   Unzipping grammars\\book_grammars.zip.\n",
      "[nltk_data]    | Downloading package city_database to\n",
      "[nltk_data]    |     C:\\Users\\ruben.araujo\\AppData\\Roaming\\nltk_data..\n",
      "[nltk_data]    |     .\n",
      "[nltk_data]    |   Unzipping corpora\\city_database.zip.\n",
      "[nltk_data]    | Downloading package tagsets to\n",
      "[nltk_data]    |     C:\\Users\\ruben.araujo\\AppData\\Roaming\\nltk_data..\n",
      "[nltk_data]    |     .\n",
      "[nltk_data]    |   Package tagsets is already up-to-date!\n",
      "[nltk_data]    | Downloading package panlex_swadesh to\n",
      "[nltk_data]    |     C:\\Users\\ruben.araujo\\AppData\\Roaming\\nltk_data..\n",
      "[nltk_data]    |     .\n",
      "[nltk_data]    | Downloading package averaged_perceptron_tagger to\n",
      "[nltk_data]    |     C:\\Users\\ruben.araujo\\AppData\\Roaming\\nltk_data..\n",
      "[nltk_data]    |     .\n",
      "[nltk_data]    |   Package averaged_perceptron_tagger is already up-\n",
      "[nltk_data]    |       to-date!\n",
      "[nltk_data]    | \n",
      "[nltk_data]  Done downloading collection book\n"
     ]
    },
    {
     "name": "stdout",
     "output_type": "stream",
     "text": [
      "*** Introductory Examples for the NLTK Book ***\n",
      "Loading text1, ..., text9 and sent1, ..., sent9\n",
      "Type the name of the text or sentence to view it.\n",
      "Type: 'texts()' or 'sents()' to list the materials.\n",
      "text1: Moby Dick by Herman Melville 1851\n",
      "text2: Sense and Sensibility by Jane Austen 1811\n",
      "text3: The Book of Genesis\n",
      "text4: Inaugural Address Corpus\n",
      "text5: Chat Corpus\n",
      "text6: Monty Python and the Holy Grail\n",
      "text7: Wall Street Journal\n",
      "text8: Personals Corpus\n",
      "text9: The Man Who Was Thursday by G . K . Chesterton 1908\n"
     ]
    }
   ],
   "source": [
    "nltk.download(\"book\")\n",
    "from nltk.book import *"
   ]
  },
  {
   "cell_type": "markdown",
   "id": "73e77add-90a2-4fa1-ba3c-a45a9aad304b",
   "metadata": {},
   "source": [
    "Esse download no valida acesso a alguns textos lineares (como Razão e Sensibilidade e Monty Python e o Cálice Sagrado), bem como alguns grupos de textos (como um corpus de bate-papo e um corpus de relacionamento pessoal). Este corpus é uma coleção de anúncios pessoais, que eram uma versão inicial do namoro online. Se você quisesse conhecer alguém, poderia colocar um anúncio em um jornal e esperar que outros leitores respondessem a você.\n",
    "\n",
    "Se você quiser aprender como obter outros textos para analisar, confira o [Capítulo 3](https://www.nltk.org/book/ch03.html) de Processamento de linguagem natural com Python – analisando texto com o kit de ferramentas de linguagem natural. Esse capítulo varre as possibilidades in built dessa biblioteca, assim como utilizar textos que estão salvos localmente e também textos na web. \n",
    "\n",
    "## Utilizando Concordância\n",
    "\n",
    "Ao usar uma concordância, você pode ver cada vez que uma palavra é usada, juntamente com seu contexto imediato. Isso oferece informação sobre como uma palavra está sendo usada no nível da frase e quais palavras são usadas com ela.\n",
    "\n",
    "O corpus pessoal mencionado anteriomente é chamado text8, então vamos chamar .concordance() nele com o parâmetro 'man', e analisar o que esse dataset do site de relacionamentos nos oferece como retorno "
   ]
  },
  {
   "cell_type": "code",
   "execution_count": 35,
   "id": "53632256-aafe-413a-82ca-8b4a5f358b84",
   "metadata": {},
   "outputs": [
    {
     "name": "stdout",
     "output_type": "stream",
     "text": [
      "Displaying 14 of 14 matches:\n",
      " to hearing from you all . ABLE young man seeks , sexy older women . Phone for \n",
      "ble relationship . GENUINE ATTRACTIVE MAN 40 y . o ., no ties , secure , 5 ft .\n",
      "ship , and quality times . VIETNAMESE MAN Single , never married , financially \n",
      "ip . WELL DRESSED emotionally healthy man 37 like to meet full figured woman fo\n",
      " nth subs LIKE TO BE MISTRESS of YOUR MAN like to be treated well . Bold DTE no\n",
      "eeks lady in similar position MARRIED MAN 50 , attrac . fit , seeks lady 40 - 5\n",
      "eks nice girl 25 - 30 serious rship . Man 46 attractive fit , assertive , and k\n",
      " 40 - 50 sought by Aussie mid 40s b / man f / ship r / ship LOVE to meet widowe\n",
      "discreet times . Sth E Subs . MARRIED MAN 42yo 6ft , fit , seeks Lady for discr\n",
      "woman , seeks professional , employed man , with interests in theatre , dining \n",
      " tall and of large build seeks a good man . I am a nonsmoker , social drinker ,\n",
      "lead to relationship . SEEKING HONEST MAN I am 41 y . o ., 5 ft . 4 , med . bui\n",
      " quiet times . Seeks 35 - 45 , honest man with good SOH & similar interests , f\n",
      " genuine , caring , honest and normal man for fship , poss rship . S / S , S / \n"
     ]
    }
   ],
   "source": [
    "text8.concordance(\"man\")"
   ]
  },
  {
   "cell_type": "markdown",
   "id": "7154e2b4-b67b-46af-81f5-2e7290f20d7c",
   "metadata": {},
   "source": [
    "vamos analisar se o contexto é parecido com a palavra 'woman'"
   ]
  },
  {
   "cell_type": "code",
   "execution_count": 36,
   "id": "ac785fd1-d45d-4639-8410-5ba2ac42be1e",
   "metadata": {},
   "outputs": [
    {
     "name": "stdout",
     "output_type": "stream",
     "text": [
      "Displaying 11 of 11 matches:\n",
      "at home . Seeking an honest , caring woman , slim or med . build , who enjoys t\n",
      "thy man 37 like to meet full figured woman for relationship . 48 slim , shy , S\n",
      "rry . MALE 58 years old . Is there a Woman who would like to spend 1 weekend a \n",
      " other interests . Seeking Christian Woman for fship , view to rship . SWM 45 D\n",
      "ALE 60 - burly beared seeks intimate woman for outings n / s s / d F / ston / P\n",
      "ington . SCORPIO 47 seeks passionate woman for discreet intimate encounters SEX\n",
      "le dad . 42 , East sub . 5 \" 9 seeks woman 30 + for f / ship relationship TALL \n",
      "personal trainer looking for married woman age open for fun MARRIED Dark guy 37\n",
      "rinker , seeking slim - medium build woman who is happy in life , age open . AC\n",
      ". O . TERTIARY Educated professional woman , seeks professional , employed man \n",
      " real romantic , age 50 - 65 y . o . WOMAN OF SUBSTANCE 56 , 59 kg ., 50 , fit \n"
     ]
    }
   ],
   "source": [
    "text8.concordance(\"woman\")"
   ]
  },
  {
   "cell_type": "markdown",
   "id": "7fb59201-b963-45d9-8181-54719ba1739e",
   "metadata": {},
   "source": [
    "Perceba que mergulhar em um corpus com uma concordância não lhe dará a imagem completa, mas ainda pode ser interessante dar uma olhada e ver se algo se destaca, assim como serve como uma visualização prévia da escrita e de como os textos estào estruturados ao redor de termos do seu interesse!! \n",
    "\n",
    "## Fazendo um gráfico de dispersão\n",
    "\n",
    "Você pode usar um gráfico de dispersão para ver o quanto uma determinada palavra aparece e onde ela aparece dentro do seu texto. Até agora, procuramos por \"man\" e \"woman\", mas seria interessante ver o quanto essas palavras são usadas em comparação com seus sinônimos:"
   ]
  },
  {
   "cell_type": "code",
   "execution_count": 37,
   "id": "283c3f68-38dd-4865-a782-63278436a854",
   "metadata": {},
   "outputs": [
    {
     "data": {
      "image/png": "[encoded data removed]",
      "text/plain": [
       "<Figure size 432x288 with 1 Axes>"
      ]
     },
     "metadata": {
      "needs_background": "light"
     },
     "output_type": "display_data"
    }
   ],
   "source": [
    "text8.dispersion_plot(\n",
    "    [\"woman\", \"lady\", \"girl\", \"gal\", \"man\", \"gentleman\", \"boy\", \"guy\" ]\n",
    "                     )"
   ]
  },
  {
   "cell_type": "markdown",
   "id": "d3c67cf9-8019-4e29-9e2f-ce3e89e74bdf",
   "metadata": {},
   "source": [
    "Cada linha azul vertical representa uma instância de uma palavra. Cada linha horizontal de linhas azuis representa o corpus como um todo. Este gráfico mostra que:\n",
    "\n",
    "* \"lady\" foi usado muito mais do que \"woman\" ou \"girl\". Não houve casos de \"gal\".\n",
    "* \"man\" e \"guy\" foram usados um número semelhante de vezes e foram mais comuns do que \"gentleman\" ou \"boy\".\n",
    "\n",
    "Você usa um gráfico de dispersão quando deseja ver onde as palavras aparecem em um texto ou corpus. Se você estiver analisando um único texto, isso pode ajudá-lo a ver quais palavras aparecem próximas umas das outras. Se você estiver analisando um corpus de textos organizado cronologicamente, isso pode ajudá-lo a ver quais palavras foram usadas mais ou menos durante um período de tempo.\n",
    "\n",
    "Continuando no tema do romance, veja o que você pode descobrir fazendo um enredo de dispersão para Razão e Sensibilidade, que é o text2. Os romances de Jane Austen falam muito sobre as casas das pessoas, então faça um gráfico de dispersão com os nomes de algumas casas:"
   ]
  },
  {
   "cell_type": "code",
   "execution_count": 38,
   "id": "cdd41394-3d63-4240-93d1-c9b124319ec4",
   "metadata": {},
   "outputs": [
    {
     "data": {
      "image/png": "[encoded data removed]",
      "text/plain": [
       "<Figure size 432x288 with 1 Axes>"
      ]
     },
     "metadata": {
      "needs_background": "light"
     },
     "output_type": "display_data"
    }
   ],
   "source": [
    "text2.dispersion_plot([\"Allenham\", \"Whitwell\", \"Cleveland\", \"Combe\"])"
   ]
  },
  {
   "cell_type": "markdown",
   "id": "55e543b3-3a7b-4f6e-967f-cb73cc99304e",
   "metadata": {},
   "source": [
    "Aparentemente Allenham é muito mencionado no primeiro terço do romance e depois não aparece muito novamente. Cleveland, por outro lado, mal aparece nos dois primeiros terços, mas aparece bastante no último terço. Esta distribuição reflete mudanças na relação entre Marianne e Willoughby:\n",
    "\n",
    "* Allenham é a casa da benfeitora de Willoughby e surge muito quando Marianne se interessa por ele.\n",
    "* Cleveland é uma casa em que Marianne fica depois que ela vai ver Willoughby em Londres e as coisas dão errado.\n",
    "\n",
    "Os gráficos de dispersão são apenas um tipo de visualização que você pode fazer para dados textuais. O próximo que você verá são as distribuições de frequência (algo como que um histograma).\n",
    "\n",
    "## Fazendo uma distribuição de frequência de Palavras \n",
    "\n",
    "Com uma distribuição de frequência, você pode verificar quais palavras aparecem com mais frequência no seu texto. Perceba: "
   ]
  },
  {
   "cell_type": "code",
   "execution_count": 39,
   "id": "577863d9-536e-4210-8d5f-d81fdd9c5165",
   "metadata": {},
   "outputs": [
    {
     "name": "stdout",
     "output_type": "stream",
     "text": [
      "<FreqDist with 1108 samples and 4867 outcomes>\n"
     ]
    }
   ],
   "source": [
    "from nltk import FreqDist\n",
    "\n",
    "frequency_distribution = FreqDist(text8)\n",
    "print(frequency_distribution) "
   ]
  },
  {
   "cell_type": "markdown",
   "id": "efb0324a-9eb6-4fe5-ae25-85445ddfff42",
   "metadata": {},
   "source": [
    "Como 1.108 amostras e 4.867 resultados são muitas informações, comece reduzindo isso. Veja como ver as 20 palavras mais comuns no corpus:"
   ]
  },
  {
   "cell_type": "code",
   "execution_count": 40,
   "id": "430f71b9-4611-4b7b-a046-32b41ec4200f",
   "metadata": {},
   "outputs": [
    {
     "data": {
      "text/plain": [
       "[(',', 539),\n",
       " ('.', 353),\n",
       " ('/', 110),\n",
       " ('for', 99),\n",
       " ('and', 74),\n",
       " ('to', 74),\n",
       " ('lady', 68),\n",
       " ('-', 66),\n",
       " ('seeks', 60),\n",
       " ('a', 52),\n",
       " ('with', 44),\n",
       " ('S', 36),\n",
       " ('ship', 33),\n",
       " ('&', 30),\n",
       " ('relationship', 29),\n",
       " ('fun', 28),\n",
       " ('in', 27),\n",
       " ('slim', 27),\n",
       " ('build', 27),\n",
       " ('o', 26)]"
      ]
     },
     "execution_count": 40,
     "metadata": {},
     "output_type": "execute_result"
    }
   ],
   "source": [
    "frequency_distribution.most_common(20)"
   ]
  },
  {
   "cell_type": "markdown",
   "id": "52bfb169-a49d-439d-b8d0-74e64f7dd872",
   "metadata": {},
   "source": [
    "Você tem muitas palavras de parada em sua distribuição de frequência, mas pode removê-las exatamente como fez anteriormente. Crie uma lista de todas as palavras em text8 que não são palavras de parada:"
   ]
  },
  {
   "cell_type": "code",
   "execution_count": 41,
   "id": "a622dc98-6a3f-4418-90a0-3fa09d6deeea",
   "metadata": {},
   "outputs": [
    {
     "data": {
      "text/plain": [
       "[(',', 539),\n",
       " ('.', 353),\n",
       " ('/', 110),\n",
       " ('lady', 68),\n",
       " ('-', 66),\n",
       " ('seeks', 60),\n",
       " ('ship', 33),\n",
       " ('&', 30),\n",
       " ('relationship', 29),\n",
       " ('fun', 28),\n",
       " ('slim', 27),\n",
       " ('build', 27),\n",
       " ('smoker', 23),\n",
       " ('50', 23),\n",
       " ('non', 22),\n",
       " ('movies', 22),\n",
       " ('good', 21),\n",
       " ('honest', 20),\n",
       " ('dining', 19),\n",
       " ('rship', 18)]"
      ]
     },
     "execution_count": 41,
     "metadata": {},
     "output_type": "execute_result"
    }
   ],
   "source": [
    "from nltk.corpus import stopwords\n",
    "stop_words = set(stopwords.words(\"english\"))\n",
    "\n",
    "meaningful_words = [ \n",
    "    word for word in text8 if word.casefold() not in stop_words\n",
    "]\n",
    "\n",
    "frequency_distribution = FreqDist(meaningful_words) \n",
    "frequency_distribution.most_common(20)"
   ]
  },
  {
   "cell_type": "code",
   "execution_count": 42,
   "id": "7321712f-73a8-44d7-9e37-ece32dcff580",
   "metadata": {},
   "outputs": [
    {
     "data": {
      "image/png": "[encoded data removed]",
      "text/plain": [
       "<Figure size 432x288 with 1 Axes>"
      ]
     },
     "metadata": {
      "needs_background": "light"
     },
     "output_type": "display_data"
    },
    {
     "data": {
      "text/plain": [
       "<AxesSubplot:xlabel='Samples', ylabel='Cumulative Counts'>"
      ]
     },
     "execution_count": 42,
     "metadata": {},
     "output_type": "execute_result"
    }
   ],
   "source": [
    "frequency_distribution.plot(20, cumulative=True)"
   ]
  },
  {
   "cell_type": "markdown",
   "id": "042f60f4-3952-43a1-8c00-9b2736d642e3",
   "metadata": {},
   "source": [
    "Podemos também gerar uma WordCloud para ter o mesmo resultado mas num formato de visualização mais bonito (aqui, rodamos especificamente para as primeiras 60 palavras mais frequentes para termos um chart mais preenchido e interessante) - Em datasets mais amplos e com mais variação de discurso, geralmente as wordclouds ficam mais interessantes -. "
   ]
  },
  {
   "cell_type": "code",
   "execution_count": 44,
   "id": "2e73b9a3-52a1-4aec-a7b3-2cadbce385f6",
   "metadata": {},
   "outputs": [
    {
     "data": {
      "image/png": "[encoded data removed]",
      "text/plain": [
       "<Figure size 432x432 with 1 Axes>"
      ]
     },
     "metadata": {
      "needs_background": "light"
     },
     "output_type": "display_data"
    }
   ],
   "source": [
    "from wordcloud import WordCloud, STOPWORDS\n",
    "import matplotlib.pyplot as plt\n",
    "stopwords = set(STOPWORDS)\n",
    "\n",
    "def show_wordcloud(data, title = None):\n",
    "    wordcloud = WordCloud(\n",
    "        background_color='black',\n",
    "        stopwords=stopwords,\n",
    "        max_words=60,\n",
    "        max_font_size=30, \n",
    "        scale=3,\n",
    "        random_state=1 # chosen at random by flipping a coin; it was heads\n",
    "    ).generate(str(data))\n",
    "\n",
    "    fig = plt.figure(1, figsize=(6, 6))\n",
    "    plt.axis('off')\n",
    "    if title: \n",
    "        fig.suptitle(title, fontsize=20)\n",
    "        fig.subplots_adjust(top=2.3)\n",
    "\n",
    "    plt.imshow(wordcloud)\n",
    "    plt.show()\n",
    "\n",
    "show_wordcloud(frequency_distribution.most_common(60))"
   ]
  },
  {
   "cell_type": "markdown",
   "id": "7fa40163-54f7-418c-8870-f87aef5c83ac",
   "metadata": {},
   "source": [
    "Algumas das palavras mais comuns são:\n",
    "\n",
    "* 'lady'\n",
    "* 'seeks'\n",
    "* 'ship'\n",
    "* 'relationship'\n",
    "* 'fun'\n",
    "* 'slim'\n",
    "* 'build'\n",
    "* 'smoker'\n",
    "* '50'\n",
    "* 'non'\n",
    "* 'movies'\n",
    "* 'good'\n",
    "* 'honest'\n",
    "\n",
    "Como visto antes, pessoas escrevendo esses anúncios pessoais pareciam interessados em honestidade e usavam muito a palavra 'lady'. Podemos também interpretar alguns detalhes a partir dessa pequena visualizaçào, como por exemplo 'slim' e 'build' aparecem o mesmo número de vezes. Você viu slim e build usados próximos um do outro quando estava aprendendo sobre concordâncias, então talvez essas duas palavras sejam comumente usadas juntas neste corpus. Isso nos leva às colocações! "
   ]
  },
  {
   "cell_type": "markdown",
   "id": "8ebe8da9-766d-418b-a4c5-853c7c0c9363",
   "metadata": {},
   "source": [
    "## Encontrando colocações\n",
    "\n",
    "Uma colocação é uma sequência de palavras que aparece com frequência. Se você estiver interessado em colocações comuns em inglês, confira o [The BBI Dictionary of English Word Combinations](https://benjamins.com/catalog/z.bbi1(2nd)#:~:text=The%20BBI%20Dictionary%20of%20English%20Word%20Combinations%20tells%20you%20which,between%20American%20and%20British%20English.). É uma referência útil que você pode usar para ajudá-lo a garantir que sua escrita seja idiomática. Aqui estão alguns exemplos de colocações que usam a palavra “tree” em inglês:\n",
    "\n",
    "* \"Syntax tree\"\n",
    "* \"Family tree\"\n",
    "* \"Decision tree\"\n",
    "\n",
    "Para ver pares de palavras que aparecem com frequência em seu corpus, você precisa chamar .collocations() nele:"
   ]
  },
  {
   "cell_type": "code",
   "execution_count": 45,
   "id": "3633251e-47db-4ea8-b48d-28e74b35a2f3",
   "metadata": {},
   "outputs": [
    {
     "name": "stdout",
     "output_type": "stream",
     "text": [
      "would like; medium build; social drinker; quiet nights; non smoker;\n",
      "long term; age open; Would like; easy going; financially secure; fun\n",
      "times; similar interests; Age open; weekends away; poss rship; well\n",
      "presented; never married; single mum; permanent relationship; slim\n",
      "build\n"
     ]
    }
   ],
   "source": [
    "text8.collocations()"
   ]
  },
  {
   "cell_type": "markdown",
   "id": "bf7b0f12-0c22-4bd1-a5c3-2323e899dccb",
   "metadata": {},
   "source": [
    "\"slim build\" apareceu, assim como \"medium build\" e várias outras combinações de palavras. \n",
    "\n",
    "Mas o que aconteceria se você procurasse por colocações depois de lematizar as palavras em seu corpus? Você encontraria algumas combinações de palavras que você perdeu na primeira vez porque elas surgiram em versões ligeiramente variadas?\n",
    "\n",
    "Se você seguiu as instruções anteriores, já terá um lematizador, mas não poderá chamar collocations() em qualquer tipo de dados, então precisará fazer algum trabalho de preparação. Precisamos criar uma lista das versões lematizadas de todas as palavras em text8:"
   ]
  },
  {
   "cell_type": "code",
   "execution_count": 46,
   "id": "5ad4a863-f0ca-43a6-b7af-ff2fa02a720c",
   "metadata": {},
   "outputs": [
    {
     "name": "stdout",
     "output_type": "stream",
     "text": [
      "medium build; social drinker; non smoker; quiet night; long term;\n",
      "would like; age open; easy going; financially secure; Would like; fun\n",
      "time; similar interest; Age open; weekend away; well presented; never\n",
      "married; single mum; permanent relationship; year old; slim build\n"
     ]
    }
   ],
   "source": [
    "from nltk.stem import WordNetLemmatizer\n",
    "\n",
    "lemmatizer = WordNetLemmatizer()\n",
    "\n",
    "lemmatized_words = [lemmatizer.lemmatize(word) for word in text8]\n",
    "\n",
    "#transfromando texto para formato nltk que da pra usar nas funções que vimos\n",
    "new_text = nltk.Text(lemmatized_words)\n",
    "new_text.collocations()"
   ]
  },
  {
   "cell_type": "markdown",
   "id": "58bf06a8-dbb1-48cd-9a0c-05ee1011b202",
   "metadata": {},
   "source": [
    "Em comparação com a lista anterior de colocações, esta nova está faltando algumas:\n",
    "\n",
    "* weekends away\n",
    "* poss rship\n",
    "\n",
    "A ideia de `quiet nights` ainda aparece na versão lematizada, `quiet night`. Sua última busca por colocações também trouxe algumas novidades:\n",
    "\n",
    "* **year old** sugere que os usuários muitas vezes mencionam idades.\n",
    "* **photo pls** sugere que os usuários geralmente solicitem uma ou mais fotos.\n",
    "\n",
    "É assim que você pode encontrar combinações de palavras comuns para ver o que as pessoas estão falando e como estão falando sobre isso."
   ]
  }
 ],
 "metadata": {
  "kernelspec": {
   "display_name": "Python 3 (ipykernel)",
   "language": "python",
   "name": "python3"
  },
  "language_info": {
   "codemirror_mode": {
    "name": "ipython",
    "version": 3
   },
   "file_extension": ".py",
   "mimetype": "text/x-python",
   "name": "python",
   "nbconvert_exporter": "python",
   "pygments_lexer": "ipython3",
   "version": "3.9.12"
  }
 },
 "nbformat": 4,
 "nbformat_minor": 5
}
