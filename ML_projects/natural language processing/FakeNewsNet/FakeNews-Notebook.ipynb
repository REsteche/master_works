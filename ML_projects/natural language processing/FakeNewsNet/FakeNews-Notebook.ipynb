{
 "cells": [
  {
   "cell_type": "markdown",
   "id": "10f1aeed",
   "metadata": {},
   "source": [
    "## Importing Relevant news"
   ]
  },
  {
   "cell_type": "code",
   "execution_count": 14,
   "id": "c69d51e2",
   "metadata": {},
   "outputs": [],
   "source": [
    "# data analysis libs\n",
    "import numpy as np\n",
    "import pandas as pd\n",
    "import gc\n",
    "\n",
    "# visualizatioon libs\n",
    "import matplotlib.pyplot as plt\n",
    "import seaborn as sns\n",
    "\n",
    "# machine learning libs\n",
    "from sklearn.model_selection import train_test_split\n",
    "from sklearn.metrics import classification_report, accuracy_score\n",
    "\n",
    "# tensorFlow & Keras\n",
    "from tensorflow import keras as kr\n",
    "from tqdm.keras import TqdmCallback"
   ]
  },
  {
   "cell_type": "markdown",
   "id": "d963eb22",
   "metadata": {},
   "source": [
    "## Data loading and labeling"
   ]
  },
  {
   "cell_type": "code",
   "execution_count": 2,
   "id": "0f88c9c8",
   "metadata": {},
   "outputs": [
    {
     "name": "stdout",
     "output_type": "stream",
     "text": [
      "                                               title  \\\n",
      "0  Kandi Burruss Explodes Over Rape Accusation on...   \n",
      "1  People's Choice Awards 2018: The best red carp...   \n",
      "2  Sophia Bush Sends Sweet Birthday Message to 'O...   \n",
      "3  Colombian singer Maluma sparks rumours of inap...   \n",
      "4  Gossip Girl 10 Years Later: How Upper East Sid...   \n",
      "\n",
      "                                            news_url        source_domain  \\\n",
      "0  http://toofab.com/2017/05/08/real-housewives-a...           toofab.com   \n",
      "1  https://www.today.com/style/see-people-s-choic...        www.today.com   \n",
      "2  https://www.etonline.com/news/220806_sophia_bu...     www.etonline.com   \n",
      "3  https://www.dailymail.co.uk/news/article-33655...  www.dailymail.co.uk   \n",
      "4  https://www.zerchoo.com/entertainment/gossip-g...      www.zerchoo.com   \n",
      "\n",
      "   tweet_num  real  \n",
      "0         42     1  \n",
      "1          0     1  \n",
      "2         63     1  \n",
      "3         20     1  \n",
      "4         38     1  \n"
     ]
    }
   ],
   "source": [
    "file = 'FakeNewsNet.csv'\n",
    "df = pd.read_csv(file)\n",
    "print(df.head())"
   ]
  },
  {
   "cell_type": "code",
   "execution_count": 3,
   "id": "76e175b6",
   "metadata": {},
   "outputs": [
    {
     "name": "stdout",
     "output_type": "stream",
     "text": [
      "                                               title  real\n",
      "0  Kandi Burruss Explodes Over Rape Accusation on...     1\n",
      "1  People's Choice Awards 2018: The best red carp...     1\n",
      "2  Sophia Bush Sends Sweet Birthday Message to 'O...     1\n",
      "3  Colombian singer Maluma sparks rumours of inap...     1\n",
      "4  Gossip Girl 10 Years Later: How Upper East Sid...     1\n"
     ]
    }
   ],
   "source": [
    "columns = ['title','real']\n",
    "df = pd.read_csv(file, usecols=columns)\n",
    "print(df.head())"
   ]
  },
  {
   "cell_type": "markdown",
   "id": "9e7bd503",
   "metadata": {},
   "source": [
    "You can see from above that for real news you see that we get 1, for fake we get 0."
   ]
  },
  {
   "cell_type": "code",
   "execution_count": 4,
   "id": "84852dbb",
   "metadata": {},
   "outputs": [
    {
     "name": "stdout",
     "output_type": "stream",
     "text": [
      "After cleaning we have 23196 news...\n"
     ]
    }
   ],
   "source": [
    "# drop NULLs (if any) & reset index\n",
    "df.dropna(inplace=True)\n",
    "df.reset_index(drop=True, inplace=True)\n",
    "\n",
    "# adding a new column [word count]\n",
    "df['wcount'] = df['title'].apply(lambda x: len(x.split(' ')))\n",
    "\n",
    "# view\n",
    "print(f\"After cleaning we have {df.shape[0]} news...\")"
   ]
  },
  {
   "cell_type": "markdown",
   "id": "2c47552e",
   "metadata": {},
   "source": [
    "## Data visualization"
   ]
  },
  {
   "cell_type": "code",
   "execution_count": 7,
   "id": "a2405abd",
   "metadata": {},
   "outputs": [
    {
     "name": "stderr",
     "output_type": "stream",
     "text": [
      "C:\\Users\\ruben\\anaconda3\\lib\\site-packages\\matplotlib\\text.py:1223: FutureWarning: elementwise comparison failed; returning scalar instead, but in the future will perform elementwise comparison\n",
      "  if s != self._text:\n"
     ]
    },
    {
     "data": {
      "text/plain": [
       "<seaborn.axisgrid.FacetGrid at 0x1515375c6d0>"
      ]
     },
     "execution_count": 7,
     "metadata": {},
     "output_type": "execute_result"
    },
    {
     "data": {
      "image/png": "[encoded data removed]",
      "text/plain": [
       "<Figure size 360x360 with 1 Axes>"
      ]
     },
     "metadata": {
      "needs_background": "light"
     },
     "output_type": "display_data"
    }
   ],
   "source": [
    "# True && False visualization - counting fake and real\n",
    "count = []\n",
    "for i in df['real'].unique():\n",
    "    count.append(df[df['real'] == i].count()[1])\n",
    "    \n",
    "# Histogram counting barplot for fake&realnews\n",
    "g = sns.catplot(\n",
    "    data=df, kind=\"bar\",\n",
    "    x=df['real'].unique(), y=count,alpha=.6,\n",
    "    palette=\"bright\")\n",
    "\n",
    "#g.despine(left=True)\n",
    "g.set_axis_labels(\"\", \"count\")"
   ]
  },
  {
   "cell_type": "markdown",
   "id": "9fdfbf68",
   "metadata": {},
   "source": [
    "## Feature engineering"
   ]
  },
  {
   "cell_type": "code",
   "execution_count": 8,
   "id": "b9e3a682",
   "metadata": {},
   "outputs": [
    {
     "name": "stdout",
     "output_type": "stream",
     "text": [
      "Training records: 18556 | Testing records: 4640\n"
     ]
    }
   ],
   "source": [
    "# feature engineering & training slipt\n",
    "x = df['title'].values # feature\n",
    "y = df['real'].values # target\n",
    "\n",
    "# train & validation split [80-20]\n",
    "x_train, x_test, y_train, y_test = train_test_split(x, y, test_size=0.20, random_state= np.random.randint(10))\n",
    "\n",
    "# split visualization\n",
    "print(f\"Training records: {x_train.shape[0]} | Testing records: {x_test.shape[0]}\")"
   ]
  },
  {
   "cell_type": "markdown",
   "id": "55d297f3",
   "metadata": {},
   "source": [
    "## text pre-processing"
   ]
  },
  {
   "cell_type": "code",
   "execution_count": 9,
   "id": "871903ad",
   "metadata": {},
   "outputs": [],
   "source": [
    "tok = kr.preprocessing.text.Tokenizer(num_words=None,\n",
    "                                      filters='!\"#$%&()*+,-./:;<=>?@[\\\\]^_`{|}~\\t\\n',\n",
    "                                      lower=True,\n",
    "                                      split=' ',\n",
    "                                      char_level=False,\n",
    "                                      oov_token=None)\n",
    "# fit \n",
    "tok.fit_on_texts(x_train)"
   ]
  },
  {
   "cell_type": "markdown",
   "id": "f9a6fb62",
   "metadata": {},
   "source": [
    "## text tokenizing"
   ]
  },
  {
   "cell_type": "code",
   "execution_count": 10,
   "id": "013f9c01",
   "metadata": {},
   "outputs": [],
   "source": [
    "# tokenized text data\n",
    "tok_train = tok.texts_to_sequences(x_train)\n",
    "tok_test = tok.texts_to_sequences(x_test)"
   ]
  },
  {
   "cell_type": "markdown",
   "id": "d6cf2245",
   "metadata": {},
   "source": [
    "## Pad Sequences"
   ]
  },
  {
   "cell_type": "code",
   "execution_count": 11,
   "id": "fb538d82",
   "metadata": {},
   "outputs": [],
   "source": [
    "# Padding the sequences for the training \n",
    "max_length = int(df.wcount.quantile(0.75))   # taking the 75th percentile of word count\n",
    "\n",
    "padded_train = kr.preprocessing.sequence.pad_sequences(tok_train, maxlen=max_length, padding='post')\n",
    "padded_test = kr.preprocessing.sequence.pad_sequences(tok_test, maxlen=max_length, padding='post')"
   ]
  },
  {
   "cell_type": "markdown",
   "id": "80492977",
   "metadata": {},
   "source": [
    "## Simple Recursion Neural Network Model training (RNN)"
   ]
  },
  {
   "cell_type": "code",
   "execution_count": 12,
   "id": "f34321d0",
   "metadata": {},
   "outputs": [
    {
     "name": "stdout",
     "output_type": "stream",
     "text": [
      "Model: \"FakeNewsCatcher\"\n",
      "_________________________________________________________________\n",
      " Layer (type)                Output Shape              Param #   \n",
      "=================================================================\n",
      " embedding (Embedding)       (None, 14, 32)            700672    \n",
      "                                                                 \n",
      " simple_rnn (SimpleRNN)      (None, 32)                2080      \n",
      "                                                                 \n",
      " dense (Dense)               (None, 1)                 33        \n",
      "                                                                 \n",
      "=================================================================\n",
      "Total params: 702,785\n",
      "Trainable params: 702,785\n",
      "Non-trainable params: 0\n",
      "_________________________________________________________________\n"
     ]
    }
   ],
   "source": [
    "# model params\n",
    "vocab_size = len(tok.word_index) + 1\n",
    "epoch = 10\n",
    "unit = 32\n",
    "\n",
    "# define model\n",
    "model = kr.models.Sequential(name='FakeNewsCatcher')\n",
    "model.add(kr.layers.Embedding(vocab_size, unit, input_length=max_length))\n",
    "model.add(kr.layers.SimpleRNN(unit, return_sequences=False))\n",
    "model.add(kr.layers.Dense(1, activation='sigmoid'))\n",
    "\n",
    "# compile\n",
    "model.compile(optimizer='rmsprop', loss='binary_crossentropy', metrics=['accuracy'])\n",
    "\n",
    "# summary\n",
    "model.summary()"
   ]
  },
  {
   "cell_type": "code",
   "execution_count": 15,
   "id": "cb6a76c9",
   "metadata": {},
   "outputs": [
    {
     "data": {
      "application/vnd.jupyter.widget-view+json": {
       "model_id": "fba9baf0eb69406cb021be2a28c8b0cf",
       "version_major": 2,
       "version_minor": 0
      },
      "text/plain": [
       "0epoch [00:00, ?epoch/s]"
      ]
     },
     "metadata": {},
     "output_type": "display_data"
    }
   ],
   "source": [
    "# training params\n",
    "es = kr.callbacks.EarlyStopping(monitor='val_loss', mode='min',verbose=0, patience=5)\n",
    "\n",
    "# for re-runs\n",
    "gc.collect()\n",
    "kr.backend.clear_session()\n",
    "\n",
    "# train model\n",
    "hist = model.fit(x=padded_train,\n",
    "                 y=y_train,\n",
    "                 epochs=epoch,\n",
    "                 shuffle=True,\n",
    "                 validation_data=(padded_test,y_test),\n",
    "                 verbose=0,\n",
    "                 callbacks=[TqdmCallback(verbose=0),es])"
   ]
  },
  {
   "cell_type": "code",
   "execution_count": 16,
   "id": "d2fa1388",
   "metadata": {},
   "outputs": [
    {
     "name": "stdout",
     "output_type": "stream",
     "text": [
      "Our model has achieved an accuracy of 97.09% in 6 epoch(s)\n"
     ]
    }
   ],
   "source": [
    "# accuracy\n",
    "acc = '{:.2%}'.format(hist.history['accuracy'][-1])\n",
    "print(f\"Our model has achieved an accuracy of {acc} in {hist.epoch[-1]} epoch(s)\")"
   ]
  },
  {
   "cell_type": "code",
   "execution_count": 17,
   "id": "dfe03eba",
   "metadata": {},
   "outputs": [
    {
     "name": "stdout",
     "output_type": "stream",
     "text": [
      "145/145 [==============================] - 2s 2ms/step\n",
      "              precision    recall  f1-score   support\n",
      "\n",
      "           0       0.51      0.63      0.56      1128\n",
      "           1       0.87      0.81      0.84      3512\n",
      "\n",
      "    accuracy                           0.76      4640\n",
      "   macro avg       0.69      0.72      0.70      4640\n",
      "weighted avg       0.78      0.76      0.77      4640\n",
      "\n",
      "\n",
      "Accuracy Score: 76.42%\n"
     ]
    }
   ],
   "source": [
    "# predictions\n",
    "pred = (model.predict(padded_test) > 0.5).astype('int32')\n",
    "\n",
    "# classification report\n",
    "print(classification_report(y_test, pred))\n",
    "\n",
    "# accuracy score\n",
    "acc_score = '{:.2%}'.format(accuracy_score(y_test, pred))\n",
    "print(f\"\\nAccuracy Score: {acc_score}\")"
   ]
  },
  {
   "cell_type": "markdown",
   "id": "c78effeb",
   "metadata": {},
   "source": [
    "## Bi-directional RNN model training"
   ]
  },
  {
   "cell_type": "code",
   "execution_count": 18,
   "id": "9f12dbf0",
   "metadata": {},
   "outputs": [
    {
     "name": "stdout",
     "output_type": "stream",
     "text": [
      "Model: \"FakeNewsCatcher2\"\n",
      "_________________________________________________________________\n",
      " Layer (type)                Output Shape              Param #   \n",
      "=================================================================\n",
      " embedding (Embedding)       (None, 14, 32)            700672    \n",
      "                                                                 \n",
      " bidirectional (Bidirectiona  (None, 64)               4160      \n",
      " l)                                                              \n",
      "                                                                 \n",
      " dense (Dense)               (None, 32)                2080      \n",
      "                                                                 \n",
      " dense_1 (Dense)             (None, 1)                 33        \n",
      "                                                                 \n",
      "=================================================================\n",
      "Total params: 706,945\n",
      "Trainable params: 706,945\n",
      "Non-trainable params: 0\n",
      "_________________________________________________________________\n"
     ]
    }
   ],
   "source": [
    "model2 = kr.models.Sequential(name='FakeNewsCatcher2')\n",
    "model2.add(kr.layers.Embedding(vocab_size, unit, input_length=max_length))\n",
    "model2.add(kr.layers.Bidirectional(kr.layers.SimpleRNN(unit)))\n",
    "model2.add(kr.layers.Dense(unit, activation='relu'))\n",
    "model2.add(kr.layers.Dense(1, activation='sigmoid'))\n",
    "\n",
    "# compile\n",
    "model2.compile(optimizer='rmsprop', loss='binary_crossentropy', metrics=['accuracy'])\n",
    "\n",
    "# summary\n",
    "model2.summary()"
   ]
  },
  {
   "cell_type": "code",
   "execution_count": 19,
   "id": "2e1462ad",
   "metadata": {},
   "outputs": [
    {
     "data": {
      "application/vnd.jupyter.widget-view+json": {
       "model_id": "075a0b47c76842a996e55b9e14623c50",
       "version_major": 2,
       "version_minor": 0
      },
      "text/plain": [
       "0epoch [00:00, ?epoch/s]"
      ]
     },
     "metadata": {},
     "output_type": "display_data"
    }
   ],
   "source": [
    "# for re-runs\n",
    "gc.collect()\n",
    "kr.backend.clear_session()\n",
    "\n",
    "# train model\n",
    "hist2 = model2.fit(x=padded_train,\n",
    "                 y=y_train,\n",
    "                 epochs=epoch,\n",
    "                 shuffle=True,\n",
    "                 validation_data=(padded_test,y_test),\n",
    "                 verbose=0,\n",
    "                 callbacks=[TqdmCallback(verbose=0),es])"
   ]
  },
  {
   "cell_type": "code",
   "execution_count": 20,
   "id": "3cef0f09",
   "metadata": {},
   "outputs": [
    {
     "name": "stdout",
     "output_type": "stream",
     "text": [
      "Our model has achieved an accuracy of 97.13% in 5 epoch(s)\n"
     ]
    }
   ],
   "source": [
    "# accuracy\n",
    "acc2 = '{:.2%}'.format(hist2.history['accuracy'][-1])\n",
    "print(f\"Our model has achieved an accuracy of {acc2} in {hist2.epoch[-1]} epoch(s)\")"
   ]
  },
  {
   "cell_type": "code",
   "execution_count": 21,
   "id": "75860ec5",
   "metadata": {},
   "outputs": [
    {
     "name": "stdout",
     "output_type": "stream",
     "text": [
      "145/145 [==============================] - 1s 2ms/step\n",
      "              precision    recall  f1-score   support\n",
      "\n",
      "           0       0.50      0.62      0.55      1128\n",
      "           1       0.87      0.80      0.83      3512\n",
      "\n",
      "    accuracy                           0.76      4640\n",
      "   macro avg       0.68      0.71      0.69      4640\n",
      "weighted avg       0.78      0.76      0.76      4640\n",
      "\n",
      "\n",
      "Accuracy Score: 75.56%\n"
     ]
    }
   ],
   "source": [
    "# predictions\n",
    "pred2 = (model2.predict(padded_test) > 0.5).astype('int32')\n",
    "\n",
    "# classification report\n",
    "print(classification_report(y_test, pred2))\n",
    "\n",
    "# accuracy score\n",
    "acc_score2 = '{:.2%}'.format(accuracy_score(y_test, pred2))\n",
    "print(f\"\\nAccuracy Score: {acc_score2}\")"
   ]
  },
  {
   "cell_type": "code",
   "execution_count": null,
   "id": "1f72f201",
   "metadata": {},
   "outputs": [],
   "source": []
  }
 ],
 "metadata": {
  "kernelspec": {
   "display_name": "Python 3 (ipykernel)",
   "language": "python",
   "name": "python3"
  },
  "language_info": {
   "codemirror_mode": {
    "name": "ipython",
    "version": 3
   },
   "file_extension": ".py",
   "mimetype": "text/x-python",
   "name": "python",
   "nbconvert_exporter": "python",
   "pygments_lexer": "ipython3",
   "version": "3.9.12"
  }
 },
 "nbformat": 4,
 "nbformat_minor": 5
}
