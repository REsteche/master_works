{
 "cells": [
  {
   "cell_type": "markdown",
   "id": "f169a931-76cf-4207-97f8-92f693b3c74e",
   "metadata": {
    "slideshow": {
     "slide_type": "slide"
    },
    "tags": []
   },
   "source": [
    "# Uma extensão espaço tempo simétrica da mecânica quântica"
   ]
  },
  {
   "cell_type": "markdown",
   "id": "648058c4-a946-4e80-af74-ed8d5840c81e",
   "metadata": {},
   "source": [
    "## Futuras aplicações no problema do tempo de travessia"
   ]
  },
  {
   "cell_type": "markdown",
   "id": "a11e54c5-426e-4658-87bb-c29bad41d5d4",
   "metadata": {
    "jp-MarkdownHeadingCollapsed": true,
    "tags": []
   },
   "source": [
    "### 1. Introdução"
   ]
  },
  {
   "cell_type": "markdown",
   "id": "e761c236-43fb-4d90-90b9-716ce03e3ff6",
   "metadata": {},
   "source": [
    "Heisenberg introduziu em 1924 as seguintes relações de incerteza, referentes a [_Heisenberg Picture of quantum mechanics_](https://en.wikipedia.org/wiki/Heisenberg_picture): "
   ]
  },
  {
   "cell_type": "markdown",
   "id": "cfad7801-e80a-46c2-802b-ad7cdf82315b",
   "metadata": {},
   "source": [
    "$$ \\begin{equation} \\Delta x \\Delta p \\geqslant \\frac{\\hbar}{2} \\label{eq1} \\tag{1.1}\\end{equation}  $$"
   ]
  },
  {
   "cell_type": "markdown",
   "id": "af40ea9c-5628-4a96-a419-0bab63c44ea1",
   "metadata": {},
   "source": [
    "$$ \\begin{equation} \\Delta E \\Delta t \\geqslant \\frac{\\hbar}{2} \\label{eq2} \\tag{1.2}\\end{equation}  $$"
   ]
  },
  {
   "cell_type": "markdown",
   "id": "d90886ee-bcc9-4e4d-9ffc-525a300796d5",
   "metadata": {},
   "source": [
    "Dos nossos conhecimentos prévios de mecânica quântica, sabemos que da equação $(1.1)$ existem operadores $x$ e $p$ tais que"
   ]
  },
  {
   "cell_type": "markdown",
   "id": "fdd8f6a8-16d1-4b45-bfa2-727342376ed5",
   "metadata": {},
   "source": [
    "$$ \\begin{equation} X \\left | x \\right \\rangle = x \\left | x \\right \\rangle  \\label{eq3} \\tag{1.3}\\end{equation} $$ "
   ]
  },
  {
   "cell_type": "markdown",
   "id": "f280fa05-088b-48ca-97f2-8dd42f875f8b",
   "metadata": {},
   "source": [
    "$$ \\begin{equation} P \\left | p \\right \\rangle = p \\left | p \\right \\rangle  \\label{eq4} \\tag{1.4}\\end{equation} $$"
   ]
  },
  {
   "cell_type": "markdown",
   "id": "2379935f-1549-4628-98e2-a3715175039f",
   "metadata": {},
   "source": [
    "também que tanto $\\Delta x$ como $\\Delta p$ podem ser interpretados como o desvio padrão dos valores esperados de seus respectivos operadores: "
   ]
  },
  {
   "cell_type": "markdown",
   "id": "4acb0fa5-78e1-4039-9b0a-f2604d349e87",
   "metadata": {},
   "source": [
    "$$\\begin{equation} \\Delta x = \\sqrt{\\left \\langle x^2 \\right \\rangle - \\left \\langle x \\right \\rangle^2}\\label{eq5} \\tag{1.5}\\end{equation} $$"
   ]
  },
  {
   "cell_type": "markdown",
   "id": "6a5bda61-cca8-4288-a776-72ae8c4fa916",
   "metadata": {},
   "source": [
    "$$\\begin{equation} \\Delta p = \\sqrt{\\left \\langle p^2 \\right \\rangle - \\left \\langle p \\right \\rangle^2}\\label{eq6} \\tag{1.6}\\end{equation} $$"
   ]
  },
  {
   "cell_type": "markdown",
   "id": "df21d9b8-2ea0-448b-b9f9-ad8f9d7d63c1",
   "metadata": {},
   "source": [
    "Mas, reside na equação $(1.3)$ um [problema a anos apontado pelo próprio pauli.](https://arxiv.org/abs/1705.09212) Sabemos dos postulados de Heisenberg na mecânica quântica que a relação de comutação entre $x$ e $p$ é: "
   ]
  },
  {
   "cell_type": "markdown",
   "id": "a983f901-e607-4114-90db-483f8e8c78b2",
   "metadata": {},
   "source": [
    "$$\\begin{equation}[X,P]= i \\hbar\\label{eq7} \\tag{1.7}\\end{equation} $$"
   ]
  },
  {
   "cell_type": "markdown",
   "id": "ff74f6af-5600-4b3a-9f69-3af6327e2fcd",
   "metadata": {},
   "source": [
    "Daí, surge a pergunta então: se interpretarmos $\\Delta E$ como o desvio padrão do valor esperado do operador Hamiltoniano, teremos"
   ]
  },
  {
   "cell_type": "markdown",
   "id": "790f58d6-c436-4cc5-8162-095a723c55b7",
   "metadata": {},
   "source": [
    "$$ \\begin{equation} H \\left | E \\right \\rangle = E \\left | E \\right \\rangle  \\label{eq8} \\tag{1.8}\\end{equation} $$ "
   ]
  },
  {
   "cell_type": "markdown",
   "id": "2eb0f587-2d8b-4ce3-8dc2-ae914ba63ec8",
   "metadata": {},
   "source": [
    "$$\\begin{equation} \\Delta E = \\sqrt{\\left \\langle H^2 \\right \\rangle - \\left \\langle H \\right \\rangle^2}\\label{eq9} \\tag{1.9}\\end{equation} $$"
   ]
  },
  {
   "cell_type": "markdown",
   "id": "70130f21-871a-4daa-a218-1be058f511bb",
   "metadata": {},
   "source": [
    "Então, será possível então expressar T em forma de uma [variável dinâmica](https://en.wikipedia.org/wiki/Heisenberg_picture#Commutator_relations), ou seja, introduzir um operador T de modo que $\\Delta t$ passaria a ser interpretado como o desvio padrão do valor esperado de T?  "
   ]
  },
  {
   "cell_type": "markdown",
   "id": "ff3d8bc6-0336-4db3-ba28-d5ebd9289781",
   "metadata": {},
   "source": [
    "Como já referênciamos, Pauli demonstrou que a implementação de um operador temporal na mecânica quântica faria com que a Heisenberg Picture levasse a absurdos físicos (e.g ausência de valores limitantes inferiores a um Hamiltoniano) como demonstraremos a seguir:  "
   ]
  },
  {
   "cell_type": "markdown",
   "id": "6d16283f-50ed-4b50-8360-6c0599c5c009",
   "metadata": {
    "jp-MarkdownHeadingCollapsed": true,
    "tags": []
   },
   "source": [
    "### 2. Breve demonstração do Argumento de Pauli "
   ]
  },
  {
   "cell_type": "markdown",
   "id": "159b2cfe-5875-4014-a7cd-d5cff64fa632",
   "metadata": {},
   "source": [
    "No regime proposto na sessão anterior, descrevemos as seguintes condições:"
   ]
  },
  {
   "cell_type": "markdown",
   "id": "6cda0593-7bf6-4386-9d78-bfe77ff614ff",
   "metadata": {},
   "source": [
    "$$  H \\left | E \\right \\rangle = E \\left | E \\right \\rangle  $$ "
   ]
  },
  {
   "cell_type": "markdown",
   "id": "f126c97e-247b-4dea-a43a-f2fd469d5abe",
   "metadata": {},
   "source": [
    "$$  T \\left | t \\right \\rangle = t \\left | t \\right \\rangle  $$ "
   ]
  },
  {
   "cell_type": "markdown",
   "id": "dd322191-6dc7-4856-a9bb-b7df6b8c591f",
   "metadata": {},
   "source": [
    "$$  [H, T] = i \\hbar  $$ "
   ]
  },
  {
   "cell_type": "markdown",
   "id": "4e87cd2d-ddd6-405f-9b5a-b93e40c553d1",
   "metadata": {},
   "source": [
    "Vamos então agora mostrar que o estado $ \\exp[i E^\\prime T/\\hbar] \\left | E \\right \\rangle $ é um autoestado do operador Hamiltoniano H, com autovalor de energia $ E - E^\\prime $. Comecemos expandindo o operador exponencial em formato de série: "
   ]
  },
  {
   "cell_type": "markdown",
   "id": "46407f28-9c85-49ca-a5cd-4c77002b5e07",
   "metadata": {},
   "source": [
    "$$ e^{iE^\\prime T/\\hbar} = \\sum_{n=0}^{\\infty} \\frac{1}{n!} \\left( \\frac{iE^\\prime T}{\\hbar} \\right)^n \\tag{2.1} $$"
   ]
  },
  {
   "cell_type": "markdown",
   "id": "14f40a28-7b2f-457e-a8af-e021e5b9719f",
   "metadata": {},
   "source": [
    "Aplicando então o operador hamiltoniano pela esquerda vamos obter que,"
   ]
  },
  {
   "cell_type": "markdown",
   "id": "ea39eebb-cd09-467f-95fe-dd15e57a0a5c",
   "metadata": {},
   "source": [
    "$$ H e^{iE^\\prime T/\\hbar} = \\sum_{n=0}^{\\infty} \\frac{1}{n!} H \\left( \\frac{iE^\\prime T}{\\hbar} \\right)^n \\tag{2.2} $$"
   ]
  },
  {
   "cell_type": "markdown",
   "id": "c1bedd8a-1548-4b6c-8b82-378df8ca5ac6",
   "metadata": {},
   "source": [
    "Agora, precisamos passar o operador hamiltoniano para a direita do operador tempo. Para isso, note que"
   ]
  },
  {
   "cell_type": "markdown",
   "id": "a1012a67-4ddb-4318-82e4-2f982db47129",
   "metadata": {},
   "source": [
    "$$HT = TH + [H,T] = TH + i\\hbar \\tag{2.3}$$"
   ]
  },
  {
   "cell_type": "markdown",
   "id": "f52786c9-9e07-4dda-86c5-d58336ca3d1b",
   "metadata": {},
   "source": [
    "Onde usamos então o fato de que o teorema de Pauli supoem que $[H,T] = i\\hbar$. Assim aplicando então o operador $T$ pela direita em $(2.3)$ vamos obter que "
   ]
  },
  {
   "cell_type": "markdown",
   "id": "20a62f00-09cf-4c33-a96a-ddbd6016ea4b",
   "metadata": {},
   "source": [
    "$$HT^2 = THT + i\\hbar T \\tag{2.4}$$"
   ]
  },
  {
   "cell_type": "markdown",
   "id": "f70b93c2-8fe7-4242-9e74-b83db6a1c099",
   "metadata": {},
   "source": [
    "E utilizando recursivamente a equação $(2.3)$ agora no primeiro termo de $(2.4)$ é fácil ver que "
   ]
  },
  {
   "cell_type": "markdown",
   "id": "9f7cef79-54eb-40ce-8ff9-cbf0188b4ab7",
   "metadata": {},
   "source": [
    "$$HT^2 = T^2H + 2i\\hbar T \\tag{2.5}$$"
   ]
  },
  {
   "cell_type": "markdown",
   "id": "e15c88bf-dce9-4476-b135-1717173fbe8e",
   "metadata": {},
   "source": [
    "De maneira similar, podemos seguir então indutivamente tal"
   ]
  },
  {
   "cell_type": "markdown",
   "id": "763b726f-baa1-4243-8e92-16cc31e3162b",
   "metadata": {},
   "source": [
    "$$HT^3 = T^3H + 2i\\hbar T^2 \\tag{2.6}$$"
   ]
  },
  {
   "cell_type": "markdown",
   "id": "615056f4-5a33-4773-9d75-6b2898d6234f",
   "metadata": {},
   "source": [
    "Até obtermos a forma generalizada, que a esta altura espero já estar clara como sendo"
   ]
  },
  {
   "cell_type": "markdown",
   "id": "6bb1dcf5-8220-4d24-9fed-0daf083e8084",
   "metadata": {},
   "source": [
    "$$HT^n = T^nH + 2i\\hbar T^{n-1} \\tag{2.7}$$"
   ]
  },
  {
   "cell_type": "markdown",
   "id": "917301b2-a431-4a15-8a67-93668845bd87",
   "metadata": {},
   "source": [
    "Portanto, substituindo $(2.7)$ de volta em $(2.2)$ ,"
   ]
  },
  {
   "cell_type": "markdown",
   "id": "3ed88b54-5562-46ec-9f39-b9758b4a1ea9",
   "metadata": {},
   "source": [
    "$$ H e^{iE^\\prime T/\\hbar} = \\sum_{n=0}^{\\infty} \\frac{1}{n!} H \\left( \\frac{iE^\\prime T}{\\hbar} \\right)^n T^nH + 2i\\hbar T^{n-1}  $$"
   ]
  },
  {
   "cell_type": "markdown",
   "id": "275d994a-2653-41e4-9c30-f13010a47698",
   "metadata": {},
   "source": [
    "$$ = e^{iE^\\prime T/\\hbar}H - \\sum_{n=1}^{\\infty} \\frac{E^\\prime}{n-1!}  \\left( \\frac{iE^\\prime T}{\\hbar} \\right)^{n-1} \\tag{2.8}  $$"
   ]
  },
  {
   "cell_type": "markdown",
   "id": "5630cbd3-6035-4b51-a9b5-5ec4f2feadd9",
   "metadata": {},
   "source": [
    "logo,"
   ]
  },
  {
   "cell_type": "markdown",
   "id": "65e78f82-726c-4207-bdc1-705771706962",
   "metadata": {},
   "source": [
    "$$ H e^{iE^\\prime T/\\hbar} = e^{iE^\\prime T/\\hbar}(H - E^\\prime) \\tag{2.9}$$"
   ]
  },
  {
   "cell_type": "markdown",
   "id": "9f2b28d2-d97a-4a27-bb8d-9a07cb3ca9bd",
   "metadata": {},
   "source": [
    "que nos permite concluir finalmente que:"
   ]
  },
  {
   "cell_type": "markdown",
   "id": "607ef128-9b13-4a7d-81e5-1ef877dab270",
   "metadata": {},
   "source": [
    "$$ H e^{iE^\\prime T/\\hbar}\\left | E \\right \\rangle = e^{iE^\\prime T/\\hbar} (E - E^\\prime)\\left | E \\right \\rangle  $$"
   ]
  },
  {
   "cell_type": "markdown",
   "id": "6a8eb5f0-356c-4d88-95a7-a3c39d84ca3b",
   "metadata": {},
   "source": [
    "$$= (E - E^\\prime)e^{iE^\\prime T/\\hbar}\\left | E \\right \\rangle\\tag{2.10}$$"
   ]
  },
  {
   "cell_type": "markdown",
   "id": "60e30493-39d6-4495-96c3-7270b7911db7",
   "metadata": {},
   "source": [
    "Onde podemos então concluir o seguinte absurdo: a aplicação do operador unitário exponencial sugerido (que físicamente representa um deslocamento de $-E^\\prime$ na energia apenas) com um $E^\\prime \\in \\mathbb{R}$ no autoestado de energia $\\left | E \\right \\rangle$ do operador $H$ produz um novo autoestado de energia com autovalor $E - E^\\prime$. Portanto, $E - E^\\prime$ pode tomar qualquer valor em $\\mathbb{R}$, i.e. dado um autovalor de energia $E$, podemos sempre escolher um valor para $E^\\prime$ de forma a acessar qualquer autoestado com energia $E - E^\\prime \\in \\mathbb{R}$ desejado. Assim, vemos que se este operador existir o espectro de energias do hamiltoniano se estenderia continuamente em $(-\\infty, \\infty)$ independente do sistema físico, permitindo assim a criação de moto-perpetuos de energia. "
   ]
  },
  {
   "cell_type": "markdown",
   "id": "9853ec08-0400-45b4-ac2f-1cba2628df04",
   "metadata": {
    "jp-MarkdownHeadingCollapsed": true,
    "tags": []
   },
   "source": [
    "### 3.introduzindo notações úteis"
   ]
  },
  {
   "cell_type": "markdown",
   "id": "5fa7cb17-0527-4451-8ff6-5613d4509e26",
   "metadata": {},
   "source": [
    " ####  Sobre distribuições de probabilidade"
   ]
  },
  {
   "cell_type": "markdown",
   "id": "20d339d6-7426-4f29-9dd6-d976d122f07e",
   "metadata": {},
   "source": [
    "Seja $P_I (i) \\equiv$ densidade de probabilidade da variável $I$ ter um valor entre $i$ e $i + di$"
   ]
  },
  {
   "cell_type": "markdown",
   "id": "f174e7a4-c3b1-46e4-a5d4-aafa8e4415d8",
   "metadata": {},
   "source": [
    "Desta forma, a probabilidade da variável $I$ tervalor entre $(a,b)$ será de: "
   ]
  },
  {
   "cell_type": "markdown",
   "id": "7528e4a6-618d-4d70-9864-b69bde345b6a",
   "metadata": {},
   "source": [
    "$$p(a,b) = \\int_{a}^{b} P_I (i) di \\tag{3.1} $$"
   ]
  },
  {
   "cell_type": "markdown",
   "id": "26b8c31c-4031-4466-acac-16da842e5d8c",
   "metadata": {},
   "source": [
    "[Clique aqui para mais informações](https://en.wikipedia.org/wiki/Probability_distribution)"
   ]
  },
  {
   "cell_type": "markdown",
   "id": "3d3a1452-8f07-46f6-b00e-4b7178aaddeb",
   "metadata": {},
   "source": [
    " #### Probabilidade condicional "
   ]
  },
  {
   "cell_type": "markdown",
   "id": "76b68040-330a-4a88-a0e8-cbf23ffa5617",
   "metadata": {},
   "source": [
    "Vamos tratar como sendo a probabilidade de obter $i$ dado que $j$ aconteceu como sendo $P_I(i|j) \\equiv$ Função de distribuição de probabilidade (F.D.P.) da variável $I \\in [i, i + di]$ quando $ J = j $. [Clique aqui para mais informações](https://en.wikipedia.org/wiki/Conditional_probability) "
   ]
  },
  {
   "cell_type": "markdown",
   "id": "8c7776cc-38ff-4c15-a66f-f8f7d2ee7749",
   "metadata": {},
   "source": [
    "No caso de tratarmos um sistema de duas variáveis, faremos tal que $P_{I,J}(i,j) \\equiv $ F.D.P das variáveis $I \\in [i, i + di]$ e $J \\in [j, j + dj]$ , então,"
   ]
  },
  {
   "cell_type": "markdown",
   "id": "491850e0-96bf-459c-a1b2-94d640e1472b",
   "metadata": {},
   "source": [
    "$$p(a,b;c,d) =  \\int_{a}^{b} di  \\int_{c}^{d} dj P_{I,J}(i,j) \\tag{3.2} $$"
   ]
  },
  {
   "cell_type": "markdown",
   "id": "3244d38a-4413-4419-9559-ec42afdc96a7",
   "metadata": {},
   "source": [
    " #### Teorema de Bayes"
   ]
  },
  {
   "cell_type": "markdown",
   "id": "b1d9ccc0-c7c7-4ae2-882d-51fda9542cba",
   "metadata": {},
   "source": [
    "Do famoso e tão usado [Teorema de Bayes](https://en.wikipedia.org/wiki/Bayes%27_theorem), vamos usar que em condições de ergodicidade temos que: "
   ]
  },
  {
   "cell_type": "markdown",
   "id": "c23ec66b-f409-43c2-8f94-03913b44cdf3",
   "metadata": {},
   "source": [
    " $$ P_{I,J}(i,j) = P_I(i|j) P_J(j) = P_J(j|i) P_I(i) \\tag{3.3}$$ "
   ]
  },
  {
   "cell_type": "markdown",
   "id": "77a52018-27dd-4f9b-9ae3-86dd0f84049d",
   "metadata": {},
   "source": [
    "Note aqui que o fato de propormos definições baseadas em ergodicidade impõem um simetria completa entre $I$ e $J$. Note aqui que, usando as 3 ferramentas estatísticas apresentadas, já podemos criar um gancho de raciocínio para a próxima sessão. **Como vamos finalmente aplicar esses conteúdos na mecânica quântica?**"
   ]
  },
  {
   "cell_type": "markdown",
   "id": "0e156a13-7a3b-4f8e-9df7-0cd4faa811a8",
   "metadata": {},
   "source": [
    "Vamos traduzir agora para palavras a nossa famosa equação da mecânica quântica: "
   ]
  },
  {
   "cell_type": "markdown",
   "id": "0d6d7f9b-99cd-49ad-887a-fc4851cf86ba",
   "metadata": {},
   "source": [
    "$$|\\psi(x,t)|^2 = |\\langle x | \\psi (t) \\rangle|^2  \\tag{3.4}$$"
   ]
  },
  {
   "cell_type": "markdown",
   "id": "499db98a-be59-4ee0-8f89-309c25b3f52f",
   "metadata": {},
   "source": [
    "Como sendo a _densidade de probabilidade de detectarmos uma particula na posição x dado que a medição ocorreu no instante t._ Em outras palavras "
   ]
  },
  {
   "cell_type": "markdown",
   "id": "69f0e056-b5d4-4f65-8b9c-a1dc250699a1",
   "metadata": {},
   "source": [
    "$$P_{X,T}(x,t) \\equiv \\mathcal{P} (x,t)$$"
   ]
  },
  {
   "cell_type": "markdown",
   "id": "01725c00-5fe1-46cd-8219-2106f7fb12f1",
   "metadata": {},
   "source": [
    "$$P_{X}(x|t) \\equiv |\\psi(x,t)|^2$$"
   ]
  },
  {
   "cell_type": "markdown",
   "id": "80f9bdd4-a1d4-4bee-9d7d-424cfb3aefa6",
   "metadata": {},
   "source": [
    "$$P_{T}(t) \\equiv f(t)$$"
   ]
  },
  {
   "cell_type": "markdown",
   "id": "6439c888-07b9-4413-ae3d-ebe6075c48ab",
   "metadata": {},
   "source": [
    "$$\t\\Rightarrow \\mathcal{P}(x,t) =  |\\psi(x,t)|^2 f(t) \\tag{3.5}$$ "
   ]
  },
  {
   "cell_type": "markdown",
   "id": "da013066-4af5-489a-a346-5fb6a2182eff",
   "metadata": {},
   "source": [
    "Será que podemos então construir uma simetriz através do Teorema de Bayes? "
   ]
  },
  {
   "cell_type": "markdown",
   "id": "9fc8e51e-d810-410e-ae4b-0a8780c119fe",
   "metadata": {},
   "source": [
    "$$ \\mathcal{P}(x,t) = P_T(t|x)P_X(x) =  P_X(x|t)P_T(t) $$"
   ]
  },
  {
   "cell_type": "markdown",
   "id": "205d229e-be07-42da-80d1-d72b864333f4",
   "metadata": {},
   "source": [
    "Vamos então na sessão que segue, no intuito de contornar o argumento de Pauli, sair do espaço de Hilbert $\\mathcal{H_x}$ que define a posição como variável dinâmica e o tempo como parâmetro apenas, que é o espaço onde ocorre a catástrofe da energia quando tentamos introduzir um operador tempo que seja canônicamente conjugado com $H$, e vamos agora para um espaço $\\mathcal{H_t}$ onde a criação de um operador $T$ não é mais catastrófica. A intenção é que os espaços futuramente se relacionem através da seguinte transformação "
   ]
  },
  {
   "cell_type": "markdown",
   "id": "a21843ea-41f5-4dce-8fe1-9bea7a624761",
   "metadata": {},
   "source": [
    "$$ \\mathcal{H} \\equiv \\mathcal{H_X} \\otimes \\mathcal{H_T} \\tag{3.6}$$"
   ]
  },
  {
   "cell_type": "markdown",
   "id": "d69d468d-4e63-46aa-b728-4759030dc608",
   "metadata": {},
   "source": [
    "Pretendemos enxergar então através da relação $\\Delta E \\Delta t \\geqslant \\frac{\\hbar}{2}$ que o termo $\\Delta t$ representa então a incerteza de sucessivas medições do operador $T$.  "
   ]
  },
  {
   "cell_type": "markdown",
   "id": "820812b1-acaf-416e-856a-eed991a90900",
   "metadata": {
    "jp-MarkdownHeadingCollapsed": true,
    "tags": []
   },
   "source": [
    "### 4. Teoria de Extensão da MQ espaço-tempo-simétrica"
   ]
  },
  {
   "cell_type": "markdown",
   "id": "ecbdfd06-e874-458c-b4e3-fbec890c935a",
   "metadata": {},
   "source": [
    " ####  Construção via Hamilton-Jacobi"
   ]
  },
  {
   "cell_type": "markdown",
   "id": "990ab936-de51-44d0-b9a7-cf909523760e",
   "metadata": {},
   "source": [
    "No intuito de prover uma fundamentação teórica mais completa, vamos construir esse desenvolvimento a partir do zero. Uma das operações binárias mais importantes no tocante a teoria da mecânica clássica Hamiltoniana são os conhecidos [Colchetes de Poisson](https://en.wikipedia.org/wiki/Poisson_bracket). Relembre que os definimos da seguinte forma: "
   ]
  },
  {
   "cell_type": "markdown",
   "id": "1c467135-7342-4325-ac1e-f3a14b50f0cb",
   "metadata": {},
   "source": [
    "$$ \\{\\lambda, \\omega\\} = \\sum_{k}^{N} \\left( \\frac{\\partial \\lambda}{\\partial q_k}\\frac{\\partial \\omega}{\\partial p_k} - \\frac{\\partial \\lambda}{\\partial p_k}\\frac{\\partial \\omega}{\\partial q_k}\\right) \\Rightarrow \\tag{4.1}$$"
   ]
  },
  {
   "cell_type": "markdown",
   "id": "28523a51-93f7-4fc9-abc0-f375ef95c1c8",
   "metadata": {},
   "source": [
    "$$\\Rightarrow \\{q_i, p_j\\} = \\sum_{k}^{N} \\left( \\frac{\\partial q_i}{\\partial q_k}\\frac{\\partial p_j}{\\partial p_k} - \\frac{\\partial q_i}{\\partial p_k}\\frac{\\partial p_j}{\\partial q_k}\\right) = \\sum_{k}^{N} \\delta_{ik}\\delta_{jk} = \\delta_{ij}$$"
   ]
  },
  {
   "cell_type": "markdown",
   "id": "17b34f02-0cec-42e2-83f1-815c90d7644f",
   "metadata": {},
   "source": [
    "$$\\Rightarrow \\{q_i, q_j\\} = \\sum_{k}^{N} \\left( \\frac{\\partial q_i}{\\partial q_k}\\frac{\\partial q_j}{\\partial p_k} - \\frac{\\partial q_i}{\\partial p_k}\\frac{\\partial q_j}{\\partial q_k}\\right) = 0 $$"
   ]
  },
  {
   "cell_type": "markdown",
   "id": "0a76073d-bd34-44ff-bdd2-78b9a37fbf19",
   "metadata": {},
   "source": [
    "$$\\Rightarrow \\{p_i, p_j\\} = 0 $$"
   ]
  },
  {
   "cell_type": "markdown",
   "id": "0ab9e6eb-da39-4a13-91c3-545188965f73",
   "metadata": {},
   "source": [
    "Onde temos então definidos os colchetes de poisson, e pontuadas suas propriedades mais diretas: "
   ]
  },
  {
   "cell_type": "markdown",
   "id": "a1f968e6-48eb-4c7c-9455-eacec60f9154",
   "metadata": {},
   "source": [
    "$$\\{q_i, p_j\\} = \\delta_{ij} ; \\{q_i, q_j\\} = \\{p_i, p_j\\} = 0; \\tag{4.2} $$"
   ]
  },
  {
   "cell_type": "markdown",
   "id": "89b43c77-0658-4a68-8df6-58c115d980e6",
   "metadata": {},
   "source": [
    " #### Transformações Canônicas (TC)"
   ]
  },
  {
   "cell_type": "markdown",
   "id": "6d5fb900-558a-4a56-ad30-f36e35109ea6",
   "metadata": {},
   "source": [
    "E fácil então agora reescrever a partir dos colchetes de poisson as equações de Hamilton, de forma que: "
   ]
  },
  {
   "cell_type": "markdown",
   "id": "5b4825d6-7e5d-4559-bbdb-b7f8debac313",
   "metadata": {},
   "source": [
    "$$ \\dot{q_i} = \\{q_i, \\mathcal{H}\\}; \\tag{4.3}$$"
   ]
  },
  {
   "cell_type": "markdown",
   "id": "b7d60b5a-3ea7-4864-a78c-e20708f61401",
   "metadata": {},
   "source": [
    "$$ \\dot{p_i} = \\{p_i, \\mathcal{H}\\}; \\tag{4.4}$$"
   ]
  },
  {
   "cell_type": "markdown",
   "id": "db61e4a6-6e55-48f8-8e31-99ee28cb6b61",
   "metadata": {},
   "source": [
    "Sejam então $(q,p) = (q_1,...,q_n; p_1,...,p_n)$ o conjunto de coordenadas necessárias para descrever um sistema, existe então também um $(\\bar{q},\\bar{p}) = (\\bar{q_1},...,\\bar{q_n}; \\bar{p_1},...,\\bar{p_n})$ que o descreve. "
   ]
  },
  {
   "cell_type": "markdown",
   "id": "52e9149f-3820-46f4-9d0c-513358dbaaf5",
   "metadata": {},
   "source": [
    "  $$\\begin{matrix} \n",
    "  (q,p) & \\rightarrow & (\\bar{q},\\bar{p})  \\\\ \n",
    "  \\downarrow & & \\downarrow \\\\\n",
    "  \\mathcal{H}(q,p) & \\rightarrow & \\mathbb{K}(\\bar{q},\\bar{p}) \\\\\n",
    "  \\end{matrix}$$"
   ]
  },
  {
   "cell_type": "markdown",
   "id": "36ff32df-b7de-4c96-8328-386c937df8e6",
   "metadata": {},
   "source": [
    "Se tivermos então as equações de Hamilton para este novo sistema de coordenadas, isto é, "
   ]
  },
  {
   "cell_type": "markdown",
   "id": "f6caf76a-cd51-4ab2-b624-f4eec5a7ddd5",
   "metadata": {},
   "source": [
    "$$ \\dot{\\bar{q_i}} = \\{\\bar{q}, \\mathbb{K}\\}; \\tag{4.5}$$"
   ]
  },
  {
   "cell_type": "markdown",
   "id": "0f68ed9d-dd14-40ac-b9c1-56d866b5d609",
   "metadata": {},
   "source": [
    "$$ \\dot{\\bar{p_i}} = \\{\\bar{p}, \\mathbb{K}\\}; \\tag{4.6}$$"
   ]
  },
  {
   "cell_type": "markdown",
   "id": "d46fc3a2-8504-4e99-91f8-a610ab4510d8",
   "metadata": {},
   "source": [
    "Essa transformação então é dita canônica, o que acarreta diretamente em "
   ]
  },
  {
   "cell_type": "markdown",
   "id": "a87469f1-4d57-4d04-91ed-948d548fd4e9",
   "metadata": {},
   "source": [
    "$$\\{\\bar{q_i}, \\bar{p_j}\\} = \\delta_{ij} ; \\{\\bar{q_i}, \\bar{q_j}\\} = \\{\\bar{p_i}, \\bar{p_j}\\} = 0; \\tag{4.7} $$"
   ]
  },
  {
   "cell_type": "markdown",
   "id": "3507e35a-3f06-4cd8-9bf2-b9cf92cf19a5",
   "metadata": {},
   "source": [
    "Podemos então agora escolher uma função geradora $\\delta$ de modo a nova hamiltoniana $\\mathbb{K}$ seja identicamente nula, e isso nos leva a equção de Hamilton-Jacobi: "
   ]
  },
  {
   "cell_type": "markdown",
   "id": "78e43420-9c80-4977-a4b9-7bed8f3bd8f9",
   "metadata": {},
   "source": [
    "$$\\mathcal{H}(q,p) = -\\frac{\\partial S}{\\partial t} \\tag{4.8}$$ "
   ]
  },
  {
   "cell_type": "markdown",
   "id": "9ad80a23-3673-4e79-8f56-106c04ebc857",
   "metadata": {},
   "source": [
    "onde temos que "
   ]
  },
  {
   "cell_type": "markdown",
   "id": "b387725f-48ee-4437-8a5e-45dad4f8a75e",
   "metadata": {},
   "source": [
    "$$ p = \\frac{\\partial S}{\\partial q} \\tag{4.9}$$ "
   ]
  },
  {
   "cell_type": "markdown",
   "id": "c0e5d56b-cafd-4514-9781-3ad8abd456ab",
   "metadata": {},
   "source": [
    "Buscando uma motivação de visão ondulatória da já desenvolvida e consolidada mecânica clássico (como em paraleleo desenvolvido para a ótica), vamos buscar enxergar  $S$ como uma fase de um processo ondulatório  de um regime físico qualquer, isto é, "
   ]
  },
  {
   "cell_type": "markdown",
   "id": "a40bcc45-9477-45d9-b322-de0fb2f36599",
   "metadata": {},
   "source": [
    "$$\\psi = exp\\left({\\frac{iS}{\\hbar}}\\right) \\Rightarrow ln(\\psi) = \\frac{iS}{\\hbar} \\Rightarrow S = -i \\hbar  ln\\psi $$"
   ]
  },
  {
   "cell_type": "markdown",
   "id": "1b5d7ba0-a1f0-4a7b-9525-e7464e2935f5",
   "metadata": {},
   "source": [
    "Isto é,"
   ]
  },
  {
   "cell_type": "markdown",
   "id": "0fa87c13-2a45-4a89-ba69-0789b582df2d",
   "metadata": {},
   "source": [
    "$$\\frac{\\partial S}{\\partial t} =-i \\hbar \\left( \\frac{1}{\\psi}\\frac{\\partial \\psi}{\\partial t}\\right) ,\\frac{\\partial S}{\\partial q} =-i \\hbar \\left( \\frac{1}{\\psi}\\frac{\\partial \\psi}{\\partial q}\\right) \\tag{4.10}$$"
   ]
  },
  {
   "cell_type": "markdown",
   "id": "1cf63391-20c5-485b-81ba-1ff5195cb1f0",
   "metadata": {},
   "source": [
    "Substituindo esses resultados nas equações (4.8) e (4.9) vamos obter "
   ]
  },
  {
   "cell_type": "markdown",
   "id": "370a3025-1947-4087-93df-0bf23f232573",
   "metadata": {},
   "source": [
    "$$\\mathcal{H} \\psi = i\\hbar \\frac{\\partial \\psi}{\\partial t} \\tag{4.11}$$"
   ]
  },
  {
   "cell_type": "markdown",
   "id": "391d5054-8962-45e8-a75a-32bcebebb72e",
   "metadata": {},
   "source": [
    "$$p \\psi = i\\hbar \\frac{\\partial \\psi}{\\partial q} \\tag{4.12}$$"
   ]
  },
  {
   "cell_type": "markdown",
   "id": "c6431066-13c1-4e41-a802-626863430589",
   "metadata": {},
   "source": [
    "Especificamente essas relações são de nosso grande interesse. Note que elas se assemelham ás equações da dinâmica de evolução de $|\\psi \\rangle$  "
   ]
  },
  {
   "cell_type": "markdown",
   "id": "a481e84f-434e-4d14-bb9c-4bc334f16234",
   "metadata": {},
   "source": [
    "Equação de Schroedinger: $$ \\mathcal{H} |\\psi \\rangle = i\\hbar \\frac{\\partial |\\psi \\rangle}{\\partial t} \\tag{4.13}$$"
   ]
  },
  {
   "cell_type": "markdown",
   "id": "8f23a9ca-e99e-4f59-a68d-124f518b4c5a",
   "metadata": {},
   "source": [
    "Operador momento atuando em $\\mathcal{H_x}$: $$ \\langle \\psi | p |\\psi \\rangle = -i\\hbar \\frac{\\partial \\psi}{\\partial t} \\tag{4.14}$$"
   ]
  },
  {
   "cell_type": "markdown",
   "id": "413b85a3-d863-4b37-bdc7-44a084b4291a",
   "metadata": {},
   "source": [
    "E elas assim o fazem pelo postulado de coerência entre a MQ e a MC direto do Heisenberg picture."
   ]
  },
  {
   "cell_type": "markdown",
   "id": "b7567dea-5af6-4520-879e-57f09571fe67",
   "metadata": {},
   "source": [
    "<div class=\"alert-warning\">\n",
    "$$\\textrm{Formulação tradicional}$$\n",
    "</div>"
   ]
  },
  {
   "cell_type": "markdown",
   "id": "28f0ad30-4b36-4eea-944a-e79526c61bc3",
   "metadata": {},
   "source": [
    "$$ \\hat{X}, \\hat{p}, H, t  $$ "
   ]
  },
  {
   "cell_type": "markdown",
   "id": "34e3207f-04c2-4d67-a4fe-a0ca86951735",
   "metadata": {},
   "source": [
    "$$ \\mathcal{H} |\\psi(t) \\rangle = i\\hbar \\frac{\\partial |\\psi (t) \\rangle}{\\partial t} $$"
   ]
  },
  {
   "cell_type": "markdown",
   "id": "aad62c39-01ce-414a-9e9a-faae90f1917f",
   "metadata": {},
   "source": [
    "$$ \\langle x | \\hat{p} |\\psi(t) \\rangle = -i\\hbar \\frac{\\partial \\psi (x,t)}{\\partial x} $$"
   ]
  },
  {
   "cell_type": "markdown",
   "id": "8afee82a-f143-480b-a6ba-16d73215673e",
   "metadata": {},
   "source": [
    "<div class=\"alert-warning\">\n",
    "$$\\textrm{Formulação alternativa}$$\n",
    "</div>"
   ]
  },
  {
   "cell_type": "markdown",
   "id": "793ab2f0-25f2-4b83-a9b1-a6fa88c7d29b",
   "metadata": {},
   "source": [
    " $$  x, P, \\hat{h}, \\hat{T}$$"
   ]
  },
  {
   "cell_type": "markdown",
   "id": "2f576e6b-63dd-426a-bbb5-90f1db058852",
   "metadata": {},
   "source": [
    "$$ \\mathcal{P} |\\phi(x) \\rangle = -i\\hbar \\frac{\\partial |\\phi (x) \\rangle}{\\partial x} $$"
   ]
  },
  {
   "cell_type": "markdown",
   "id": "a7c45ce3-cee6-4b78-8316-03978b338921",
   "metadata": {},
   "source": [
    "$$ \\langle t | \\hat{h} |\\phi(t) \\rangle = i\\hbar \\frac{\\partial \\phi (x,t)}{\\partial t} \\tag{4.14}$$"
   ]
  },
  {
   "cell_type": "markdown",
   "id": "1404235b-421b-48e4-9828-7fdca016e54a",
   "metadata": {},
   "source": [
    "Na nossa formulação alternativa, o equivalente a equação de Schroedinger vai ser dito o \"pamiltoneano\", sendo ela uma espécie de segunda lei de Newton para nossa nova formulação."
   ]
  },
  {
   "cell_type": "markdown",
   "id": "c1381154-0636-490d-a9b6-4b052b4e9bac",
   "metadata": {},
   "source": [
    "$x$ agora será tratado como um parâmetro, $t$ como um autovalor associado a $\\hat{t}$, e as variáveis canônicamente conjugadas agora fazem com que"
   ]
  },
  {
   "cell_type": "markdown",
   "id": "b2d2bca7-8bbc-4775-81f1-dda3425b3a58",
   "metadata": {},
   "source": [
    "$$[ \\hat{h},\\hat{t} ]= i \\hbar$$"
   ]
  },
  {
   "cell_type": "markdown",
   "id": "210dc181-cf8b-46f0-95c5-2e01282fc665",
   "metadata": {},
   "source": [
    "$$\\begin{pmatrix} \n",
    "  x \\\\ \n",
    "  \\hat{p} \\\\ \n",
    "  \\mathcal{H} \\\\ \n",
    "  | \\psi \\rangle \\\\\n",
    "  \\end{pmatrix}\n",
    "  \\Longleftrightarrow\n",
    "  \\begin{pmatrix} \n",
    " -t \\\\ \n",
    "  \\hat{h} \\\\ \n",
    "  \\mathcal{P} \\\\ \n",
    "  | \\phi \\rangle \\\\\n",
    "  \\end{pmatrix}$$"
   ]
  },
  {
   "cell_type": "markdown",
   "id": "f1ed845b-1450-4931-a5ed-7c8dfa927a01",
   "metadata": {},
   "source": [
    "Essa formulação alternativa se mostra então tão poderosa quanto a mecânica quântica tradicional, mas é capaz de possibilitar a obtenção de resultados antes inacessiveís; Nada mais justo então do que reafirmar a transformação que propuzemos anteriormente em (3.6): "
   ]
  },
  {
   "cell_type": "markdown",
   "id": "9b0c19c3-757a-48f2-94d8-984a10e3cb1a",
   "metadata": {},
   "source": [
    "$$ \\mathcal{H} \\equiv \\mathcal{H_X} \\otimes \\mathcal{H_T}$$"
   ]
  },
  {
   "cell_type": "markdown",
   "id": "61068633-0be1-4a73-9dcc-357edb6d1bf6",
   "metadata": {},
   "source": [
    "de forma que:"
   ]
  },
  {
   "cell_type": "markdown",
   "id": "5f911599-ff12-4692-8a5e-44498c8878e6",
   "metadata": {},
   "source": [
    "$$\\mathcal{H_x} \\rightarrow | \\psi \\rangle $$"
   ]
  },
  {
   "cell_type": "markdown",
   "id": "8d5b7cd2-93c6-494d-af1e-18869f4d866b",
   "metadata": {},
   "source": [
    "$$\\mathcal{H_t} \\rightarrow | \\phi \\rangle $$"
   ]
  },
  {
   "cell_type": "markdown",
   "id": "68e98c8f-d967-42dd-8188-bc02a4a633f7",
   "metadata": {},
   "source": [
    "$$\\mathcal{H} \\rightarrow | \\Psi \\rangle $$"
   ]
  },
  {
   "cell_type": "markdown",
   "id": "4ea8ad33-2bee-457e-b8b3-9fb94279abc4",
   "metadata": {},
   "source": [
    "Desta forma, vamos tratar o produto interno dentro desse espaço como sendo:"
   ]
  },
  {
   "cell_type": "markdown",
   "id": "e3974780-f6f1-4754-978c-816a730f6105",
   "metadata": {},
   "source": [
    "$$|| \\Psi \\rangle = \\int_{\\mathcal{}H_T} dt \\int_{\\mathcal{}H_X} dx |x t \\rangle \\Psi(x,t) \\tag{4.15}$$"
   ]
  },
  {
   "cell_type": "markdown",
   "id": "6d2b372e-7207-489c-b03e-ae08564d55f6",
   "metadata": {},
   "source": [
    "Onde de $\\Psi(x,t) \\rightarrow |\\Psi|^2 = \\mathcal{P}(x,t)$."
   ]
  },
  {
   "cell_type": "markdown",
   "id": "1501de1b-cca3-496f-b0a2-fa9929d3bc8d",
   "metadata": {},
   "source": [
    "#### OBSERVAÇÃO "
   ]
  },
  {
   "cell_type": "markdown",
   "id": "ec19b56e-512e-427e-92f9-d4580b63b83d",
   "metadata": {},
   "source": [
    "usando o teorema de Bayes: $$ \\mathcal{P}(x,t) =  P_X(x|t)P_T(t) = P_T(t|x)P_X(x) $$"
   ]
  },
  {
   "cell_type": "markdown",
   "id": "a2f2a14e-09cb-446d-99ff-2277ee1417a4",
   "metadata": {},
   "source": [
    "$$ |\\Psi (x,t)|^2 = |\\psi (x,t)|^2 f(t) = |\\phi (t,x)|^2 g(x)  $$"
   ]
  },
  {
   "cell_type": "markdown",
   "id": "e926d7af-6258-4282-bb45-58b1d38dafa3",
   "metadata": {},
   "source": [
    "$$ \\Psi (x,t) = \\psi (x,t) \\sqrt{f(t)} = \\phi (t,x)\\sqrt{g(x)}  $$"
   ]
  },
  {
   "cell_type": "markdown",
   "id": "73ea3a31-315a-48f1-9ba9-7af84734245d",
   "metadata": {},
   "source": [
    "$$ \\Psi^* (x,t) = \\psi^* (x,t) \\sqrt{f(t)} = \\phi^* (t,x) \\sqrt{g(x)}  $$"
   ]
  },
  {
   "cell_type": "markdown",
   "id": "da68651a-be3f-4fad-9db0-97782e2951b5",
   "metadata": {},
   "source": [
    "Isto é, finalmente, o que buscavamos, "
   ]
  },
  {
   "cell_type": "markdown",
   "id": "e9507b9b-7489-4f83-b337-5de6edababcf",
   "metadata": {},
   "source": [
    "$$ |x t \\rangle \\equiv |x\\rangle \\otimes |t\\rangle $$"
   ]
  },
  {
   "cell_type": "markdown",
   "id": "c2f581a2-4666-4931-afe3-bf2b1e3c066f",
   "metadata": {},
   "source": [
    "No mais, já que sabemos que $ \\mathcal{H} \\equiv \\mathcal{H_X} \\otimes \\mathcal{H_T}$, devemos saber como atuam os operadores num autoket de $ \\mathcal{H}$ "
   ]
  },
  {
   "cell_type": "markdown",
   "id": "e8591c94-89bf-4390-8f94-7d72f0872063",
   "metadata": {},
   "source": [
    "$$\\langle xt | \\hat{p} |\\Psi \\rangle = \\langle xt |\\hat{p} \\int dx^\\prime \\int dt^\\prime \\Psi(x^\\prime,t^\\prime) |x^\\prime t^\\prime \\rangle  $$"
   ]
  },
  {
   "cell_type": "markdown",
   "id": "51a51fc7-508d-487e-be90-0236a14209d5",
   "metadata": {},
   "source": [
    "$$ = \\int dx^\\prime \\int dt^\\prime \\Psi(x^\\prime,t^\\prime)  \\langle xt |\\hat{p}|x^\\prime t^\\prime \\rangle $$"
   ]
  },
  {
   "cell_type": "markdown",
   "id": "61892485-a2c8-416d-b09b-07f74fca8b52",
   "metadata": {},
   "source": [
    "$$ = \\int dx^\\prime \\int dt^\\prime \\Psi(x^\\prime,t^\\prime) \\langle t | t^\\prime \\rangle  \\langle x |\\hat{p}|x^\\prime  \\rangle $$"
   ]
  },
  {
   "cell_type": "markdown",
   "id": "6a92071a-7847-4384-ba2e-32e76b37a4a3",
   "metadata": {},
   "source": [
    "$$ =\\int dt^\\prime \\langle t | t^\\prime \\rangle \\int dx^\\prime  \\Psi(x^\\prime,t^\\prime)   \\langle x |\\hat{p}|x^\\prime  \\rangle $$"
   ]
  },
  {
   "cell_type": "markdown",
   "id": "9b363c4c-3579-49fe-80d2-af794428464a",
   "metadata": {},
   "source": [
    "$$ =\\sqrt{f(t)} \\int dx^\\prime  \\Psi(x^\\prime,t^\\prime)   \\langle x |\\hat{p}|x^\\prime  \\rangle $$"
   ]
  },
  {
   "cell_type": "markdown",
   "id": "b95e4418-582e-462c-9ec3-7e56ad0d6127",
   "metadata": {},
   "source": [
    "$$ =\\sqrt{f(t)} \\langle x| \\hat{p} \\int dx^\\prime  \\Psi(x^\\prime,t^\\prime)   |x^\\prime  \\rangle $$"
   ]
  },
  {
   "cell_type": "markdown",
   "id": "6cab7253-6305-4ebc-b669-0009f54d86b7",
   "metadata": {},
   "source": [
    "$$\\Rightarrow \\langle xt | \\hat{p} |\\Psi \\rangle = \\sqrt{f(t)} \\langle x| \\hat{p}  |\\psi(t)  \\rangle $$"
   ]
  },
  {
   "cell_type": "markdown",
   "id": "5eed2bd6-349e-41bf-9d79-321c1afdb9f3",
   "metadata": {},
   "source": [
    "Analogamente, também é idêntico ver que,"
   ]
  },
  {
   "cell_type": "markdown",
   "id": "a41b0da1-51f2-4355-a15c-2835ca49ea83",
   "metadata": {},
   "source": [
    "$$\\Rightarrow \\langle xt | \\hat{h} |\\Psi \\rangle = \\sqrt{g(x)} \\langle t| \\hat{h}  |\\phi(x)  \\rangle $$"
   ]
  },
  {
   "cell_type": "markdown",
   "id": "930e6430-fb75-4c50-ad2a-03ae259ef80e",
   "metadata": {
    "jp-MarkdownHeadingCollapsed": true,
    "tags": []
   },
   "source": [
    "### 5. Derivação de uma equação dinâmica para $\\phi(t,x)$"
   ]
  },
  {
   "cell_type": "markdown",
   "id": "b4732a85-fea2-4404-b176-07a567162a23",
   "metadata": {},
   "source": [
    "Dada a construção de raciocinio até então, temos em nosso conhecimento que:"
   ]
  },
  {
   "cell_type": "markdown",
   "id": "614ece0b-4e97-4546-99e6-759619ed8099",
   "metadata": {},
   "source": [
    "- Equação de Schroedinger tempo-condicional:"
   ]
  },
  {
   "cell_type": "markdown",
   "id": "1d232cd9-b04f-46f0-a5d6-1a4014ff2a1c",
   "metadata": {},
   "source": [
    "$$ \\mathcal{H} |\\psi(t) \\rangle = i\\hbar \\frac{\\partial |\\psi (t) \\rangle}{\\partial t} \\tag{5.1}$$"
   ]
  },
  {
   "cell_type": "markdown",
   "id": "dd4079f1-d7c8-4fea-a9ff-c721aef80f5d",
   "metadata": {},
   "source": [
    "temos aqui o tempo como parâmetro, e a equação trata de uma evolução temporal do ket $\\psi$."
   ]
  },
  {
   "cell_type": "markdown",
   "id": "f6f87176-2136-493b-9900-114e0f1cc8b5",
   "metadata": {},
   "source": [
    "- Equação de Schroedinger espaço-condicional:"
   ]
  },
  {
   "cell_type": "markdown",
   "id": "333d5708-9b31-4363-b418-2b8b9bf04eed",
   "metadata": {},
   "source": [
    "$$ \\mathcal{P} |\\phi(x) \\rangle = -i\\hbar \\frac{\\partial |\\phi (x) \\rangle}{\\partial x} \\tag{5.2}$$"
   ]
  },
  {
   "cell_type": "markdown",
   "id": "33269402-ff34-4dc7-8728-a65869fa14d1",
   "metadata": {},
   "source": [
    "Agora, a posição é que será tratada como parâmetro, e a equação trata de uma evolução espacial do ket $\\phi$."
   ]
  },
  {
   "cell_type": "markdown",
   "id": "365bd5e1-4508-42f7-8504-8d66b86b7101",
   "metadata": {},
   "source": [
    "Resta agora explicitar as transformações que envolvem o nosso novo operador _Pamiltoniano_ $(\\mathcal{P})$, para isso iremos utilizar mais uma vez o formalismo Hamiltoniano da mecânica clássica como uma analogia para a construção da teoria."
   ]
  },
  {
   "cell_type": "markdown",
   "id": "2c9273c8-a6c0-4998-8da5-48ce296c7d92",
   "metadata": {},
   "source": [
    "Do fomrmalismo tradicional, temos que\n",
    "$$\\mathcal{H}(q, p; t) = \\frac{p^2}{2m} + V(x,t) \\Rightarrow H (X, \\hat{p};t) = \\frac{\\hat{p}^2}{2m} +  V(x,t) \\tag{5.3}$$"
   ]
  },
  {
   "cell_type": "markdown",
   "id": "b7fef334-8cb7-4b99-87bd-b473aee54d27",
   "metadata": {},
   "source": [
    "Podemos então isolar $p$ na equação acima e explicitá-lo em função de $\\mathcal{H}$ e $V$ "
   ]
  },
  {
   "cell_type": "markdown",
   "id": "a7659ca6-27d3-4e10-820c-a817aa2a6fd5",
   "metadata": {},
   "source": [
    "$$p(t, \\mathcal{H};x) = \\pm \\sqrt{2m} (\\mathcal{H} - V(t,x))^{1/2}$$"
   ]
  },
  {
   "cell_type": "markdown",
   "id": "429fb2bc-296c-45ab-952f-e51e24a9d253",
   "metadata": {},
   "source": [
    "$$\\Rightarrow P(T, \\hat{h};x) = \\hat{\\sigma_z} \\sqrt{2m} (\\hat{h} - V(T,x))^{1/2}\\tag{5.4}$$"
   ]
  },
  {
   "cell_type": "markdown",
   "id": "db60d145-73c7-4aad-947b-7bb1f093cf1b",
   "metadata": {},
   "source": [
    "Aplicando na equação de Schroedinger espaço condicional que desenvolvemos anteriormente, temos que"
   ]
  },
  {
   "cell_type": "markdown",
   "id": "bf6a0556-7a2d-45d1-bc1d-bb3b561adb5d",
   "metadata": {},
   "source": [
    "$$\\sqrt{2m} \\hat{\\sigma_z}  [\\hat{h} - V(T,x)]^{1/2} |\\phi (x) \\rangle = -i \\hbar \\frac{d}{dx} | \\phi (x) \\rangle \\tag{5.5}$$"
   ]
  },
  {
   "cell_type": "markdown",
   "id": "8d03a94c-0488-417f-a22f-a021d2a58015",
   "metadata": {},
   "source": [
    "Note que ao projetarmos em $\\langle t |$, vamos obter que"
   ]
  },
  {
   "cell_type": "markdown",
   "id": "fe786369-f055-40d8-b8f5-67a49f8e37fe",
   "metadata": {},
   "source": [
    "$$\\sqrt{2m} \\hat{\\sigma_z}  [i \\hbar \\frac{\\partial}{\\partial t} - V(T,x)]^{1/2} \\phi (t,x)  = -i \\hbar \\frac{\\partial}{\\partial x}  \\phi (t,x) \\tag{5.6}$$"
   ]
  },
  {
   "cell_type": "markdown",
   "id": "f9cd6c09-bcd9-4000-95f8-18be4c59d457",
   "metadata": {},
   "source": [
    "##### Observação:"
   ]
  },
  {
   "cell_type": "markdown",
   "id": "400548a6-43b3-419c-9222-e3e25200c9be",
   "metadata": {},
   "source": [
    "O caráter matricial de $\\hat{\\sigma_z}$ é resultado apenas da definição dos dois polos da raíz \n",
    "$$\\phi(t,x) = \\begin{pmatrix} \n",
    "  \\phi^+ (t,x) \\\\ \n",
    "  \\phi^- (t,x) \\\\ \n",
    "  \\end{pmatrix} \\tag{5.7}$$"
   ]
  },
  {
   "cell_type": "markdown",
   "id": "d36804fb-b182-4353-808b-89eda4cbf13e",
   "metadata": {},
   "source": [
    "Onde $\\phi^+$ é a amplitude de porbabilidade da partícula incidir em um sentido no aparato localizado $x$, e $\\phi^-$ no outro sentido. Claro que se $\\rho (t,x)$ for a densidade total "
   ]
  },
  {
   "cell_type": "markdown",
   "id": "56492b54-3449-4205-9957-1f89f847f61b",
   "metadata": {},
   "source": [
    "$$\\rho (x,t) = |\\phi^+|^2 + |\\phi^-|^2 = \\phi^{\\dagger} \\phi \\tag{5.8}$$"
   ]
  },
  {
   "cell_type": "markdown",
   "id": "80999ca4-659e-4c46-9c94-dce03594d038",
   "metadata": {},
   "source": [
    "Da formulação tradicional, sabemos que $|\\psi (x,t)|^2 = |\\langle x | \\psi(t) \\rangle|^2 \\rightarrow$ equivale a densidade de probabilidade de detectarmos a partícula na posição x, dado que a medição ocorreu no instante t. Agora, nossa proposta chegou ao ponto de nos fornecer o ansatz de que $|\\phi (t,x)|^2 = |\\langle t | \\phi(x) \\rangle|^2 $, é a relação complementar dentro da nossa teoria estendida que nos fornece a densidade de probabilidade de detectarmos a partícula num instante de tempo t, dado que a medição ocorreu no espaço x."
   ]
  },
  {
   "cell_type": "markdown",
   "id": "17521a1f-a98c-4944-8eb8-b982d6988582",
   "metadata": {},
   "source": [
    "Esse desenvolvimento nos permite então evoluir temporalmente a equação de Schroedinger Bayes-simétrica no espaço $\\mathcal{H_t}$, e obter então uma previsão analítica do comportamento do tempo de tunelamento em um experimento para determinar o tempo de tunelamento, como faremos computacionalmente na sessão à seguir, e compararemos com alguns artigos já publicado que se propõe a efetuar esse experimento. \n",
    "- [trabalho 1](https://www.nature.com/articles/s41598-020-77861-x) \n",
    "\n",
    "- [trabalho 2](https://www.nature.com/articles/ncomms13488)  \n",
    "\n",
    "- [trabalho 3](https://arxiv.org/abs/1907.13523)"
   ]
  },
  {
   "cell_type": "markdown",
   "id": "19309dd4-739d-4bf8-83ac-9893f9dc72dd",
   "metadata": {
    "jp-MarkdownHeadingCollapsed": true,
    "tags": []
   },
   "source": [
    "### 6. Primeira tentativa de evolução numérica com experimento de tempo de tunelamento"
   ]
  },
  {
   "cell_type": "markdown",
   "id": "04d0f5ad-9467-41e6-b20e-ef85d498b409",
   "metadata": {},
   "source": [
    "Tomando como partida o exercício 4.10 sugerido pelo livro do [Foot](https://books.google.com.br/books?id=kXYpAQAAMAAJ) de física atômica, vamos evoluir a equação de Schroedinger a partir do seguinte script em python"
   ]
  },
  {
   "cell_type": "code",
   "execution_count": null,
   "id": "91f438b4-3684-4094-8047-ec4fc15053e1",
   "metadata": {},
   "outputs": [],
   "source": [
    "import numpy as np\n",
    "import matplotlib.pyplot as plt\n",
    "import scipy as sp"
   ]
  },
  {
   "cell_type": "markdown",
   "id": "4a41565b-5e1c-49f6-a55c-febfeae5e124",
   "metadata": {},
   "source": [
    "Chamando as seguintes constantes para parametrizar nosso problema, e definindo as condições iniciais para determinar o tempo de travessia "
   ]
  },
  {
   "cell_type": "code",
   "execution_count": null,
   "id": "b7bd6c99-98cd-418f-a1a7-df42700fb5f7",
   "metadata": {},
   "outputs": [],
   "source": [
    "#constants\n",
    "N = 100\n",
    "Am = 1\n",
    "step = 0.2\n",
    "E = -0.25"
   ]
  },
  {
   "cell_type": "code",
   "execution_count": null,
   "id": "309d1d1f-6897-44cd-85cb-b803b81401a3",
   "metadata": {},
   "outputs": [],
   "source": [
    "#arrays/initial conditions\n",
    "t = [0 for x in range(N)]\n",
    "t[0] = 0.2\n",
    "Vt = [0 for x in range(N)]\n",
    "phi = [0 for x in range(N)]\n",
    "phi[0] = 5"
   ]
  },
  {
   "cell_type": "markdown",
   "id": "499d77c1-ab04-4e39-82b7-ade39e53d798",
   "metadata": {},
   "source": [
    "Usando como método de aproximação para o calculo numérico o seguinte procedimento para resolver a EDO e finalmente evoluir a nossa equação de Schroedinger como desejado:\n",
    "$$\\frac{d f}{d t} = \\frac{f(t + \\delta/2)+f(t - \\delta/2)}{\\delta} \\tag{6.1}$$\n",
    "\n",
    "$$\\frac{d^2 f}{d t^2} = \\frac{f(t + \\delta)+f(t - \\delta)- 2f(t)}{\\delta^2} \\tag{6.2}$$\n",
    "\n",
    "onde implementamos então esse algoritmo na nossa relação para $\\phi(t,x)$ desenvolvido na sessão anterior\n",
    "\n",
    "$$\\sqrt{2m} \\hat{\\sigma_z}  [\\hat{h} - V(T,x)]^{1/2} |\\phi (x) \\rangle = -i \\hbar \\frac{d}{dx} | \\phi (x) \\rangle$$\n",
    "\n",
    "de forma que a dependência no espaço que vai estar relacionada na solução ao fator $\\exp[\\frac{-iEx}{\\hbar}]$ vai sempre se cancelar quando construirmos quantidades de relvância física ($|\\phi|^2$) logo todas as probabilidades e valres esperados são constantes neessa grandeza\n",
    "\n"
   ]
  },
  {
   "cell_type": "code",
   "execution_count": null,
   "id": "6390e9f5-b075-443b-96d8-6637f773d264",
   "metadata": {},
   "outputs": [],
   "source": [
    "for n in range (1,N):\n",
    "    t[n] = t[n-1] + step\n",
    "    Vt[n] = -(2/t[n-1]) + (Am*(Am+1)/(t[n-1]*t[n-1]))\n",
    "    phi[n] = (2*phi[n-1]+(Vt[n-1] - E)*phi[n-1]*step*step - (1-step/t[n-1])*phi[n-2])/(1+step/t[n-1])"
   ]
  },
  {
   "cell_type": "markdown",
   "id": "a23ecc03-8f14-45c4-b2ea-0c29f6c8f5b6",
   "metadata": {},
   "source": [
    "Plotando agora para diferentes condições através da biblioteca matplotlib, podemos observar os seguintes resultados á se comparar com resultados de medições diretas de tempos de tunelamento, como prometemos no final da sessão anterior:"
   ]
  },
  {
   "cell_type": "code",
   "execution_count": null,
   "id": "1d0424ea-44e1-4ac3-b69e-c86ba1d4bd83",
   "metadata": {},
   "outputs": [],
   "source": [
    "plt.plot(t,phi)\n",
    "plt.title(\"Analitycal tunneling time\",fontsize = 16)\n",
    "plt.xlabel(\"$t$\", fontsize = 12)\n",
    "plt.ylabel(\"$| \\phi(t) |^2$\", fontsize = 12)\n",
    "plt.show()"
   ]
  },
  {
   "cell_type": "markdown",
   "id": "831d9052-8b8e-407e-9139-e9c80af43c2a",
   "metadata": {},
   "source": [
    "### 7. Desenvolvimento analítico para solução da equação de Schroedinger espaço condicional"
   ]
  },
  {
   "cell_type": "markdown",
   "id": "4a6211c0-f562-4e41-9596-baf5c01d81c0",
   "metadata": {},
   "source": [
    "Nossa inteção agora se volta para propor uma solução analítica para a equação (5.6). Esse problema já foi analisado de diferentes formas, e mostrou-se que para problema de uma partícula livre, existe uma forma fechada para sua solução [ref. sessão 2.4](https://repositorio.ufpe.br/bitstream/123456789/29706/1/DISSERTA%C3%87%C3%83O%20Ricardo%20Alexandre%20dos%20Santos%20Ximenes%20Filho.pdf). Agora, vamos mostrar que para uma vasta gama de sistemas físicos,\n",
    "os quais estão sob ação de um potencial independente do tempo, é possível usar uma técnica similar para obter uma solução geral. Relembrando que: \n"
   ]
  },
  {
   "cell_type": "markdown",
   "id": "e09dd17c-c745-4949-8bea-d9645902a69e",
   "metadata": {},
   "source": [
    "$$\\sqrt{2m} \\hat{\\sigma_z}  [i \\hbar \\frac{\\partial}{\\partial t} - V(T,x)]^{1/2} \\phi (t|x)  = -i \\hbar \\frac{\\partial}{\\partial x}  \\phi (t|x) $$"
   ]
  },
  {
   "cell_type": "markdown",
   "id": "a5b1d5a5-434f-4c1d-989e-31dd204b6a8c",
   "metadata": {},
   "source": [
    "De maneira análoga a referência para solução da partícula livre, podemos usar uma separação de variáveis $\\phi(t|x) = e^{-i\\epsilon t/ \\hbar} \\phi_\\epsilon (x)$,  e pelo mesmo argumento da expansão em série vemos que"
   ]
  },
  {
   "cell_type": "markdown",
   "id": "e3da7df7-39bb-46fb-97ad-85f7e6b67516",
   "metadata": {},
   "source": [
    "$$\\hat{\\sigma_z} \\sqrt{2m [\\epsilon - V(x)]} \\phi_\\epsilon (x) = -i \\hbar \\frac{d}{dx} \\phi_\\epsilon (x) \\tag{7.1}$$"
   ]
  },
  {
   "cell_type": "markdown",
   "id": "e62df198-36ed-4330-a9b9-3724efd2f4a9",
   "metadata": {},
   "source": [
    "Esta é uma equação diferencial de primeira ordem cuja solução é dada por "
   ]
  },
  {
   "cell_type": "markdown",
   "id": "c6898b41-b111-480f-9734-23601d2d6c23",
   "metadata": {},
   "source": [
    "$$\\phi_\\epsilon (x) = \\frac{1}{\\sqrt{2 \\pi \\hbar}} e^{(i/\\hbar)\\hat{\\sigma_z} \\int_{0}^{x} \\sqrt{2m [\\epsilon - V(x)]} dx^{\\prime}} \\tag{7.2}$$"
   ]
  },
  {
   "cell_type": "markdown",
   "id": "5789fc18-6cd5-4941-acda-5944ec7a7c9e",
   "metadata": {},
   "source": [
    "Portanto, como (7.2) ainda é uma equação linear, podemos escrever a solução geral de forma que"
   ]
  },
  {
   "cell_type": "markdown",
   "id": "4beb5962-53dc-4b6c-9a11-e80bf73a9fe8",
   "metadata": {},
   "source": [
    "$$\\phi (t|x) = \\frac{1}{\\sqrt{2 \\pi \\hbar}} \\int d\\epsilon C_\\epsilon  e^{(i/\\hbar)\\hat{\\sigma_z} \\int_{0}^{x} \\sqrt{2m [\\epsilon - V(x)]} dx^{\\prime}-i\\epsilon t /\\hbar}  \\tag{7.3}$$"
   ]
  },
  {
   "cell_type": "markdown",
   "id": "a03736e4-f835-4f70-a443-c06c7ef4e79b",
   "metadata": {},
   "source": [
    "Ou, em termos do momento clássico $P(\\epsilon, x) = \\pm \\sqrt{2m\\epsilon} $"
   ]
  },
  {
   "cell_type": "markdown",
   "id": "046c630a-bb77-431a-b514-6a0af922ccf2",
   "metadata": {},
   "source": [
    "$$ \\phi (t|x) = \\frac{1}{\\sqrt{2 \\pi \\hbar}} \\int  d\\epsilon C_\\epsilon e^{(i/\\hbar)  \\int_{0}^{x} P(\\epsilon; x^{\\prime}) dx^{\\prime}-i\\epsilon t /\\hbar} \\tag{7.4}$$"
   ]
  },
  {
   "cell_type": "markdown",
   "id": "15300d98-c711-41af-93f5-89499266b308",
   "metadata": {},
   "source": [
    "No intuito de resolver então analíticamente para qualquer potencial $V(x)$ basta realizar a integração no argumento da exponencial para obter a solução geral do problema. À primeira vista, essa simplicidade pode\n",
    "parecer estranha, afinal, para a equação de Schrödinger não temos uma solução com formato único para todo $V(x)$. Entretanto, este resultado é de certa forma esperado: primeiramente, analisando a Eq. (5.6), vemos que o potencial $V(x,t) = V(x)$ que escolhemos só depende do parâmetro condicional dessa equação, ou seja, da posição $x$. Dessa forma, se desejamos obter um resultado equivalente na equação de Schrödinger devemos escolher um potencial $V(x,t)$ que só dependa do parametro condicional t dessa equação, assim vamos encontrar  o mesmo resultado na construção simétrica da mecânica quântica."
   ]
  },
  {
   "cell_type": "markdown",
   "id": "2bba761e-f5ab-405b-87df-ed34747b889f",
   "metadata": {},
   "source": [
    "Prosseguindo na solução, vamos considerar primeiramente o caso mais simples como sendo o de uma partícula livre, onde o potencial será então dado por $V(x) = 0$. Se  aplicarmos então essas condições a equação (7.3) e considerarmos apenas o ramo positivo da matriz de soluções $\\hat{\\sigma_z}$ vamos reduzir a mesma para"
   ]
  },
  {
   "cell_type": "markdown",
   "id": "0e05fe01-a8da-4c56-9ed9-475b0243d78e",
   "metadata": {},
   "source": [
    "$$\\phi (t|0) = \\frac{1}{\\sqrt{2 \\pi \\hbar}} \\int d\\epsilon C_\\epsilon  e^{(-i  \\epsilon  t/\\hbar)}  \\tag{7.5}  $$"
   ]
  },
  {
   "cell_type": "markdown",
   "id": "84846fa7-c378-4c71-a5a5-c925b31eb69c",
   "metadata": {},
   "source": [
    "Note aqui que agora vamos prosseguir de [forma muito semelhante](https://www.asc.ohio-state.edu/jayaprakash.1/631/freegauss.pdf) ao que é feito na construção tradicional da teoria quântica, com o objetivo agora de evoluir espacialmente através da transformada de fourier a função de onda espaço condicional da nossa teoria"
   ]
  },
  {
   "cell_type": "markdown",
   "id": "d92343be-39f9-47cb-bf1d-9086eeb53a9c",
   "metadata": {},
   "source": [
    "Tomando \n",
    "$$\\phi (t|0) = \\frac{1}{\\sqrt{2 \\pi \\hbar}} \\exp{\\left[\\frac{-(t-t_0)^2}{2 \\sigma^2} \\right]} \\exp{\\left[\\frac{i \\epsilon_0 t}{\\hbar} \\right]} \\tag{7.6}$$ "
   ]
  },
  {
   "cell_type": "markdown",
   "id": "6e111898-83df-46f5-a2cf-770a266c5857",
   "metadata": {},
   "source": [
    "Como condição inicial, onde perceba que setei uma gaussiana de desvio padrão $\\sigma$ em $x=0$, seguimos [aplicando a transformada de Fourier](https://www.wolframalpha.com/input/?i=Fourier+transform+calculator&assumption=%7B%22F%22%2C+%22FourierTransformCalculator%22%2C+%22transformfunction%22%7D+-%3E%22%281%2Fsqrt%282*pi*h%29+%29*+e%5E%28-%28t-T%29%5E2%2F%282*a%5E2%29%29*e%5E%28i*e*t%2Fh%29%22&assumption=%7B%22F%22%2C+%22FourierTransformCalculator%22%2C+%22variable1%22%7D+-%3E%22t%22&assumption=%7B%22F%22%2C+%22FourierTransformCalculator%22%2C+%22variable2%22%7D+-%3E%22w%22) já substituindo para a coordenada $\\epsilon$ de forma que \n",
    "\n",
    "$$\\phi(t|0) = \\int_{-\\infty}^{\\infty} \\frac{d \\epsilon}{\\sqrt{2 \\pi \\hbar}} \\psi(\\epsilon) e^{i \\epsilon t} \\tag{7.7} $$\n",
    "\n",
    "\n",
    "$$\\psi(\\epsilon) \\equiv C_\\epsilon =   \\int_{-\\infty}^{\\infty} \\frac{1}{\\sqrt{2 \\pi\\hbar} } \\left (  \\frac{1}{\\sqrt{2\\pi \\hbar}}  e^{-(t-t_0)^2/(2 \\sigma^2)}  e^{(i \\epsilon_0 t)/\\hbar} \\right )  e^{-i\\epsilon t} dt$$"
   ]
  },
  {
   "cell_type": "markdown",
   "id": "7c44ace4-ba94-4eae-8586-b2797866e34a",
   "metadata": {},
   "source": [
    "$$= \\frac{1}{ 2 \\pi \\hbar}   \\int_{-\\infty}^{\\infty} \\left (  e^{-(t-t_0)^2/(2 \\sigma^2)}  e^{(i \\epsilon_0 t)/\\hbar} \\right )  e^{-i \\epsilon t} dt$$"
   ]
  },
  {
   "cell_type": "markdown",
   "id": "be8fdf0c-31af-4d50-99f1-ab5b360ff4fa",
   "metadata": {},
   "source": [
    "$$ = \\frac{1}{ 2 \\pi \\hbar} \\frac{\\exp{\\left ( - \\frac{(\\epsilon_0 + \\hbar \\epsilon)\\left ( \\sigma^2(\\epsilon_0 + \\hbar \\epsilon)-2i \\hbar t_0 \\right ) }{2 \\hbar^2} \\right )}}{\\sqrt{\\frac{1}{\\sigma^2}}}$$"
   ]
  },
  {
   "cell_type": "markdown",
   "id": "75b7930c-5df4-448c-b8dc-78c7dde2ae2e",
   "metadata": {},
   "source": [
    "$$=  \\frac{\\sigma^2}{ 2 \\pi \\hbar} \\exp{\\left ( - \\frac{(\\epsilon_0 + \\hbar \\epsilon)\\left ( \\sigma^2(\\epsilon_0 + \\hbar \\epsilon)-2i \\hbar t_0 \\right ) }{2 \\hbar^2} \\right )} \\tag{7.8}$$"
   ]
  },
  {
   "cell_type": "markdown",
   "id": "dc2c0050-b25b-4c08-95ad-f5d6c5405b6c",
   "metadata": {},
   "source": [
    "O que isso nos diz é que a função de onda temporal da gaussiana é uma superposição de diferentes energias, com a probabilidade de achar essas energias entre $\\epsilon_1$ e $\\epsilon_1 + d \\epsilon$ sendo proporcional a $ \\exp{\\left ( - \\frac{(\\epsilon_0 + \\hbar \\epsilon)\\left ( \\sigma^2(\\epsilon_0 + \\hbar \\epsilon)-2i \\hbar t_0 \\right ) }{2 \\hbar^2} \\right )} d\\epsilon$. A nível de recordação, vale relembrar o desenvolvimento desse problema dentro do escopo da teoria tradicional, procedendo da mesma forma e aplicando uma transformada de fourier numa gaussiana e obtendo outra gaussiana. Perceba aqui que os resultados obtidos são, assim como propostos, simétricos e  equivalentes.  Vamos pontuar também que a nossa função de onda inicial (7.4) que representa a solução encontrada para a equação de Schroedinger espaço condicional representa uma superposição de diferentes ondas planas associadas a diferentes coeficientes (que usualmente nos referimos como amplitudes)."
   ]
  },
  {
   "cell_type": "markdown",
   "id": "1db97c60-5d10-4b7c-a6d9-4490e35101ee",
   "metadata": {},
   "source": [
    "Agora, finalmente de posse dos coeficientes $C_\\epsilon$ podemos substituir de volta os resultados em (7.5) e obter o resultado da função de onda espaço-condicional dada uma condição de contorno espaço-inicial gaussiana.\n",
    "\n",
    "Como também temos o resultado geral para $\\phi(t|x)$ no caso da partícula livre, podemos substituir em (7.4) o valor encontrado para $C_\\epsilon$ e entender como a função de onda irá se propagar em um instante de tempo t, dado que iremos observar ela em um espaço conhecido x."
   ]
  },
  {
   "cell_type": "markdown",
   "id": "4c00be94-0107-4f60-81de-f8530d581377",
   "metadata": {},
   "source": [
    "- [Resultado na condição inicial](https://www.wolframalpha.com/input/?i=integrate+&assumption=%7B%22F%22%2C+%22Integral%22%2C+%22variable%22%7D+-%3E%22%CE%B5%22&assumption=%7B%22C%22%2C+%22integrate%22%7D+-%3E+%7B%22Calculator%22%7D&assumption=%7B%22F%22%2C+%22Integral%22%2C+%22integrand%22%7D+-%3E%22e%5E%28-%28O%2Bh*%CE%B5%29%28a%5E2%28O%2B+h*%CE%B5%29-2*i*h*T%29%2F%282*h%5E2%29%29*e%5E%28-i*%CE%B5*t%2Fh%29%22)"
   ]
  },
  {
   "cell_type": "markdown",
   "id": "30dc9e80-4513-4331-9e80-964d6c47d443",
   "metadata": {},
   "source": [
    "  $$\\phi (t|0) = \\frac{1}{\\sqrt{2 \\pi \\hbar}} \\int d\\epsilon \\frac{\\sigma^2}{ 2 \\pi \\hbar} \\exp{\\left ( - \\frac{(\\epsilon_0 + \\hbar \\epsilon)\\left ( \\sigma^2(\\epsilon_0 + \\hbar \\epsilon)-2i \\hbar t_0 \\right ) }{2 \\hbar^2} \\right )}  e^{(-i  \\epsilon  t/\\hbar)}$$"
   ]
  },
  {
   "cell_type": "markdown",
   "id": "64aa2d34-ca9a-429a-bb3a-00bcefe8354d",
   "metadata": {},
   "source": [
    "$$= \\frac{\\sigma^2}{(2 \\hbar \\pi )^{3/2}} \\int d\\epsilon \\exp{\\left ( - \\frac{(\\epsilon_0 + \\hbar \\epsilon)\\left ( \\sigma^2(\\epsilon_0 + \\hbar \\epsilon)-2i \\hbar t_0 \\right ) }{2 \\hbar^2} \\right )}  e^{(-i  \\epsilon  t/\\hbar)} $$"
   ]
  },
  {
   "cell_type": "markdown",
   "id": "5883b736-83a2-4081-8403-0ae68fc5a9fd",
   "metadata": {},
   "source": [
    "\n",
    "$$= \\frac{\\sigma^2}{(2 \\hbar \\pi )^{3/2}} \\frac{\\sqrt{\\pi} e^{\\frac{-2 h t\n",
    "   {\\epsilon_0}+\\frac{\\left(-t+i h^2\n",
    "   \\text{t0}\\right)^2}{\\sigma ^2}}{ 2 h^4}}\n",
    "   \\text{erf}\\left(\\frac{-t+h \\left(\\sigma ^2 (h\n",
    "   \\epsilon +{\\epsilon_0})-i h\n",
    "   {t_0}\\right)}{\\sqrt{2} h^2 \\sigma\n",
    "   }\\right)}{\\sqrt{2}\\sigma }\\tag{7.9}$$"
   ]
  },
  {
   "cell_type": "markdown",
   "id": "b1d2d76b-2815-4d4c-b5d8-0a3125b48d2e",
   "metadata": {},
   "source": [
    "onde $\\text{erf}$ representa a [função erro da gaussiana](https://en.wikipedia.org/wiki/Error_function). Substituindo os limites de integração de menos infinito(?) até mais infinito, [vamos obter](https://www.integral-calculator.com/#expr=e%5E%28-%28O%2Bh%2A%CE%B5%29%28a%5E2%28O%2B%20h%2A%CE%B5%29-2%2Ai%2Ah%2AT%29%2F%282%2Ah%5E2%29%29%2Ae%5E%28-i%2A%CE%B5%2At%2Fh%29&intvar=epsilon&lbound=minf&ubound=inf)"
   ]
  },
  {
   "cell_type": "markdown",
   "id": "045f0307-1ef1-4c78-b01a-421c94303011",
   "metadata": {},
   "source": [
    "$$ \\phi (t|0) = \\frac{\\sigma^2}{(2 \\hbar \\pi )^{3/2}} \\left[ \\dfrac{\\sqrt{2}\\sqrt{{\\pi}}\\mathrm{i}\\mathrm{e}^{-\\frac{t^2}{2\\sigma^2 \\hbar^2}+\\frac{t_0 t}{\\sigma^2\\hbar}-\\frac{t_0^2}{2\\sigma^2}}\\sin\\left(\\frac{\\epsilon_0 t}{\\hbar^2}\\right)}{\\sigma}+\\dfrac{\\sqrt{2}\\sqrt{{\\pi}}\\mathrm{e}^{-\\frac{t^2}{2\\sigma^2 \\hbar^2}+\\frac{t_0 t}{\\sigma^2\\hbar}-\\frac{t_0^2}{2\\sigma^2}}\\cos\\left(\\frac{\\epsilon_0 t}{\\hbar^2}\\right)}{\\sigma} \\right]$$"
   ]
  },
  {
   "cell_type": "markdown",
   "id": "8d6878c9-2e02-4ac4-8825-d67cafad4516",
   "metadata": {},
   "source": [
    "$$  = \\frac{\\sigma}{(2 \\hbar \\pi )^{3/2}} \\sqrt{2\\pi} \\mathrm{e}^{-\\frac{t^2}{2 \\sigma^2 \\hbar^2}+\\frac{t_0 t}{\\sigma^2 \\hbar}-\\frac{t_0^2}{2\\sigma^2}}\\left(\\mathrm{i}\\sin\\left(\\frac{\\epsilon_0 t}{\\hbar^2}\\right)+\\cos\\left(\\frac{\\epsilon_0 t}{\\hbar^2}\\right)\\right) \\tag{7.10}$$"
   ]
  },
  {
   "cell_type": "markdown",
   "id": "c41e830b-c184-498e-bd56-2e961f1c746c",
   "metadata": {},
   "source": [
    "Para auxiliar na visualização do sistema, segue o plot dessa função de onda em x = 0: "
   ]
  },
  {
   "attachments": {
    "24c9e418-0c13-4c29-8c86-2df435359490.png": {
     "image/png": "[encoded data removed]"
    }
   },
   "cell_type": "markdown",
   "id": "0e210ea7-694f-47ef-98f8-5f6146185d0a",
   "metadata": {},
   "source": [
    "![image.png](attachment:24c9e418-0c13-4c29-8c86-2df435359490.png)"
   ]
  },
  {
   "cell_type": "markdown",
   "id": "e5a3ab8d-205a-45d4-b27f-ab5f90d62715",
   "metadata": {},
   "source": [
    "[Com respectiva densidade de probabilidade](https://www.wolframalpha.com/input/?i=%7C%28sqrt%282*pi%29*e%5E%28-t%5E2%2F%282*a%5E2*h%5E2%29%2B%28T*t%29%2F%28a%5E2*h%29-T%5E2%2F%282*a%5E2%29%29*%28i*sin%28%28O*t%29%2Fh%5E2%29%2Bcos%28%28O*t%29%2Fh%5E2%29%29%29%2Fa%7C%5E2)"
   ]
  },
  {
   "cell_type": "markdown",
   "id": "6f999c79-4768-4f49-bd8e-95be80163599",
   "metadata": {},
   "source": [
    "$$|\\phi(t|0)|^2 = \\frac{\\sigma^2}{(2 \\hbar \\pi )^{3}} \\dfrac{2{\\pi}\\mathrm{e}^{2\\mathcal{Re}\\left(-\\frac{t^2}{2\\sigma^2\\hbar^2}+\\frac{t_0t}{\\sigma^2\\hbar}-\\frac{t_0^2}{2\\sigma^2}\\right)}\\left|\\mathrm{i}\\sin\\left(\\frac{\\epsilon_0 t}{\\hbar^2}\\right)+\\cos\\left(\\frac{\\epsilon_0 t}{\\hbar^2}\\right)\\right|^2}{\\sigma^2} = \\frac{2{\\pi}\\mathrm{e}^{2\\mathcal{Re}\\left(-\\frac{t^2}{2\\sigma^2\\hbar^2}+\\frac{t_0t}{\\sigma^2\\hbar}-\\frac{t_0^2}{2\\sigma^2}\\right)}\\left|\\mathrm{i}\\sin\\left(\\frac{\\epsilon_0 t}{\\hbar^2}\\right)+\\cos\\left(\\frac{\\epsilon_0 t}{\\hbar^2}\\right)\\right|^2}{(2 \\hbar \\pi )^{3}} \\tag{7.11}$$"
   ]
  },
  {
   "cell_type": "markdown",
   "id": "9bbdaf05-c70a-4991-84e1-b315e8627829",
   "metadata": {},
   "source": [
    "Observe que até aqui, o [resultado](https://www.wolframalpha.com/input/?i=plot+%7Ce%5E%28-t%5E2%2B+t%29*%28cos%28t%29+%2B+i*sen+%28t%29%29%7C%5E2+PlottingRange%7B%7B-5%2C5%7D%2C%7B0%2C1.7%7D%7D) segue coerente visto que nossa expressão continua fazendo juz a gaussiana da condição inicial:"
   ]
  },
  {
   "attachments": {
    "2a1ea7cf-e15f-4cad-9599-56e79cd6fac9.png": {
     "image/png": "[encoded data removed]"
    }
   },
   "cell_type": "markdown",
   "id": "0cef02d7-7110-4426-b569-ee76caf80209",
   "metadata": {},
   "source": [
    "![image.png](attachment:2a1ea7cf-e15f-4cad-9599-56e79cd6fac9.png)"
   ]
  },
  {
   "cell_type": "markdown",
   "id": "b0e9e910-bac0-4fa4-8af9-1c49bc493827",
   "metadata": {},
   "source": [
    "- [Resultado espaço evoluído](https://www.wolframalpha.com/input/?i=integrate+&assumption=%7B%22F%22%2C+%22Integral%22%2C+%22variable%22%7D+-%3E%22%CE%B5%22&assumption=%7B%22C%22%2C+%22integrate%22%7D+-%3E+%7B%22Calculator%22%7D&assumption=%7B%22F%22%2C+%22Integral%22%2C+%22integrand%22%7D+-%3E%22e%5E%28-%28O%2Bh*%CE%B5%29%28a%5E2%28O%2B+h*%CE%B5%29-2*i*h*T%29%2F%282*h%5E2%29%29*e%5E%28%28i%2Fh%29*%28sqrt%282*m*%CE%B5%29*x%29-i*%CE%B5*t%2Fh%29%22)"
   ]
  },
  {
   "cell_type": "markdown",
   "id": "eac1b823-21e4-4952-b3cc-101d08f1ecb1",
   "metadata": {},
   "source": [
    "$$ \\phi (t|x) = \\frac{1}{\\sqrt{2 \\pi \\hbar}} \\int d\\epsilon \\frac{\\sigma^2}{ 2 \\pi \\hbar} \\exp{\\left ( - \\frac{(\\epsilon_0 + \\hbar \\epsilon)\\left ( \\sigma^2(\\epsilon_0 + \\hbar \\epsilon)-2i \\hbar t_0 \\right ) }{2 \\hbar^2} \\right )}  e^{(i/\\hbar)  \\sqrt{2m\\epsilon} x-i\\epsilon t /\\hbar }  $$"
   ]
  },
  {
   "cell_type": "markdown",
   "id": "eecde495-c622-4f69-a4ae-dc325d200484",
   "metadata": {},
   "source": [
    "$$=\\frac{\\sigma^4}{(2 \\hbar \\pi )^{3/2}} \\int d\\epsilon \\exp{\\left ( - \\frac{(\\epsilon_0 + \\hbar \\epsilon)\\left ( \\sigma^2(\\epsilon_0 + \\hbar \\epsilon)-2i \\hbar t_0 \\right ) }{2 \\hbar^2} \\right )}  e^{(i/\\hbar)  \\sqrt{2m\\epsilon} x-i\\epsilon t /\\hbar}$$"
   ]
  },
  {
   "cell_type": "markdown",
   "id": "c7aec66a-ad8a-4042-b774-c6467d7945d3",
   "metadata": {},
   "source": [
    "$$ =\\text{integral não tem solução analítica} \\blacksquare $$ \n",
    "$$\\text{(note que ela não divergiu, apenas não tem solução analítica. Integrando numericamente para todas as constantes = 1 obtemos para a condição inicial: 1.390521824852123 + 0.2928372699906291 i)}  $$"
   ]
  },
  {
   "cell_type": "markdown",
   "id": "f0d249f4-d6c5-4dec-b391-74ff09684544",
   "metadata": {},
   "source": [
    "No intuito de eliminar a raíz do expoente que nos impossibilita essa integração, podemos então utilizar da construção de $\\epsilon$ que como $P = \\pm \\sqrt{2 m \\epsilon}$, isto é, $ \\epsilon_p = P^2/2m $. Efetuando essa substituição vamos obter que: "
   ]
  },
  {
   "cell_type": "markdown",
   "id": "9cc8d222-00dc-4768-9334-f55881463e27",
   "metadata": {},
   "source": [
    "$$\\epsilon_p = \\frac{P^2}{2m} \\Rightarrow d\\epsilon = \\frac{P}{m} dP \\tag{7.12}$$"
   ]
  },
  {
   "cell_type": "markdown",
   "id": "c4ea9077-984b-4698-ac85-34a48485f7dc",
   "metadata": {},
   "source": [
    "Então, procedendo com a integração de 0 até $\\infty$ (ao substituir o $P^2$ do expoente de $C_P$"
   ]
  },
  {
   "cell_type": "markdown",
   "id": "89d2f8f2-a115-421d-a0d5-2ebc010ed5ab",
   "metadata": {},
   "source": [
    "$$ \\phi (t|x) = \\frac{1}{\\sqrt{2 \\pi \\hbar}} \\int  dP \\frac{P }{ m} \\frac{\\sigma^2}{ 2 \\pi \\hbar} \\exp{\\left ( - \\frac{(P_0 + \\frac{\\hbar P^2}{2 m})\\left ( \\sigma^2(P_0 + \\frac{\\hbar P^2}{2 m})-2i \\hbar t_0 \\right ) }{2 \\hbar^2} \\right )}  e^{(i/\\hbar) P x - i P^2 t /2 m \\hbar }  $$"
   ]
  },
  {
   "cell_type": "markdown",
   "id": "ad7625ae-06ad-42b2-a0e8-6fb8a867e789",
   "metadata": {},
   "source": [
    " $$\\phi (t|x) = \\frac{\\sigma^2}{ (2 \\pi \\hbar)^{3/2} m} \\int  dP  P\\exp{\\left ( - \\frac{(P_0 + \\frac{\\hbar P^2}{2 m})\\left ( \\sigma^2(P_0 + \\frac{\\hbar P^2}{2 m})-2i \\hbar t_0 \\right ) }{2 \\hbar^2} \\right )}  e^{(i/\\hbar) P x - i P^2 t /2 m\\hbar }  $$"
   ]
  },
  {
   "cell_type": "markdown",
   "id": "e02658b5-765a-4d38-bfc6-28563a15dae9",
   "metadata": {},
   "source": [
    "*Observação: continuarei de forma analítica aqui, todavia fui capaz de resolver/plotar computacionalmente a integral acima; posso então trabalhar em gráficos complementares analiticos/computacionais a partir disso*\n",
    "\n"
   ]
  },
  {
   "cell_type": "markdown",
   "id": "ed6d5a87-96b6-4081-af3e-9df33306defb",
   "metadata": {},
   "source": [
    "Setando o instante de tempo inicial $t_0$ como zero da nossa condição inicial gaussiana temporal, podemos simplificar nossa integral sem perder nenhum tipo de generalidade ou aplicação do problema, podendo então escrever a expressão como "
   ]
  },
  {
   "cell_type": "markdown",
   "id": "662a1cb5-17d9-4d39-b4b3-5bc571691dd5",
   "metadata": {
    "tags": []
   },
   "source": [
    "$$ \\phi (t|x) = \\frac{\\sigma^2}{ (2 \\pi \\hbar)^{3/2} m} \\int  dP  P\\exp{\\left ( - \\frac{  \\sigma^2(P_0 + \\frac{\\hbar P^2}{2 m})^2  }{ 2 \\hbar^2} \\right )}  e^{(i/\\hbar) P x - i P^2 t /2 m\\hbar }\\tag{7.13}$$"
   ]
  },
  {
   "cell_type": "markdown",
   "id": "555232e0-3026-4624-b77a-b65760545c7e",
   "metadata": {},
   "source": [
    "Considerando a energia inicial como sendo $\\epsilon_0 = 0$, isso nos leva de $\\epsilon_0 = P_0^2/2m$ em $P_0 = 0$, que simplifica nossa integral mais uma vez em:"
   ]
  },
  {
   "cell_type": "markdown",
   "id": "13a1f6ae-6a78-4201-b475-65b8365d75a3",
   "metadata": {},
   "source": [
    "$$\\phi (t|x) = \\frac{\\sigma^2}{ (2 \\pi \\hbar)^{3/2} m} \\int  dP  P\\exp{\\left ( - \\frac{\\sigma^2 \\hbar^4 P^4}{ m} \\right )}e^{ - i P^2 t /2 m\\hbar }  e^{(i/\\hbar) P x}  \\tag{7.14}$$"
   ]
  },
  {
   "cell_type": "markdown",
   "id": "6e410622-6eb2-44aa-b843-c535f899df5e",
   "metadata": {},
   "source": [
    "<div class=\"alert-warning\">\n",
    "$$\\textrm{erro: expoente com fator de 2 faltando}$$\n",
    "</div>\n",
    "Podemos reescrever o argumento das exponenciais que vão com $P^2$ da seguinte maneira:"
   ]
  },
  {
   "cell_type": "markdown",
   "id": "6e749ef6-4e3f-4496-8307-f6eca8a0922f",
   "metadata": {},
   "source": [
    "$$ \\left ( - \\frac{\\sigma^2 P^2}{ 2m\\hbar} \\right ) - \\frac{i P^2 t }{2 m} = -\\frac{b P^2}{2} $$\n",
    "\n",
    "tomando $ b = \\frac{1}{m \\hbar} \\left ( \\sigma^2 + i t \\right )$, podemos simplificar ambas as exponenciais para\n"
   ]
  },
  {
   "cell_type": "markdown",
   "id": "2ecda356-9482-4a92-a016-89f6b5712546",
   "metadata": {},
   "source": [
    "$$\\phi (t|x) = \\frac{\\sigma^2}{ (2 \\pi \\hbar)^{3/2} m} \\int  dP  P e^{-\\frac{b P^2}{2}}  e^{(i/\\hbar) P x} $$"
   ]
  },
  {
   "cell_type": "markdown",
   "id": "74d01621-32c9-41d3-b2c7-baa261cd5f67",
   "metadata": {},
   "source": [
    "cujo resultado da integral acima sabemos de [integrais tabeladas](https://www.wolframalpha.com/input/?i=integrate+exp%28-b*P%5E2%2F2%29*exp%28i*P*x%29*P+dP+from+0+to+%2B+inf) como sendo:"
   ]
  },
  {
   "cell_type": "markdown",
   "id": "8a6c5fac-fe79-4a1b-a8d3-300c84985176",
   "metadata": {},
   "source": [
    "$$ I = \\frac{1}{b} - \\frac{\\sqrt{\\frac{\\pi}{2}} x e^{-x^2/(2 b^2)} \\left( \\text{erfi} \\left( \\frac{x}{\\sqrt{2 b}} \\right) - i\\right) }{b^{3/2}}$$"
   ]
  },
  {
   "cell_type": "markdown",
   "id": "5da0835e-eab4-488f-9095-791c2bbf82af",
   "metadata": {},
   "source": [
    "Fazendo então com que o resultado da função de onda espaço evoluída seja"
   ]
  },
  {
   "cell_type": "markdown",
   "id": "14eed186-be7b-4b19-b9c0-bf358f3b02ac",
   "metadata": {},
   "source": [
    "$$\\phi (t|x) =  \\frac{\\sigma^2}{ (2 \\pi \\hbar)^{3/2} m}  \\left[ \\frac{m \\hbar}{\\sigma^2 + it} - \\frac{\\sqrt{\\frac{\\pi}{2}} (m \\hbar)^{3/2} x e^{-\\frac{x^2 (m\\hbar)^2}{(2 (\\sigma^2+it)^2)}} \\left( \\text{erfi} \\left( x \\sqrt{\\frac{\\sigma^2 + it }{2 m \\hbar}} \\right) - i\\right) }{(\\sigma^2 + it)^{3/2}} \\right]  \\tag{7.14-1}$$"
   ]
  },
  {
   "cell_type": "markdown",
   "id": "0395ff43-c2b6-4bb3-967d-8951ade17543",
   "metadata": {},
   "source": [
    "(Tenho plots para mostrar tanto da função de onda quanto da densidade de probabilidade - posso mostrar 1 a 1, a animação ainda não tive tempo de implementar para vocês poderem visualizar a evolução)"
   ]
  },
  {
   "cell_type": "markdown",
   "id": "aef8819c-bd23-4354-853f-ea445cb13b35",
   "metadata": {},
   "source": [
    "\n",
    "Com respectiva [densidade de probabilidade :](https://www.wolframalpha.com/input/?i=full+simplify+%7C%28m*h%29%2F%28a%5E2+%2B+i*t%29+-+%28b*x*e%5E%28%28-x%29%5E2%2F%28a%5E2+%2B+i*t%29%29*+erfi%28x*sqrt%28%28a%5E2+%2B+i*t%29%29%29-i%29%2F%28%28a%5E2+%2B+i*t%29%5E%283%2F2%29%29%7C%5E2)"
   ]
  },
  {
   "cell_type": "markdown",
   "id": "a6b24d96-b976-4d43-9768-d47a6534c84d",
   "metadata": {},
   "source": [
    "$$|\\phi(t|x)|^2 =  \\frac{\\sigma^4}{ (2 \\pi \\hbar)^{3}m^2 } \\left[ \\dfrac{\\left(bx\\mathrm{e}^\\frac{x^2}{\\mathrm{i}t+\\sigma^2}\\operatorname{erfi}\\left(x\\sqrt{\\mathrm{i}t+\\sigma^2}\\right)-hm\\sqrt{\\mathrm{i}t+\\sigma^2}-\\mathrm{i}\\right)^2}{\\left|\\mathrm{i}t+\\sigma^2\\right|^3} \\right]  \\tag{7.15}$$"
   ]
  },
  {
   "cell_type": "markdown",
   "id": "e6548b80-d89b-42f3-acc6-59a261df0d7d",
   "metadata": {},
   "source": [
    "Para efeito de visualização, segue um plot do formato geral da função de onda evoluída em x = 1, utilizando 1 para todas as constantes e evoluindo ela numericamente em t:"
   ]
  },
  {
   "attachments": {
    "6685cf0a-16d9-4d42-b987-898d8c553484.png": {
     "image/png": "[encoded data removed]"
    }
   },
   "cell_type": "markdown",
   "id": "8d1de59f-c18f-48e8-8fb6-bf7b34568dfb",
   "metadata": {},
   "source": [
    "![image.png](attachment:6685cf0a-16d9-4d42-b987-898d8c553484.png)"
   ]
  },
  {
   "cell_type": "markdown",
   "id": "4254ab14-e0f8-492f-80f5-8aa880309af8",
   "metadata": {},
   "source": [
    "segue também o plot da densidade de probabilidade na posição x = 1, "
   ]
  },
  {
   "attachments": {
    "04351fda-8cf5-4ed8-b4af-233abb32b0f2.png": {
     "image/png": "[encoded data removed]"
    }
   },
   "cell_type": "markdown",
   "id": "a3050886-0f30-4c2b-b94b-44c80e293f0a",
   "metadata": {},
   "source": [
    "![image.png](attachment:04351fda-8cf5-4ed8-b4af-233abb32b0f2.png)"
   ]
  },
  {
   "cell_type": "markdown",
   "id": "fac5e1a3-f9bc-4a6b-a4da-9b25324377b7",
   "metadata": {},
   "source": [
    "Note aqui que utilizamos embutido no resultado espacialmente evoluído a ideia de um propagador espacial para o sistema no intuito de obter $ \\phi (t|x)$. A nível de curiosidade, vou desenvolver de forma geral a ideia de um propagador no escopo da teoria espelhada, e obter um resultado coerente com o que podemos observar em (7.10): para $x_0 = 0$, o propagador se torna $e^{(i/\\hbar)\\sqrt{2m \\epsilon} x} $."
   ]
  },
  {
   "cell_type": "markdown",
   "id": "fc531470-b184-48b2-9e3d-7f603a28877d",
   "metadata": {},
   "source": [
    "<div class=\"alert-info\">\n",
    "$$\\textrm{Curiosidade: Desenvolvendo um propagador}$$\n",
    "</div>"
   ]
  },
  {
   "cell_type": "markdown",
   "id": "8f0767a4-a9e8-4769-ab34-94e7fef15a83",
   "metadata": {},
   "source": [
    "Perceba também que o termo da transformada $\\exp (i\\epsilon t)$,  está associado para cada coeficiente $C_\\epsilon$ com uma autofunção do nosso novo _Pamiltoniano_ com autovalor em forma de $E_\\epsilon = \\sqrt{2 m \\epsilon}/ \\hbar$. Logo, nós sabemos que $\\exp (i\\epsilon t)$ deve evoluir no espaço com uma dependência espacial dada por $e^{-iE_\\epsilon x /\\hbar}$, devido ao formato do nosso _Pamiltoniano_, como mostraremos à seguir "
   ]
  },
  {
   "cell_type": "markdown",
   "id": "73ce4edb-d1ef-4e09-bdcf-95135300a213",
   "metadata": {},
   "source": [
    "Na intenção de examinar como um estado irá evoluir espacialmente, vamos restabelecer a definição de um propagador em nossa nova teoria como sendo um operador linear escrito como $\\hat{U}(x,x_0)$, tal que "
   ]
  },
  {
   "cell_type": "markdown",
   "id": "910bc4a6-7553-440f-9eff-404699f96705",
   "metadata": {},
   "source": [
    "$$|\\phi(x) \\rangle = \\hat{U}(x,x_0) |\\phi(x_0) \\rangle \\tag{a.1}$$"
   ]
  },
  {
   "cell_type": "markdown",
   "id": "d7549e04-8e32-4100-a107-d56da1daef88",
   "metadata": {},
   "source": [
    "podemos também inferir a seguinte propriedade: "
   ]
  },
  {
   "cell_type": "markdown",
   "id": "81bea1a8-8def-496d-99bf-b1f3b898a387",
   "metadata": {},
   "source": [
    " $$\\hat{U}(x_0,x_0) = \\hat{I} \\tag{a.2}$$"
   ]
  },
  {
   "cell_type": "markdown",
   "id": "8d6e29e0-0051-4f4c-9a20-35bbfbd54b54",
   "metadata": {},
   "source": [
    "onde $\\hat{I}$ é o operador unidade (identidade) "
   ]
  },
  {
   "cell_type": "markdown",
   "id": "9473a98d-d490-4612-a3c3-c6a4343218ab",
   "metadata": {},
   "source": [
    "No propósito de avançar no que haviamos proposto anteriormente, precismos encontrar a forma analítica desse operador $\\hat{U}(x,x_0)$, para isso, vamos simplesmente substituí-lo (7.9) na relação do _Pamiltoniano_ de (4.14), isto é"
   ]
  },
  {
   "cell_type": "markdown",
   "id": "f8348a91-0645-4130-9c57-02511b3a6f07",
   "metadata": {},
   "source": [
    "$$ \\mathcal{\\hat{P}} \\left ( \\hat{U}(x,x_0)|\\phi(x_0) \\rangle  \\right ) = -i\\hbar \\frac{\\partial }{\\partial x} \\left ( \\hat{U}(x,x_0)|\\phi(x_0) \\rangle  \\right ) \\tag {a.3}$$"
   ]
  },
  {
   "cell_type": "markdown",
   "id": "89fa8c93-7ab5-431f-baa9-9c0b6da013a1",
   "metadata": {},
   "source": [
    "ou,"
   ]
  },
  {
   "cell_type": "markdown",
   "id": "33bcbd9e-9419-4d3b-b779-c3c680182561",
   "metadata": {},
   "source": [
    " $$\\frac{\\partial \\hat{U}(x,x_0)}{\\partial x} =  \\frac{i}{\\hbar} \\hat{P} \\hat{U}(x,x_0) \\tag{a.4}$$"
   ]
  },
  {
   "cell_type": "markdown",
   "id": "6e369d0f-fd6f-4b00-9e31-7cf78c0f01c7",
   "metadata": {},
   "source": [
    "Assumindo o _Pamiltoniano_ espaço independente podemos proceder de forma parecida a MQ tradicional e integrar facilmente essa equação diferencial de forma a obter que "
   ]
  },
  {
   "cell_type": "markdown",
   "id": "e3a58f6d-ef77-43bc-a624-ad5fbfed904e",
   "metadata": {},
   "source": [
    "$$\\boxed{\\hat{U}(x,x_0) = e^{i(x-x_0)\\hat{P}/\\hbar} \\longmapsto e^{i(x-x_0) \\sqrt{2m\\epsilon}/\\hbar}}  \\tag{a.5}$$"
   ]
  },
  {
   "cell_type": "markdown",
   "id": "411b6708-7eb4-4df7-9899-c92dfbb5b95d",
   "metadata": {},
   "source": [
    "A partir de agora, usaremos esse operador propagador de forma equivalente ao que fazemos para operar evoluções temporais na MQ tradicional, todavia, o faremos agora para evoluções espaciais no escopo da teoria espelhada."
   ]
  },
  {
   "cell_type": "markdown",
   "id": "653a65b2-56d6-467e-b0ae-c7903dceb84b",
   "metadata": {},
   "source": [
    "<div class=\"alert-info\">\n",
    "$$\\textrm{Fim}$$\n",
    "</div>"
   ]
  },
  {
   "cell_type": "markdown",
   "id": "14b551a0-9273-495e-90fa-ad3867566bed",
   "metadata": {},
   "source": [
    "Agora, seguindo em diante com o resultado encontrado, vamos verificar se o mesmo encontra-se tempo normalizado. Para isso, vamos analisar  "
   ]
  },
  {
   "cell_type": "markdown",
   "id": "52e42e99-c0f5-495e-b413-4872309255ed",
   "metadata": {},
   "source": [
    "$$ \\int_{-\\infty}^{\\infty} |\\phi(t|x)|^2 dt = 1 \\tag{7.16}$$"
   ]
  },
  {
   "cell_type": "markdown",
   "id": "89a0bd64-89e7-43be-9775-2bb318b5bf22",
   "metadata": {},
   "source": [
    "Como ainda não resolvemos a questão da integração para a função de onda espaço evoluída, vamos analisar o caso condicionla de $x = 0$ que já podemos normalizar no tempo. Prosseguindo com: "
   ]
  },
  {
   "cell_type": "markdown",
   "id": "79514a4a-c742-457a-a887-0a62d6cefb75",
   "metadata": {},
   "source": [
    "$$ \\int_{-\\infty}^{\\infty} |\\phi(t|0)|^2 dt = 1 \\tag{7.17}$$"
   ]
  },
  {
   "cell_type": "markdown",
   "id": "2e6ca2e0-611a-4ac8-8c30-1ec556de1e18",
   "metadata": {},
   "source": [
    "$$1 = \\int_{-\\infty}^{\\infty} \\frac{2{\\pi}\\mathrm{e}^{2\\mathcal{Re}\\left(-\\frac{t^2}{2\\sigma^2\\hbar^2}+\\frac{t_0t}{\\sigma^2\\hbar}-\\frac{t_0^2}{2\\sigma^2}\\right)}\\left|\\mathrm{i}\\sin\\left(\\frac{\\epsilon_0 t}{\\hbar^2}\\right)+\\cos\\left(\\frac{\\epsilon_0 t}{\\hbar^2}\\right)\\right|^2}{(2 \\hbar \\pi )^{3}} dt \\tag{7.18}$$"
   ]
  },
  {
   "cell_type": "markdown",
   "id": "bff2db5e-3657-42e8-8c47-ed39ddf01683",
   "metadata": {},
   "source": [
    "assumindo então $ \\sigma, \\hbar, \\epsilon_0, t, t_0$ como reais podemos escrever nossa integral para a forma:"
   ]
  },
  {
   "cell_type": "markdown",
   "id": "9268b068-b30c-4bf7-8ea3-6d5926498786",
   "metadata": {},
   "source": [
    "$$ \\frac{\\sigma^2}{(2 \\hbar \\pi )^{3}} \\int_{-\\infty}^{\\infty} \\dfrac{2{\\pi}\\mathrm{e}^{-\\frac{t^2}{\\sigma^2\\hbar^2}+\\frac{2t_0t}{\\sigma^2 \\hbar}-\\frac{t_0^2}{\\sigma^2}}}{\\sigma^2} dt \\tag{7.19}$$"
   ]
  },
  {
   "cell_type": "markdown",
   "id": "fdd3c4de-0db5-45ef-bc31-5e513d38c363",
   "metadata": {},
   "source": [
    "Contraindo os termos do expoente no formato de quadrado da soma, pode convenientemente nos ajudar a enchergar uma função de erro de gauss, isto é: "
   ]
  },
  {
   "cell_type": "markdown",
   "id": "9edae339-4e1c-419f-b59f-5ab79ef13ec0",
   "metadata": {},
   "source": [
    "$$  \\frac{\\sigma^2}{(2 \\hbar \\pi )^{3}} \\int_{-\\infty}^{\\infty} \\dfrac{2{\\pi}\\mathrm{e}^{-\\frac{\\left(t-t_0 \\hbar \\right)^2}{\\sigma^2 \\hbar^2}}}{\\sigma^2} dt \\Rightarrow \\frac{\\sigma^4}{(2 \\hbar \\pi )^{3}} \\dfrac{{\\pi}^\\frac{3}{2}\\hbar \\operatorname{erf}\\left(\\frac{t}{\\sigma \\hbar}-\\frac{t_0}{\\sigma}\\right)}{\\sigma} \\tag{7.20}$$"
   ]
  },
  {
   "cell_type": "markdown",
   "id": "d14174ca-73b6-4ad5-804a-c18841246ae5",
   "metadata": {},
   "source": [
    "Substituindo os limites de integração, podemos então facilmente ver que"
   ]
  },
  {
   "cell_type": "markdown",
   "id": "a2b9a036-531c-4356-8536-f9c067512d03",
   "metadata": {},
   "source": [
    "$$ \\int_{-\\infty}^{\\infty} |\\phi(t|0)|^2 dt = \\frac{\\sigma^2}{(2 \\hbar \\pi )^{3}} \\dfrac{2{\\pi}^\\frac{3}{2}\\hbar}{\\sigma} = \\frac{\\sigma}{4 \\hbar^2 \\pi^{3/2}} \\tag{7.21}$$"
   ]
  },
  {
   "cell_type": "markdown",
   "id": "c5780a46-872c-4a8b-b80a-f9789577fa48",
   "metadata": {},
   "source": [
    "Logo, a constante de normalização pode ser simplesmente expressada através de $4 \\hbar^2 \\pi^{3/2}/\\sigma$."
   ]
  },
  {
   "cell_type": "code",
   "execution_count": 20,
   "id": "c8faae53-ba9e-4061-822b-1835800cf1e4",
   "metadata": {},
   "outputs": [
    {
     "name": "stdout",
     "output_type": "stream",
     "text": [
      "e^i = (0.5403023058681398+0.8414709848078965j)\n",
      "1j\n"
     ]
    }
   ],
   "source": [
    "import cmath \n",
    "i = 0 + 1j\n",
    "print('e^i =', cmath.exp(i))\n",
    "print (i)"
   ]
  },
  {
   "cell_type": "code",
   "execution_count": null,
   "id": "df9a984e-dcd1-478d-8a4f-ebbbfab10f53",
   "metadata": {},
   "outputs": [],
   "source": [
    "def f(x): \n",
    "    return x**2\n",
    "\n",
    "print('f', x)"
   ]
  },
  {
   "cell_type": "code",
   "execution_count": 21,
   "id": "790af9c8-2d5c-4c2a-ac4f-35ab08ef79c7",
   "metadata": {},
   "outputs": [
    {
     "data": {
      "text/plain": [
       "(6.123233995736766e-17+1j)"
      ]
     },
     "execution_count": 21,
     "metadata": {},
     "output_type": "execute_result"
    }
   ],
   "source": [
    "(-1) ** 0.5"
   ]
  },
  {
   "cell_type": "code",
   "execution_count": 33,
   "id": "10d19b08-da77-44d1-a350-dfd8312718cb",
   "metadata": {},
   "outputs": [
    {
     "data": {
      "text/plain": [
       "Text(0.5, 0, '$t$')"
      ]
     },
     "execution_count": 33,
     "metadata": {},
     "output_type": "execute_result"
    },
    {
     "data": {
      "image/png": "[encoded data removed]",
      "text/plain": [
       "<Figure size 432x288 with 1 Axes>"
      ]
     },
     "metadata": {
      "needs_background": "light"
     },
     "output_type": "display_data"
    }
   ],
   "source": [
    "import quadpy\n",
    "import math as math\n",
    "from math import e\n",
    "from math import pi\n",
    "from math import sqrt\n",
    "import numpy as np\n",
    "from scipy import integrate\n",
    "import matplotlib.pyplot as plt\n",
    "import cmath\n",
    "from scipy.optimize import fmin\n",
    "\n",
    "#definindo unidade imaginária:\n",
    "i = 0 + 1j\n",
    "\n",
    "#criando a função para o plot\n",
    "def plot_results(sigma = 1, Xp = 1, m=1, P_0 = 1, hbar = 1):\n",
    "\n",
    "    #preparando a função que vai ser integrada para a integração \n",
    "    def f(x, t):\n",
    "        res = (sigma**2)/(2*pi*hbar)**(3/2)*x*e**(-(P_0 + hbar*(x**2)/(2*m))*(sigma**2)*(P_0 + hbar*(x**2)/(2*m))/(2*hbar**2))*cmath.exp((i/hbar)*x*Xp - i*(x**2)*t/(2*m*hbar))\n",
    "        return res\n",
    "    integral = np.vectorize(f)\n",
    "\n",
    "    #efetuando a integral \n",
    "    def F(t):\n",
    "        xmin = 0\n",
    "        xmax = 10\n",
    "        y,err = quadpy.quad(lambda x: integral(x,t), xmin, xmax)\n",
    "        return y\n",
    "    Fvec = np.vectorize(F)\n",
    "    \"\"\"\n",
    "    def piu(x):\n",
    "        return  fmin(Fvec, 0, args=(x))\n",
    "    #print('piu', x)\n",
    "    \"\"\"\n",
    "    return Fvec \n",
    "\n",
    "X0 = plot_results(1,0,1,1,1) \n",
    "X1 = plot_results(1,5,1,1,1) \n",
    "X2 = plot_results(1,10,1,1,1) \n",
    "X3 = plot_results(1,15,1,1,1) \n",
    "\n",
    "t = np.linspace(-5,40,200)\n",
    "plt.plot(t, abs(X0(t))**2, label='x=0')\n",
    "plt.plot(t, abs(X1(t))**2, label='x=5')\n",
    "plt.plot(t, abs(X2(t))**2, label='x=10')\n",
    "plt.plot(t, abs(X3(t))**2, label='x=15')\n",
    "plt.legend()\n",
    "plt.title('Numerical evolution of the probability density of Gaussian wave packet')\n",
    "plt.ylabel('$|\\phi(t|x)|^2$')\n",
    "plt.xlabel('$t$')    \n",
    "    \n",
    "    "
   ]
  },
  {
   "cell_type": "code",
   "execution_count": 49,
   "id": "8fb8af02-f44d-4478-9db9-9c36a2c44e14",
   "metadata": {
    "tags": []
   },
   "outputs": [
    {
     "data": {
      "text/plain": [
       "Text(0.5, 0, '$t$')"
      ]
     },
     "execution_count": 49,
     "metadata": {},
     "output_type": "execute_result"
    },
    {
     "data": {
      "image/png": "[encoded data removed]",
      "text/plain": [
       "<Figure size 432x288 with 1 Axes>"
      ]
     },
     "metadata": {
      "needs_background": "light"
     },
     "output_type": "display_data"
    }
   ],
   "source": [
    "from scipy.integrate import quad\n",
    "from math import exp, cos, sin, pi, sqrt\n",
    "import numpy as np\n",
    "import matplotlib.pyplot as plt\n",
    "\n",
    "#defina aqui as constantes: \n",
    "sigma = 1\n",
    "hbar = 1\n",
    "m = 1\n",
    "P_0 = 0\n",
    "i = 0 + 1j\n",
    "x = 8\n",
    "\n",
    "#preparando a função que vai ser integrada para a integração, dividida em real e imaginária\n",
    "#parte real: \n",
    "def re(p, t):\n",
    "   RE = (sigma**2)/(2*pi*hbar)**(3/2)*p*exp(-(P_0 + hbar*(p**2)/(2*m))*(sigma**2)*(P_0 + hbar*(p**2)/(2*m))/(2*hbar**2))*cos((1/hbar)*p*x - 1*(p**2)*t/(2*m*hbar))\n",
    "   return RE\n",
    "integral1 = np.vectorize(re)\n",
    "\n",
    "#parte imaginária\n",
    "def im(p, t): \n",
    "    IM = (sigma**2)/(2*pi*hbar)**(3/2)*p*exp(-(P_0 + hbar*(p**2)/(2*m))*(sigma**2)*(P_0 + hbar*(p**2)/(2*m))/(2*hbar**2))*sin((1/hbar)*p*x - 1*(p**2)*t/(2*m*hbar))\n",
    "    return IM\n",
    "integral2 = np.vectorize(im)\n",
    "\n",
    "\n",
    "#efetuando a integral em p e passando t para ser o argumento da função de onda \n",
    "def F(t):\n",
    "    min = 0\n",
    "    max = 10\n",
    "    y, err = quad(integral1, min, max, args=(t))\n",
    "    return y\n",
    "\n",
    "\n",
    "def M(t):\n",
    "    min = 0\n",
    "    max = 10\n",
    "    y, err = quad(integral2, min, max, args=(t))\n",
    "    return y\n",
    "\n",
    "def OP(t):\n",
    "    return abs(F(t) + M(t)*i)**2 \n",
    "OPvec = np.vectorize(OP)\n",
    "\n",
    "t = np.linspace(-0,20,200)\n",
    "plt.plot(t, OPvec(t))\n",
    "plt.title('Numerical evolution of the probability density of Gaussian wave packet')\n",
    "plt.ylabel('$|\\phi(t|x)|^2$')\n",
    "plt.xlabel('$t$')"
   ]
  },
  {
   "cell_type": "code",
   "execution_count": 3,
   "id": "c3a2e32b-a5fc-4305-b682-e950b65410b6",
   "metadata": {},
   "outputs": [
    {
     "name": "stdout",
     "output_type": "stream",
     "text": [
      "4\n",
      "0.21089492298047324\n"
     ]
    },
    {
     "data": {
      "text/plain": [
       "Text(0.5, 0, '$t$')"
      ]
     },
     "execution_count": 3,
     "metadata": {},
     "output_type": "execute_result"
    },
    {
     "data": {
      "image/png": "[encoded data removed]",
      "text/plain": [
       "<Figure size 432x288 with 1 Axes>"
      ]
     },
     "metadata": {
      "needs_background": "light"
     },
     "output_type": "display_data"
    }
   ],
   "source": [
    "from scipy.integrate import quad\n",
    "from math import exp, cos, sin, pi\n",
    "import numpy as np\n",
    "import matplotlib.pyplot as plt\n",
    "\n",
    "#defina aqui as constantes: \n",
    "sigma = 1\n",
    "hbar = 1\n",
    "m = 1\n",
    "P_0 = 0\n",
    "i = 0 + 1j\n",
    "n = 15\n",
    "irio = 100\n",
    "piu = np.zeros(irio)\n",
    "valor_x = np.zeros(n)\n",
    "maximum = np.zeros(n)\n",
    "tuntime = np.zeros(n)\n",
    "\n",
    "x = 5\n",
    "\n",
    "\n",
    "\n",
    "#preparando a função que vai ser integrada para a integração, dividida em real e imaginária\n",
    "#parte real: \n",
    "def re(p, t):\n",
    "    RE = (sigma**2)/(2*pi*hbar)**(3/2)*p*exp(-(P_0 + hbar*(p**2)/(2*m))*(sigma**2)*(P_0 + hbar*(p**2)/(2*m))/(2*hbar**2))*cos((1/hbar)*p*x - 1*(p**2)*t/(2*m*hbar))\n",
    "    return RE\n",
    "integral1 = np.vectorize(re)\n",
    "\n",
    "#parte imaginária\n",
    "def im(p, t): \n",
    "    IM = (sigma**2)/(2*pi*hbar)**(3/2)*p*exp(-(P_0 + hbar*(p**2)/(2*m))*(sigma**2)*(P_0 + hbar*(p**2)/(2*m))/(2*hbar**2))*sin((1/hbar)*p*x - 1*(p**2)*t/(2*m*hbar))\n",
    "    return IM\n",
    "integral2 = np.vectorize(im)\n",
    "\n",
    "\n",
    "#efetuando a integral em p e passando t para ser o argumento da função de onda \n",
    "def F(t):\n",
    "    min = 0\n",
    "    max = 20\n",
    "    y, err = quad(integral1, min, max, args=(t))\n",
    "    return y\n",
    "\n",
    "\n",
    "def M(t):\n",
    "    min = 0\n",
    "    max = 20\n",
    "    y, err = quad(integral2, min, max, args=(t))\n",
    "    return y\n",
    "\n",
    "def OP(t):\n",
    "    return abs(F(t) + M(t)*i)**2 \n",
    "OPvec = np.vectorize(OP)\n",
    "\n",
    "#integrando em t para obter a função de normalização\n",
    "def norm(t):\n",
    "    min = -20\n",
    "    max = 20\n",
    "    y, err = quad(OPvec, min, max)\n",
    "    return y\n",
    "\n",
    "\n",
    "#normalizando\n",
    "def graph(t):\n",
    "    return OP(t)/norm(t)\n",
    "graph_vec = np.vectorize(graph)\n",
    "   \n",
    "for k in range (irio):\n",
    "    piu[k] = graph(k) \n",
    "\n",
    "tuntime = np.argmax(piu)\n",
    "print(tuntime)\n",
    "maximum = np.amax(piu)  \n",
    "print(maximum)  \n",
    "\n",
    "\n",
    "#organizando o plot da função em questão\n",
    "t = np.linspace(-5,15,200)\n",
    "plt.scatter(t, graph_vec(t), s = 2)\n",
    "plt.ylabel('$|\\phi(t|x)|^2$')\n",
    "plt.xlabel('$t$') \n",
    "\n"
   ]
  }
 ],
 "metadata": {
  "kernelspec": {
   "display_name": "Python 3 (ipykernel)",
   "language": "python",
   "name": "python3"
  },
  "language_info": {
   "codemirror_mode": {
    "name": "ipython",
    "version": 3
   },
   "file_extension": ".py",
   "mimetype": "text/x-python",
   "name": "python",
   "nbconvert_exporter": "python",
   "pygments_lexer": "ipython3",
   "version": "3.8.8"
  }
 },
 "nbformat": 4,
 "nbformat_minor": 5
}
